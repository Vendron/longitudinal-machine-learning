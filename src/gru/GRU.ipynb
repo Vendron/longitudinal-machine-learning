{
 "cells": [
  {
   "cell_type": "code",
   "execution_count": null,
   "metadata": {},
   "outputs": [],
   "source": [
    "import numpy as np\n",
    "import pandas as pd\n",
    "from sklearn.model_selection import train_test_split\n",
    "from sklearn.preprocessing import StandardScaler\n",
    "import torch\n",
    "from torch.nn import Module, GRU, Dropout, Linear, Sigmoid, BCEWithLogitsLoss\n",
    "from torch.optim import Adam\n",
    "from torch.utils.data import DataLoader, TensorDataset\n",
    "from sklearn.metrics import precision_score, recall_score, f1_score, confusion_matrix, roc_auc_score, auc, precision_recall_curve, classification_report\n"
   ]
  },
  {
   "cell_type": "code",
   "execution_count": null,
   "metadata": {},
   "outputs": [],
   "source": [
    "# Constants\n",
    "DATASET_PATH = \"../../data/<>_dataset.csv\"\n",
    "TARGET_NAME = DATASET_PATH.split(\"/\")[-1].split(\"_\")[0]\n",
    "TARGET_CLASS = \"class_\" + TARGET_NAME + \"_w8\"\n",
    "\n",
    "LEARNING_RATE = 0.001\n",
    "MAX_EPOCHS = 100\n",
    "BATCH_SIZE = 32\n",
    "BIDIRECTIONAL = True\n",
    "DROPOUT = 0.5\n",
    "GRU_UNITS = 100\n",
    "DENSE_UNITS = 1\n",
    "ACTIVATION = 'sigmoid'\n",
    "LOSS = BCEWithLogitsLoss()\n",
    "VALIDATION_SPLIT = 0.1\n",
    "NUM_LAYERS = 2\n",
    "TEST_SIZE = 0.1\n",
    "\n",
    "print(f\"Dataset: {DATASET_PATH}\")\n",
    "print(f\"Target: {TARGET_NAME}\")\n",
    "print(f\"Target class: {TARGET_CLASS}\")"
   ]
  },
  {
   "cell_type": "code",
   "execution_count": null,
   "metadata": {},
   "outputs": [],
   "source": [
    "data = pd.read_csv(DATASET_PATH)\n",
    "data.replace('?', np.nan, inplace=True)\n",
    "data = data.apply(pd.to_numeric, errors='coerce')\n",
    "data.fillna(0, inplace=True)"
   ]
  },
  {
   "cell_type": "code",
   "execution_count": null,
   "metadata": {},
   "outputs": [],
   "source": [
    "target_wave_suffix = TARGET_CLASS.split('_')[-1]\n",
    "target_wave_number = int(target_wave_suffix[1:])\n",
    "print(f\"Target wave number: {target_wave_number}\")\n",
    "print(f\"Target wave suffix: {target_wave_suffix}\")\n",
    "\n",
    "# Remove class variables except the target wave\n",
    "class_vars_to_remove = [col for col in data.columns if col.startswith(\"class_\") and TARGET_CLASS not in col]\n",
    "features_to_remove = [col for col in data.columns if any(col.endswith(f'w{wave}') for wave in range(target_wave_number + 1, 9))]\n",
    "\n",
    "# Combine lists to remove both class variables and features from later waves\n",
    "columns_to_remove = class_vars_to_remove + features_to_remove\n",
    "\n",
    "data_copy = data.drop(columns=columns_to_remove)\n",
    "print(f\"Removed class variables: {class_vars_to_remove}\")\n",
    "print(f\"Removed columns: {columns_to_remove}\")"
   ]
  },
  {
   "cell_type": "code",
   "execution_count": null,
   "metadata": {},
   "outputs": [],
   "source": [
    "# Separate features and target variable\n",
    "X = data_copy.drop(columns=[TARGET_CLASS])\n",
    "y = data_copy[TARGET_CLASS]\n",
    "print(f\"X shape: {X.shape}\")\n",
    "print(f\"y shape: {y.shape}\")"
   ]
  },
  {
   "cell_type": "code",
   "execution_count": null,
   "metadata": {},
   "outputs": [],
   "source": [
    "# Normalize the data\n",
    "scaler = StandardScaler()\n",
    "X_scaled = scaler.fit_transform(X)"
   ]
  },
  {
   "cell_type": "code",
   "execution_count": null,
   "metadata": {},
   "outputs": [],
   "source": [
    "# Identify features by wave\n",
    "column_names = X.columns\n",
    "wave_identifiers = sorted(set(col.split('_')[-1] for col in column_names if col != 'sex' and col != 'indager_wave8' and col != 'dheas_wave4' and col != 'apoe_wave2'))\n",
    "non_longitudinal_features = [col for col in column_names if not col.endswith('w1') and not col.endswith('w2') and not col.endswith('w3') and not col.endswith('w4') and not col.endswith('w5') and not col.endswith('w6') and not col.endswith('w7') and not col.endswith('w8')]\n",
    "\n",
    "print(f\"Wave identifiers: {wave_identifiers}\")\n",
    "print(non_longitudinal_features)"
   ]
  },
  {
   "cell_type": "code",
   "execution_count": null,
   "metadata": {},
   "outputs": [],
   "source": [
    "# Group features by waves\n",
    "features_by_wave = {wave: [] for wave in wave_identifiers}\n",
    "for col in column_names:\n",
    "    if col not in non_longitudinal_features:\n",
    "        wave = col.split('_')[-1]\n",
    "        features_by_wave[wave].append(col)        "
   ]
  },
  {
   "cell_type": "code",
   "execution_count": null,
   "metadata": {},
   "outputs": [],
   "source": [
    "# Prepare data for RNN\n",
    "n_samples = X_scaled.shape[0]\n",
    "n_timesteps = len(wave_identifiers)\n",
    "n_features_per_wave = {wave: len(features) for wave, features in features_by_wave.items()}\n",
    "max_features = max(n_features_per_wave.values())\n",
    "\n",
    "print(f\"Number of samples: {n_samples}\")\n",
    "print(f\"Number of waves: {n_timesteps}\")\n",
    "print(f\"Wave identifiers: {wave_identifiers}\")\n",
    "print(f\"Number of features per wave: {n_features_per_wave}\")"
   ]
  },
  {
   "cell_type": "code",
   "execution_count": null,
   "metadata": {},
   "outputs": [],
   "source": [
    "# Reshape data without non-longitudinal features\n",
    "X_reshaped = np.zeros((n_samples, n_timesteps, max_features))\n",
    "for i, wave in enumerate(wave_identifiers):\n",
    "    wave_features = features_by_wave[wave]\n",
    "    indices = [column_names.get_loc(f) for f in wave_features]\n",
    "    X_reshaped[:, i, :len(indices)] = X_scaled[:, indices]\n",
    "    print(f\"Wave {wave} features: {wave_features}\")\n",
    "print(f\"X reshaped shape: {X_reshaped.shape}\")"
   ]
  },
  {
   "cell_type": "code",
   "execution_count": null,
   "metadata": {},
   "outputs": [],
   "source": [
    "# Split data\n",
    "X_train, X_test, y_train, y_test = train_test_split(X_reshaped, y, test_size=TEST_SIZE, random_state=42)\n",
    "\n",
    "# PyTorch Dataset and DataLoader\n",
    "train_dataset = TensorDataset(torch.tensor(X_train, dtype=torch.float32), torch.tensor(y_train.values, dtype=torch.float32))\n",
    "test_dataset = TensorDataset(torch.tensor(X_test, dtype=torch.float32), torch.tensor(y_test.values, dtype=torch.float32))\n",
    "\n",
    "train_loader = DataLoader(train_dataset, batch_size=BATCH_SIZE, shuffle=True)\n",
    "test_loader = DataLoader(test_dataset, batch_size=BATCH_SIZE, shuffle=False)"
   ]
  },
  {
   "cell_type": "code",
   "execution_count": null,
   "metadata": {},
   "outputs": [],
   "source": [
    "print(f\"X shape: {X_train.shape}\")\n",
    "print(f\"y shape: {y_train.shape}\")\n",
    "print(f\"Wave identifiers: {wave_identifiers}\")\n",
    "print(f\"Number of features per wave: {n_features_per_wave}\")"
   ]
  },
  {
   "cell_type": "code",
   "execution_count": null,
   "metadata": {},
   "outputs": [],
   "source": [
    "class GRUModel(Module):\n",
    "    def __init__(self, input_dim, hidden_dim, output_dim, n_layers, bidirectional=False, dropout=0.0):\n",
    "        super(GRUModel, self).__init__()\n",
    "        if n_layers > 1:\n",
    "            self.gru = GRU(input_dim, hidden_dim, n_layers, batch_first=True, bidirectional=bidirectional, dropout=dropout)\n",
    "        else:\n",
    "            self.gru = GRU(input_dim, hidden_dim, n_layers, batch_first=True, bidirectional=bidirectional)\n",
    "        \n",
    "        self.dropout = Dropout(dropout) if dropout > 0 else None\n",
    "        direction_factor = 2 if bidirectional else 1\n",
    "        self.fc = Linear(hidden_dim * direction_factor, output_dim)\n",
    "        self.sigmoid = Sigmoid()\n",
    "\n",
    "    def forward(self, x):\n",
    "        h_gru, _ = self.gru(x)\n",
    "        if self.dropout is not None:\n",
    "            h_gru = self.dropout(h_gru[:, -1, :])  # Apply dropout only if defined\n",
    "        else:\n",
    "            h_gru = h_gru[:, -1, :]  # Take the last output from the GRU\n",
    "        out = self.fc(h_gru)\n",
    "        out = self.sigmoid(out)\n",
    "        return out"
   ]
  },
  {
   "cell_type": "code",
   "execution_count": null,
   "metadata": {},
   "outputs": [],
   "source": [
    "device = torch.device(\"cuda\" if torch.cuda.is_available() else \"cpu\")\n",
    "input_dim = X_train.shape[2]\n",
    "hidden_dim = GRU_UNITS\n",
    "output_dim = DENSE_UNITS\n",
    "n_layers = NUM_LAYERS\n",
    "\n",
    "model = GRUModel(input_dim, hidden_dim, output_dim, n_layers, BIDIRECTIONAL, DROPOUT).to(device)\n",
    "criterion = LOSS\n",
    "optimizer = Adam(model.parameters(), lr=LEARNING_RATE)"
   ]
  },
  {
   "cell_type": "code",
   "execution_count": null,
   "metadata": {},
   "outputs": [],
   "source": [
    "# Training function\n",
    "def train_model(model, train_loader, criterion, optimizer, n_epochs, device):\n",
    "    model.train()\n",
    "    for epoch in range(n_epochs):\n",
    "        running_loss = 0.0\n",
    "        for X_batch, y_batch in train_loader:\n",
    "            X_batch, y_batch = X_batch.to(device), y_batch.to(device)\n",
    "            optimizer.zero_grad()\n",
    "            y_pred = model(X_batch)\n",
    "            loss = criterion(y_pred.squeeze(), y_batch)\n",
    "            loss.backward()\n",
    "            optimizer.step()\n",
    "            running_loss += loss.item() * X_batch.size(0)\n",
    "        epoch_loss = running_loss / len(train_loader.dataset)\n",
    "        # Print loss for monitoring\n",
    "        print(f\"Epoch {epoch+1}/{n_epochs}, Loss: {epoch_loss:.4f}\")"
   ]
  },
  {
   "cell_type": "code",
   "execution_count": null,
   "metadata": {},
   "outputs": [],
   "source": [
    "# Evaluation function\n",
    "def evaluate_model(model, test_loader, device):\n",
    "    model.eval()\n",
    "    y_true = []\n",
    "    y_pred = []\n",
    "    \n",
    "    with torch.no_grad(): \n",
    "        for X_batch, y_batch in test_loader:\n",
    "            X_batch, y_batch = X_batch.to(device), y_batch.to(device)\n",
    "            y_true.extend(y_batch.cpu().numpy())\n",
    "            y_pred_batch = model(X_batch)\n",
    "            y_pred.extend(y_pred_batch.cpu().numpy())\n",
    "\n",
    "    y_pred = np.array(y_pred).squeeze()\n",
    "    \n",
    "    # Convert predictions to binary values\n",
    "    y_pred_binary = (y_pred > 0.5).astype(int)\n",
    "    \n",
    "    # Calculate metrics using binary predictions\n",
    "    precision = precision_score(y_true, y_pred_binary)\n",
    "    recall = recall_score(y_true, y_pred_binary)\n",
    "    f1 = f1_score(y_true, y_pred_binary)\n",
    "    \n",
    "    # ROC-AUC and Precision-Recall AUC use the continuous y_pred\n",
    "    roc_auc = roc_auc_score(y_true, y_pred)\n",
    "    precision_curve, recall_curve, _ = precision_recall_curve(y_true, y_pred)\n",
    "    auprc = auc(recall_curve, precision_curve)\n",
    "    \n",
    "    report = classification_report(y_true, y_pred_binary)\n",
    "    conf_matrix = confusion_matrix(y_true, y_pred_binary)\n",
    "\n",
    "    print(f'Test Precision: {precision:.4f}')\n",
    "    print(f'Test Recall: {recall:.4f}')\n",
    "    print(f'Test F1 Score: {f1:.4f}')\n",
    "    print(f'Test ROC-AUC Score: {roc_auc:.4f}')\n",
    "    print(f'Test AUPRC Score: {auprc:.4f}')\n",
    "    print(f'Confusion Matrix:\\n{conf_matrix}')\n",
    "    print(f'Classification Report:\\n{report}')\n",
    "    return y_true, y_pred"
   ]
  },
  {
   "cell_type": "code",
   "execution_count": null,
   "metadata": {},
   "outputs": [],
   "source": [
    "# Train and evaluate the model\n",
    "print(\"Training model...\")\n",
    "print(f\"Dataset: {DATASET_PATH}\")\n",
    "train_model(model, train_loader, criterion, optimizer, MAX_EPOCHS, device)\n",
    "evaluate_model(model, test_loader, device)"
   ]
  }
 ],
 "metadata": {
  "kernelspec": {
   "display_name": "Python 3",
   "language": "python",
   "name": "python3"
  },
  "language_info": {
   "codemirror_mode": {
    "name": "ipython",
    "version": 3
   },
   "file_extension": ".py",
   "mimetype": "text/x-python",
   "name": "python",
   "nbconvert_exporter": "python",
   "pygments_lexer": "ipython3",
   "version": "3.10.0"
  }
 },
 "nbformat": 4,
 "nbformat_minor": 2
}
