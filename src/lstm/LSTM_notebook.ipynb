{
 "cells": [
  {
   "cell_type": "code",
   "execution_count": 186,
   "metadata": {},
   "outputs": [],
   "source": [
    "import numpy as np\n",
    "import pandas as pd\n",
    "from sklearn.model_selection import train_test_split\n",
    "from sklearn.preprocessing import StandardScaler\n",
    "import torch\n",
    "from torch.nn import Module, LSTM, Dropout, Linear, Sigmoid, BCEWithLogitsLoss\n",
    "from torch.optim import Adam\n",
    "from torch.utils.data import DataLoader, TensorDataset\n",
    "from sklearn.metrics import precision_score, recall_score, f1_score, confusion_matrix, roc_auc_score, auc, precision_recall_curve, classification_report\n"
   ]
  },
  {
   "cell_type": "code",
   "execution_count": 187,
   "metadata": {},
   "outputs": [
    {
     "name": "stdout",
     "output_type": "stream",
     "text": [
      "Dataset: ./arthritis_dataset.csv\n",
      "Target: arthritis\n",
      "Target class: class_arthritis_w8\n"
     ]
    }
   ],
   "source": [
    "# Constants\n",
    "DATASET_PATH = \"./vehicle_dataset.csv\"\n",
    "TARGET_NAME = DATASET_PATH.split(\"/\")[-1].split(\"_\")[0]\n",
    "TARGET_CLASS = \"class_\" + TARGET_NAME + \"_w8\"\n",
    "\n",
    "LEARNING_RATE = 0.001\n",
    "MAX_EPOCHS = 100\n",
    "BATCH_SIZE = 64\n",
    "BIDIRECTIONAL = True\n",
    "DROPOUT = 0.5\n",
    "LSTM_UNITS = 100\n",
    "DENSE_UNITS = 1\n",
    "ACTIVATION = 'sigmoid'\n",
    "LOSS = BCEWithLogitsLoss()\n",
    "METRICS = ['accuracy']\n",
    "VALIDATION_SPLIT = 0.1\n",
    "PATIENCE = 10\n",
    "NUM_LAYERS = 2\n",
    "TEST_SIZE = 0.1\n",
    "\n",
    "print(f\"Dataset: {DATASET_PATH}\")\n",
    "print(f\"Target: {TARGET_NAME}\")\n",
    "print(f\"Target class: {TARGET_CLASS}\")"
   ]
  },
  {
   "cell_type": "code",
   "execution_count": 188,
   "metadata": {},
   "outputs": [],
   "source": [
    "data = pd.read_csv(DATASET_PATH)\n",
    "data.replace('?', np.nan, inplace=True)\n",
    "data = data.apply(pd.to_numeric, errors='coerce')\n",
    "data.fillna(data.mean(), inplace=True)"
   ]
  },
  {
   "cell_type": "code",
   "execution_count": 189,
   "metadata": {},
   "outputs": [
    {
     "name": "stdout",
     "output_type": "stream",
     "text": [
      "Removed class variables: ['class_arthritis_w3', 'class_arthritis_w4', 'class_arthritis_w5', 'class_arthritis_w6', 'class_arthritis_w7']\n"
     ]
    }
   ],
   "source": [
    "# Remove class variables except the target for wave 8\n",
    "class_vars_to_remove = [col for col in data.columns if f\"class_{TARGET_NAME}_w\" in col and TARGET_CLASS not in col]\n",
    "data_copy = data.drop(columns=class_vars_to_remove)\n",
    "print(f\"Removed class variables: {class_vars_to_remove}\")"
   ]
  },
  {
   "cell_type": "code",
   "execution_count": 190,
   "metadata": {},
   "outputs": [
    {
     "name": "stdout",
     "output_type": "stream",
     "text": [
      "X shape: (7097, 140)\n",
      "y shape: (7097,)\n"
     ]
    }
   ],
   "source": [
    "# Separate features and target variable\n",
    "X = data_copy.drop(columns=[TARGET_CLASS])\n",
    "y = data_copy[TARGET_CLASS]\n",
    "print(f\"X shape: {X.shape}\")\n",
    "print(f\"y shape: {y.shape}\")"
   ]
  },
  {
   "cell_type": "code",
   "execution_count": 191,
   "metadata": {},
   "outputs": [],
   "source": [
    "# Normalize the data\n",
    "# scaler = StandardScaler()\n",
    "# X = data_copy.drop(columns=[TARGET_CLASS])\n",
    "# y = data_copy[TARGET_CLASS]\n",
    "# X_scaled = scaler.fit_transform(X)\n",
    "scaler = StandardScaler()\n",
    "X_scaled = scaler.fit_transform(X)"
   ]
  },
  {
   "cell_type": "code",
   "execution_count": 192,
   "metadata": {},
   "outputs": [
    {
     "name": "stdout",
     "output_type": "stream",
     "text": [
      "Wave identifiers: ['w2', 'w4', 'w6', 'w8']\n",
      "['sex', 'indager_wave8', 'dheas_wave4', 'apoe_wave2']\n"
     ]
    }
   ],
   "source": [
    "# Identify features by wave\n",
    "column_names = X.columns\n",
    "wave_identifiers = sorted(set(col.split('_')[-1] for col in column_names if col != 'sex' and col != 'indager_wave8' and col != 'dheas_wave4' and col != 'apoe_wave2'))\n",
    "non_longitudinal_features = ['sex', 'indager_wave8', 'dheas_wave4', 'apoe_wave2']\n",
    "\n",
    "print(f\"Wave identifiers: {wave_identifiers}\")\n",
    "print(non_longitudinal_features)"
   ]
  },
  {
   "cell_type": "code",
   "execution_count": 193,
   "metadata": {},
   "outputs": [
    {
     "name": "stdout",
     "output_type": "stream",
     "text": [
      "w2 bmiobe_w2\n",
      "w4 bmiobe_w4\n",
      "w6 bmiobe_w6\n",
      "w2 cfib_w2\n",
      "w4 cfib_w4\n",
      "w6 cfib_w6\n",
      "w8 cfib_w8\n",
      "w2 chestin_w2\n",
      "w4 chestin_w4\n",
      "w6 chestin_w6\n",
      "w2 chol_w2\n",
      "w4 chol_w4\n",
      "w6 chol_w6\n",
      "w8 chol_w8\n",
      "w2 clotb_w2\n",
      "w4 clotb_w4\n",
      "w6 clotb_w6\n",
      "w8 clotb_w8\n",
      "w2 diaval_w2\n",
      "w4 diaval_w4\n",
      "w6 diaval_w6\n",
      "w8 diaval_w8\n",
      "w2 eyesurg_w2\n",
      "w4 eyesurg_w4\n",
      "w6 eyesurg_w6\n",
      "w2 fglu_w2\n",
      "w4 fglu_w4\n",
      "w6 fglu_w6\n",
      "w8 fglu_w8\n",
      "w2 hastro_w2\n",
      "w4 hastro_w4\n",
      "w6 hastro_w6\n",
      "w2 hasurg_w2\n",
      "w4 hasurg_w4\n",
      "w6 hasurg_w6\n",
      "w2 hba1c_w2\n",
      "w4 hba1c_w4\n",
      "w6 hba1c_w6\n",
      "w8 hba1c_w8\n",
      "w2 hdl_w2\n",
      "w4 hdl_w4\n",
      "w6 hdl_w6\n",
      "w8 hdl_w8\n",
      "w2 hgb_w2\n",
      "w4 hgb_w4\n",
      "w6 hgb_w6\n",
      "w8 hgb_w8\n",
      "w2 hipval_w2\n",
      "w4 hipval_w4\n",
      "w2 hscrp_w2\n",
      "w4 hscrp_w4\n",
      "w6 hscrp_w6\n",
      "w8 hscrp_w8\n",
      "w2 htfev_w2\n",
      "w4 htfev_w4\n",
      "w6 htfev_w6\n",
      "w2 htfvc_w2\n",
      "w4 htfvc_w4\n",
      "w6 htfvc_w6\n",
      "w2 htpf_w2\n",
      "w4 htpf_w4\n",
      "w2 htval_w2\n",
      "w4 htval_w4\n",
      "w6 htval_w6\n",
      "w4 igf1_w4\n",
      "w6 igf1_w6\n",
      "w8 igf1_w8\n",
      "w2 ldl_w2\n",
      "w4 ldl_w4\n",
      "w6 ldl_w6\n",
      "w8 ldl_w8\n",
      "w2 mapval_w2\n",
      "w4 mapval_w4\n",
      "w6 mapval_w6\n",
      "w8 mapval_w8\n",
      "w4 mch_w4\n",
      "w6 mch_w6\n",
      "w8 mch_w8\n",
      "w2 mmcrre_w2\n",
      "w4 mmcrre_w4\n",
      "w6 mmcrre_w6\n",
      "w2 mmftre2_w2\n",
      "w4 mmftre2_w4\n",
      "w6 mmftre2_w6\n",
      "w2 mmgsdavg_w2\n",
      "w4 mmgsdavg_w4\n",
      "w6 mmgsdavg_w6\n",
      "w8 mmgsdavg_w8\n",
      "w2 mmgsnavg_w2\n",
      "w4 mmgsnavg_w4\n",
      "w6 mmgsnavg_w6\n",
      "w8 mmgsnavg_w8\n",
      "w2 mmlore_w2\n",
      "w4 mmlore_w4\n",
      "w6 mmlore_w6\n",
      "w2 mmlsre_w2\n",
      "w4 mmlsre_w4\n",
      "w6 mmlsre_w6\n",
      "w2 mmrroc_w2\n",
      "w4 mmrroc_w4\n",
      "w6 mmrroc_w6\n",
      "w2 mmssre_w2\n",
      "w4 mmssre_w4\n",
      "w6 mmssre_w6\n",
      "w2 mmstre_w2\n",
      "w4 mmstre_w4\n",
      "w6 mmstre_w6\n",
      "w2 pulval_w2\n",
      "w4 pulval_w4\n",
      "w6 pulval_w6\n",
      "w8 pulval_w8\n",
      "w2 rtin_w2\n",
      "w4 rtin_w4\n",
      "w6 rtin_w6\n",
      "w8 rtin_w8\n",
      "w2 sysval_w2\n",
      "w4 sysval_w4\n",
      "w6 sysval_w6\n",
      "w8 sysval_w8\n",
      "w2 trig_w2\n",
      "w4 trig_w4\n",
      "w6 trig_w6\n",
      "w8 trig_w8\n",
      "w6 vitd_w6\n",
      "w8 vitd_w8\n",
      "w4 wbc_w4\n",
      "w6 wbc_w6\n",
      "w8 wbc_w8\n",
      "w2 whval_w2\n",
      "w4 whval_w4\n",
      "w2 wstval_w2\n",
      "w4 wstval_w4\n",
      "w6 wstval_w6\n",
      "w2 wtval_w2\n",
      "w4 wtval_w4\n",
      "w6 wtval_w6\n"
     ]
    }
   ],
   "source": [
    "# Group features by waves\n",
    "features_by_wave = {wave: [] for wave in wave_identifiers}\n",
    "for col in column_names:\n",
    "    if col not in non_longitudinal_features:\n",
    "        wave = col.split('_')[-1]\n",
    "        features_by_wave[wave].append(col)\n",
    "        print(wave, col)"
   ]
  },
  {
   "cell_type": "code",
   "execution_count": 194,
   "metadata": {},
   "outputs": [
    {
     "name": "stdout",
     "output_type": "stream",
     "text": [
      "Number of samples: 7097\n",
      "Number of waves: 4\n",
      "Wave identifiers: ['w2', 'w4', 'w6', 'w8']\n",
      "Number of features per wave: {'w2': 37, 'w4': 40, 'w6': 38, 'w8': 21}\n"
     ]
    }
   ],
   "source": [
    "# Prepare data for RNN\n",
    "n_samples = X_scaled.shape[0]\n",
    "n_timesteps = len(wave_identifiers)\n",
    "n_features_per_wave = {wave: len(features) for wave, features in features_by_wave.items()}\n",
    "max_features = max(n_features_per_wave.values())\n",
    "\n",
    "print(f\"Number of samples: {n_samples}\")\n",
    "print(f\"Number of waves: {n_timesteps}\")\n",
    "print(f\"Wave identifiers: {wave_identifiers}\")\n",
    "print(f\"Number of features per wave: {n_features_per_wave}\")"
   ]
  },
  {
   "cell_type": "code",
   "execution_count": 195,
   "metadata": {},
   "outputs": [
    {
     "name": "stdout",
     "output_type": "stream",
     "text": [
      "X reshaped shape: (7097, 4, 40)\n"
     ]
    }
   ],
   "source": [
    "# Reshape data without non-longitudinal features\n",
    "X_reshaped = np.zeros((n_samples, n_timesteps, max_features))\n",
    "for i, wave in enumerate(wave_identifiers):\n",
    "    wave_features = features_by_wave[wave]\n",
    "    indices = [column_names.get_loc(f) for f in wave_features]\n",
    "    X_reshaped[:, i, :len(indices)] = X_scaled[:, indices]\n",
    "print(f\"X reshaped shape: {X_reshaped.shape}\")"
   ]
  },
  {
   "cell_type": "code",
   "execution_count": 196,
   "metadata": {},
   "outputs": [],
   "source": [
    "# Add non-longitudinal features to every timestep\n",
    "for feature in non_longitudinal_features:\n",
    "    feature_index = column_names.get_loc(feature)\n",
    "    expanded_features = np.repeat(X_scaled[:, feature_index][:, np.newaxis], n_timesteps, axis=1)\n",
    "    X_reshaped[:, :, -len(non_longitudinal_features) + non_longitudinal_features.index(feature)] = expanded_features\n"
   ]
  },
  {
   "cell_type": "code",
   "execution_count": 197,
   "metadata": {},
   "outputs": [],
   "source": [
    "# Split data\n",
    "X_train, X_test, y_train, y_test = train_test_split(X_reshaped, y, test_size=TEST_SIZE, random_state=42)\n",
    "\n",
    "# PyTorch Dataset and DataLoader\n",
    "train_dataset = TensorDataset(torch.tensor(X_train, dtype=torch.float32), torch.tensor(y_train.values, dtype=torch.float32))\n",
    "test_dataset = TensorDataset(torch.tensor(X_test, dtype=torch.float32), torch.tensor(y_test.values, dtype=torch.float32))\n",
    "\n",
    "train_loader = DataLoader(train_dataset, batch_size=BATCH_SIZE, shuffle=True)\n",
    "test_loader = DataLoader(test_dataset, batch_size=BATCH_SIZE, shuffle=False)"
   ]
  },
  {
   "cell_type": "code",
   "execution_count": 198,
   "metadata": {},
   "outputs": [
    {
     "name": "stdout",
     "output_type": "stream",
     "text": [
      "X shape: (6387, 4, 40)\n",
      "y shape: (6387,)\n",
      "Wave identifiers: ['w2', 'w4', 'w6', 'w8']\n",
      "Number of features per wave: {'w2': 37, 'w4': 40, 'w6': 38, 'w8': 21}\n"
     ]
    }
   ],
   "source": [
    "print(f\"X shape: {X_train.shape}\")\n",
    "print(f\"y shape: {y_train.shape}\")\n",
    "print(f\"Wave identifiers: {wave_identifiers}\")\n",
    "print(f\"Number of features per wave: {n_features_per_wave}\")"
   ]
  },
  {
   "cell_type": "code",
   "execution_count": 199,
   "metadata": {},
   "outputs": [],
   "source": [
    "class LSTMModel(Module):\n",
    "    def __init__(self, input_dim, hidden_dim, output_dim, n_layers, bidirectional=False, dropout=0.2):\n",
    "        super(LSTMModel, self).__init__()\n",
    "        self.lstm = LSTM(input_dim, hidden_dim, n_layers, batch_first=True, bidirectional=bidirectional, dropout=dropout)\n",
    "        self.dropout = Dropout(dropout)\n",
    "        direction_factor = 2 if bidirectional else 1\n",
    "        self.fc = Linear(hidden_dim * direction_factor, output_dim)\n",
    "        self.sigmoid = Sigmoid()\n",
    "\n",
    "    def forward(self, x):\n",
    "        h_lstm, _ = self.lstm(x)\n",
    "        h_lstm = self.dropout(h_lstm[:, -1, :])  # Get the output of the last LSTM cell\n",
    "        out = self.fc(h_lstm)\n",
    "        out = self.sigmoid(out)\n",
    "        return out"
   ]
  },
  {
   "cell_type": "code",
   "execution_count": 200,
   "metadata": {},
   "outputs": [],
   "source": [
    "device = torch.device(\"cuda\" if torch.cuda.is_available() else \"cpu\")\n",
    "input_dim = X_train.shape[2]\n",
    "hidden_dim = LSTM_UNITS\n",
    "output_dim = DENSE_UNITS\n",
    "n_layers = NUM_LAYERS\n",
    "\n",
    "model = LSTMModel(input_dim, hidden_dim, output_dim, n_layers, BIDIRECTIONAL, DROPOUT).to(device)\n",
    "criterion = LOSS\n",
    "optimizer = Adam(model.parameters(), lr=LEARNING_RATE)"
   ]
  },
  {
   "cell_type": "code",
   "execution_count": 201,
   "metadata": {},
   "outputs": [],
   "source": [
    "# Training function\n",
    "def train_model(model, train_loader, criterion, optimizer, n_epochs, device):\n",
    "    model.train()\n",
    "    for epoch in range(n_epochs):\n",
    "        running_loss = 0.0\n",
    "        for X_batch, y_batch in train_loader:\n",
    "            X_batch, y_batch = X_batch.to(device), y_batch.to(device)\n",
    "            optimizer.zero_grad()\n",
    "            y_pred = model(X_batch)\n",
    "            loss = criterion(y_pred.squeeze(), y_batch)\n",
    "            loss.backward()\n",
    "            optimizer.step()\n",
    "            running_loss += loss.item() * X_batch.size(0)\n",
    "        epoch_loss = running_loss / len(train_loader.dataset)\n",
    "        print(f\"Epoch {epoch+1}/{n_epochs}, Loss: {epoch_loss:.4f}\")"
   ]
  },
  {
   "cell_type": "code",
   "execution_count": 202,
   "metadata": {},
   "outputs": [],
   "source": [
    "# Evaluation function\n",
    "def evaluate_model(model, test_loader, device):\n",
    "    model.eval()\n",
    "    y_true = []\n",
    "    y_pred = []\n",
    "    with torch.no_grad():\n",
    "        for X_batch, y_batch in test_loader:\n",
    "            X_batch, y_batch = X_batch.to(device), y_batch.to(device)\n",
    "            y_true.extend(y_batch.cpu().numpy())\n",
    "            y_pred_batch = model(X_batch)\n",
    "            y_pred.extend(y_pred_batch.cpu().numpy())\n",
    "\n",
    "    y_pred = np.array(y_pred).squeeze()\n",
    "    y_pred_binary = (y_pred > 0.5).astype(int)\n",
    "    \n",
    "    precision = precision_score(y_true, y_pred_binary)\n",
    "    recall = recall_score(y_true, y_pred_binary)\n",
    "    f1 = f1_score(y_true, y_pred_binary)\n",
    "    roc_auc = roc_auc_score(y_true, y_pred)\n",
    "    precision_curve, recall_curve, thresholds = precision_recall_curve(y_true, y_pred)\n",
    "    auprc = auc(recall_curve, precision_curve)\n",
    "    report = classification_report(y_true, y_pred_binary)\n",
    "    conf_matrix = confusion_matrix(y_true, y_pred_binary)\n",
    "\n",
    "    print(f'Test Precision: {precision:.4f}')\n",
    "    print(f'Test Recall: {recall:.4f}')\n",
    "    print(f'Test F1 Score: {f1:.4f}')\n",
    "    print(f'Test ROC-AUC Score: {roc_auc:.4f}')\n",
    "    print(f'Test AUPRC Score: {auprc:.4f}')\n",
    "    print(f'Confusion Matrix:\\n{conf_matrix}')\n",
    "    print(f'Classification Report:\\n{report}')"
   ]
  },
  {
   "cell_type": "code",
   "execution_count": 203,
   "metadata": {},
   "outputs": [
    {
     "name": "stdout",
     "output_type": "stream",
     "text": [
      "Epoch 1/100, Loss: 0.6891\n",
      "Epoch 2/100, Loss: 0.6821\n",
      "Epoch 3/100, Loss: 0.6766\n",
      "Epoch 4/100, Loss: 0.6764\n",
      "Epoch 5/100, Loss: 0.6735\n",
      "Epoch 6/100, Loss: 0.6698\n",
      "Epoch 7/100, Loss: 0.6669\n",
      "Epoch 8/100, Loss: 0.6653\n",
      "Epoch 9/100, Loss: 0.6644\n",
      "Epoch 10/100, Loss: 0.6623\n",
      "Epoch 11/100, Loss: 0.6610\n",
      "Epoch 12/100, Loss: 0.6588\n",
      "Epoch 13/100, Loss: 0.6604\n",
      "Epoch 14/100, Loss: 0.6554\n",
      "Epoch 15/100, Loss: 0.6532\n",
      "Epoch 16/100, Loss: 0.6530\n",
      "Epoch 17/100, Loss: 0.6518\n",
      "Epoch 18/100, Loss: 0.6519\n",
      "Epoch 19/100, Loss: 0.6472\n",
      "Epoch 20/100, Loss: 0.6441\n",
      "Epoch 21/100, Loss: 0.6469\n",
      "Epoch 22/100, Loss: 0.6455\n",
      "Epoch 23/100, Loss: 0.6412\n",
      "Epoch 24/100, Loss: 0.6409\n",
      "Epoch 25/100, Loss: 0.6388\n",
      "Epoch 26/100, Loss: 0.6373\n",
      "Epoch 27/100, Loss: 0.6388\n",
      "Epoch 28/100, Loss: 0.6379\n",
      "Epoch 29/100, Loss: 0.6378\n",
      "Epoch 30/100, Loss: 0.6379\n",
      "Epoch 31/100, Loss: 0.6356\n",
      "Epoch 32/100, Loss: 0.6347\n",
      "Epoch 33/100, Loss: 0.6322\n",
      "Epoch 34/100, Loss: 0.6336\n",
      "Epoch 35/100, Loss: 0.6330\n",
      "Epoch 36/100, Loss: 0.6326\n",
      "Epoch 37/100, Loss: 0.6304\n",
      "Epoch 38/100, Loss: 0.6313\n",
      "Epoch 39/100, Loss: 0.6273\n",
      "Epoch 40/100, Loss: 0.6271\n",
      "Epoch 41/100, Loss: 0.6286\n",
      "Epoch 42/100, Loss: 0.6282\n",
      "Epoch 43/100, Loss: 0.6271\n",
      "Epoch 44/100, Loss: 0.6255\n",
      "Epoch 45/100, Loss: 0.6266\n",
      "Epoch 46/100, Loss: 0.6277\n",
      "Epoch 47/100, Loss: 0.6253\n",
      "Epoch 48/100, Loss: 0.6254\n",
      "Epoch 49/100, Loss: 0.6257\n",
      "Epoch 50/100, Loss: 0.6243\n",
      "Epoch 51/100, Loss: 0.6240\n",
      "Epoch 52/100, Loss: 0.6248\n",
      "Epoch 53/100, Loss: 0.6235\n",
      "Epoch 54/100, Loss: 0.6212\n",
      "Epoch 55/100, Loss: 0.6198\n",
      "Epoch 56/100, Loss: 0.6199\n",
      "Epoch 57/100, Loss: 0.6201\n",
      "Epoch 58/100, Loss: 0.6196\n",
      "Epoch 59/100, Loss: 0.6191\n",
      "Epoch 60/100, Loss: 0.6185\n",
      "Epoch 61/100, Loss: 0.6189\n",
      "Epoch 62/100, Loss: 0.6195\n",
      "Epoch 63/100, Loss: 0.6196\n",
      "Epoch 64/100, Loss: 0.6210\n",
      "Epoch 65/100, Loss: 0.6202\n",
      "Epoch 66/100, Loss: 0.6174\n",
      "Epoch 67/100, Loss: 0.6172\n",
      "Epoch 68/100, Loss: 0.6203\n",
      "Epoch 69/100, Loss: 0.6184\n",
      "Epoch 70/100, Loss: 0.6173\n",
      "Epoch 71/100, Loss: 0.6177\n",
      "Epoch 72/100, Loss: 0.6177\n",
      "Epoch 73/100, Loss: 0.6167\n",
      "Epoch 74/100, Loss: 0.6181\n",
      "Epoch 75/100, Loss: 0.6151\n",
      "Epoch 76/100, Loss: 0.6141\n",
      "Epoch 77/100, Loss: 0.6146\n",
      "Epoch 78/100, Loss: 0.6134\n",
      "Epoch 79/100, Loss: 0.6130\n",
      "Epoch 80/100, Loss: 0.6137\n",
      "Epoch 81/100, Loss: 0.6124\n",
      "Epoch 82/100, Loss: 0.6128\n",
      "Epoch 83/100, Loss: 0.6122\n",
      "Epoch 84/100, Loss: 0.6107\n",
      "Epoch 85/100, Loss: 0.6106\n",
      "Epoch 86/100, Loss: 0.6109\n",
      "Epoch 87/100, Loss: 0.6126\n",
      "Epoch 88/100, Loss: 0.6142\n",
      "Epoch 89/100, Loss: 0.6128\n",
      "Epoch 90/100, Loss: 0.6116\n",
      "Epoch 91/100, Loss: 0.6123\n",
      "Epoch 92/100, Loss: 0.6119\n",
      "Epoch 93/100, Loss: 0.6109\n",
      "Epoch 94/100, Loss: 0.6094\n",
      "Epoch 95/100, Loss: 0.6113\n",
      "Epoch 96/100, Loss: 0.6114\n",
      "Epoch 97/100, Loss: 0.6108\n",
      "Epoch 98/100, Loss: 0.6115\n",
      "Epoch 99/100, Loss: 0.6112\n",
      "Epoch 100/100, Loss: 0.6104\n",
      "Test Precision: 0.6158\n",
      "Test Recall: 0.3645\n",
      "Test F1 Score: 0.4580\n",
      "Test ROC-AUC Score: 0.6600\n",
      "Test AUPRC Score: 0.6172\n",
      "Confusion Matrix:\n",
      "[[343  68]\n",
      " [190 109]]\n",
      "Classification Report:\n",
      "              precision    recall  f1-score   support\n",
      "\n",
      "         0.0       0.64      0.83      0.73       411\n",
      "         1.0       0.62      0.36      0.46       299\n",
      "\n",
      "    accuracy                           0.64       710\n",
      "   macro avg       0.63      0.60      0.59       710\n",
      "weighted avg       0.63      0.64      0.61       710\n",
      "\n"
     ]
    }
   ],
   "source": [
    "# Training the model\n",
    "train_model(model, train_loader, criterion, optimizer, MAX_EPOCHS, device)\n",
    "evaluate_model(model, test_loader, device)"
   ]
  }
 ],
 "metadata": {
  "kernelspec": {
   "display_name": "Python 3",
   "language": "python",
   "name": "python3"
  },
  "language_info": {
   "codemirror_mode": {
    "name": "ipython",
    "version": 3
   },
   "file_extension": ".py",
   "mimetype": "text/x-python",
   "name": "python",
   "nbconvert_exporter": "python",
   "pygments_lexer": "ipython3",
   "version": "3.10.0"
  }
 },
 "nbformat": 4,
 "nbformat_minor": 2
}
