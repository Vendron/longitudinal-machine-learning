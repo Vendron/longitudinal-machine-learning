{
 "cells": [
  {
   "cell_type": "code",
   "execution_count": 262,
   "metadata": {},
   "outputs": [],
   "source": [
    "import numpy as np\n",
    "import pandas as pd\n",
    "from sklearn.model_selection import train_test_split\n",
    "from sklearn.preprocessing import StandardScaler\n",
    "import torch\n",
    "from torch.nn import Module, LSTM, Dropout, Linear, Sigmoid, BCEWithLogitsLoss\n",
    "from torch.optim import Adam\n",
    "from torch.utils.data import DataLoader, TensorDataset\n",
    "from sklearn.metrics import precision_score, recall_score, f1_score, confusion_matrix, roc_auc_score, auc, precision_recall_curve, classification_report\n"
   ]
  },
  {
   "cell_type": "code",
   "execution_count": 263,
   "metadata": {},
   "outputs": [
    {
     "name": "stdout",
     "output_type": "stream",
     "text": [
      "Dataset: ./hbp_dataset.csv\n",
      "Target: hbp\n",
      "Target class: class_hbp_w8\n"
     ]
    }
   ],
   "source": [
    "# Constants\n",
    "DATASET_PATH = \"./hbp_dataset.csv\"\n",
    "TARGET_NAME = DATASET_PATH.split(\"/\")[-1].split(\"_\")[0]\n",
    "TARGET_CLASS = \"class_\" + TARGET_NAME + \"_w8\"\n",
    "\n",
    "LEARNING_RATE = 0.001\n",
    "MAX_EPOCHS = 100\n",
    "BATCH_SIZE = 32\n",
    "BIDIRECTIONAL = True\n",
    "DROPOUT = 0.5\n",
    "LSTM_UNITS = 100\n",
    "DENSE_UNITS = 1\n",
    "ACTIVATION = 'sigmoid'\n",
    "LOSS = BCEWithLogitsLoss()\n",
    "METRICS = ['accuracy']\n",
    "VALIDATION_SPLIT = 0.1\n",
    "PATIENCE = 10\n",
    "NUM_LAYERS = 2\n",
    "TEST_SIZE = 0.1\n",
    "\n",
    "print(f\"Dataset: {DATASET_PATH}\")\n",
    "print(f\"Target: {TARGET_NAME}\")\n",
    "print(f\"Target class: {TARGET_CLASS}\")"
   ]
  },
  {
   "cell_type": "code",
   "execution_count": 265,
   "metadata": {},
   "outputs": [],
   "source": [
    "data = pd.read_csv(DATASET_PATH)\n",
    "data.replace('?', np.nan, inplace=True)\n",
    "data = data.apply(pd.to_numeric, errors='coerce')\n",
    "data.fillna(0, inplace=True)"
   ]
  },
  {
   "cell_type": "code",
   "execution_count": 266,
   "metadata": {},
   "outputs": [
    {
     "name": "stdout",
     "output_type": "stream",
     "text": [
      "Target wave number: 8\n",
      "Target wave suffix: w8\n",
      "Removed class variables: ['class_hbp_w3', 'class_hbp_w4', 'class_hbp_w5', 'class_hbp_w6', 'class_hbp_w7']\n",
      "Removed columns: ['class_hbp_w3', 'class_hbp_w4', 'class_hbp_w5', 'class_hbp_w6', 'class_hbp_w7']\n",
      "   indager_wave8  sex  apoe_wave2  bmiobe_w2  bmiobe_w4  bmiobe_w6   cfib_w2  \\\n",
      "0           0.38    0    0.135755      0.667      0.667      0.667  0.352429   \n",
      "1           0.72    0    0.135755      0.667      0.667      0.667  0.345429   \n",
      "2           0.34    1    0.135755      1.000      1.000      1.000  0.345286   \n",
      "3           0.56    0    0.135755      0.667      0.667      0.667  0.338000   \n",
      "4           0.00    1    0.135755      0.000      1.000      1.000  0.345286   \n",
      "\n",
      "    cfib_w4   cfib_w6   cfib_w8  ...    wbc_w8  whval_w2  whval_w4  wstval_w2  \\\n",
      "0  0.503143  0.485429  0.497000  ...  0.026000  0.468286  0.400000   0.385000   \n",
      "1  0.370000  0.294000  0.294000  ...  0.188000  0.468429  0.430000   0.390571   \n",
      "2  0.500000  0.495429  0.495429  ...  0.399571  0.466000  0.210000   0.382857   \n",
      "3  0.512429  0.497571  0.509143  ...  0.403286  0.477143  0.372857   0.451857   \n",
      "4  0.500000  0.496857  0.485286  ...  0.399571  0.462429  0.260000   0.376714   \n",
      "\n",
      "   wstval_w4  wstval_w6  wtval_w2  wtval_w4  wtval_w6  class_hbp_w8  \n",
      "0   0.347000   0.347000  0.406286     0.274     0.274             1  \n",
      "1   0.391000   0.044000  0.404429     0.257     0.317             1  \n",
      "2   0.350000   0.350000  0.411714     0.343     0.343             1  \n",
      "3   0.486571   0.486571  0.416429     0.650     0.650             0  \n",
      "4   0.430000   0.430000  0.402000     0.346     0.346             1  \n",
      "\n",
      "[5 rows x 141 columns]\n"
     ]
    }
   ],
   "source": [
    "target_wave_suffix = TARGET_CLASS.split('_')[-1]  # This will give you \"w6\"\n",
    "target_wave_number = int(target_wave_suffix[1:])  # Extract the wave number as an integer\n",
    "print(f\"Target wave number: {target_wave_number}\")\n",
    "print(f\"Target wave suffix: {target_wave_suffix}\")\n",
    "\n",
    "# Remove class variables except the target wave\n",
    "class_vars_to_remove = [col for col in data.columns if col.startswith(\"class_\") and TARGET_CLASS not in col]\n",
    "features_to_remove = [col for col in data.columns if any(col.endswith(f'w{wave}') for wave in range(target_wave_number + 1, 9))]\n",
    "\n",
    "# Combine lists to remove both class variables and features from later waves\n",
    "columns_to_remove = class_vars_to_remove + features_to_remove\n",
    "\n",
    "data_copy = data.drop(columns=columns_to_remove)\n",
    "print(f\"Removed class variables: {class_vars_to_remove}\")\n",
    "print(f\"Removed columns: {columns_to_remove}\")\n",
    "\n",
    "print(data_copy.head())\n"
   ]
  },
  {
   "cell_type": "code",
   "execution_count": 268,
   "metadata": {},
   "outputs": [
    {
     "name": "stdout",
     "output_type": "stream",
     "text": [
      "X shape: (7097, 140)\n",
      "y shape: (7097,)\n"
     ]
    }
   ],
   "source": [
    "# Separate features and target variable\n",
    "X = data_copy.drop(columns=[TARGET_CLASS])\n",
    "y = data_copy[TARGET_CLASS]\n",
    "print(f\"X shape: {X.shape}\")\n",
    "print(f\"y shape: {y.shape}\")"
   ]
  },
  {
   "cell_type": "code",
   "execution_count": 269,
   "metadata": {},
   "outputs": [],
   "source": [
    "# Normalize the data\n",
    "scaler = StandardScaler()\n",
    "X_scaled = scaler.fit_transform(X)"
   ]
  },
  {
   "cell_type": "code",
   "execution_count": 270,
   "metadata": {},
   "outputs": [
    {
     "name": "stdout",
     "output_type": "stream",
     "text": [
      "Wave identifiers: ['w2', 'w4', 'w6', 'w8']\n",
      "['indager_wave8', 'sex', 'apoe_wave2', 'dheas_wave4']\n"
     ]
    }
   ],
   "source": [
    "# Identify features by wave\n",
    "column_names = X.columns\n",
    "wave_identifiers = sorted(set(col.split('_')[-1] for col in column_names if col != 'sex' and col != 'indager_wave8' and col != 'dheas_wave4' and col != 'apoe_wave2'))\n",
    "non_longitudinal_features = [col for col in column_names if not col.endswith('w1') and not col.endswith('w2') and not col.endswith('w3') and not col.endswith('w4') and not col.endswith('w5') and not col.endswith('w6') and not col.endswith('w7') and not col.endswith('w8')]\n",
    "\n",
    "print(f\"Wave identifiers: {wave_identifiers}\")\n",
    "print(non_longitudinal_features)"
   ]
  },
  {
   "cell_type": "code",
   "execution_count": null,
   "metadata": {},
   "outputs": [],
   "source": [
    "# Group features by waves\n",
    "features_by_wave = {wave: [] for wave in wave_identifiers}\n",
    "for col in column_names:\n",
    "    if col not in non_longitudinal_features:\n",
    "        wave = col.split('_')[-1]\n",
    "        features_by_wave[wave].append(col)\n",
    "        print(wave, col)\n",
    "        "
   ]
  },
  {
   "cell_type": "code",
   "execution_count": 272,
   "metadata": {},
   "outputs": [
    {
     "name": "stdout",
     "output_type": "stream",
     "text": [
      "Number of samples: 7097\n",
      "Number of waves: 4\n",
      "Wave identifiers: ['w2', 'w4', 'w6', 'w8']\n",
      "Number of features per wave: {'w2': 37, 'w4': 40, 'w6': 38, 'w8': 21}\n"
     ]
    }
   ],
   "source": [
    "# Prepare data for RNN\n",
    "n_samples = X_scaled.shape[0]\n",
    "n_timesteps = len(wave_identifiers)\n",
    "n_features_per_wave = {wave: len(features) for wave, features in features_by_wave.items()}\n",
    "max_features = max(n_features_per_wave.values())\n",
    "\n",
    "print(f\"Number of samples: {n_samples}\")\n",
    "print(f\"Number of waves: {n_timesteps}\")\n",
    "print(f\"Wave identifiers: {wave_identifiers}\")\n",
    "print(f\"Number of features per wave: {n_features_per_wave}\")"
   ]
  },
  {
   "cell_type": "code",
   "execution_count": null,
   "metadata": {},
   "outputs": [],
   "source": [
    "# Reshape data without non-longitudinal features\n",
    "X_reshaped = np.zeros((n_samples, n_timesteps, max_features))\n",
    "for i, wave in enumerate(wave_identifiers):\n",
    "    wave_features = features_by_wave[wave]\n",
    "    indices = [column_names.get_loc(f) for f in wave_features]\n",
    "    X_reshaped[:, i, :len(indices)] = X_scaled[:, indices]\n",
    "    print(f\"Wave {wave} features: {wave_features}\")\n",
    "print(f\"X reshaped shape: {X_reshaped.shape}\")"
   ]
  },
  {
   "cell_type": "code",
   "execution_count": 276,
   "metadata": {},
   "outputs": [],
   "source": [
    "# Split data\n",
    "X_train, X_test, y_train, y_test = train_test_split(X_reshaped, y, test_size=TEST_SIZE, random_state=42)\n",
    "\n",
    "# PyTorch Dataset and DataLoader\n",
    "train_dataset = TensorDataset(torch.tensor(X_train, dtype=torch.float32), torch.tensor(y_train.values, dtype=torch.float32))\n",
    "test_dataset = TensorDataset(torch.tensor(X_test, dtype=torch.float32), torch.tensor(y_test.values, dtype=torch.float32))\n",
    "\n",
    "train_loader = DataLoader(train_dataset, batch_size=BATCH_SIZE, shuffle=True)\n",
    "test_loader = DataLoader(test_dataset, batch_size=BATCH_SIZE, shuffle=False)"
   ]
  },
  {
   "cell_type": "code",
   "execution_count": 277,
   "metadata": {},
   "outputs": [
    {
     "name": "stdout",
     "output_type": "stream",
     "text": [
      "X shape: (6387, 4, 40)\n",
      "y shape: (6387,)\n",
      "Wave identifiers: ['w2', 'w4', 'w6', 'w8']\n",
      "Number of features per wave: {'w2': 37, 'w4': 40, 'w6': 38, 'w8': 21}\n"
     ]
    }
   ],
   "source": [
    "print(f\"X shape: {X_train.shape}\")\n",
    "print(f\"y shape: {y_train.shape}\")\n",
    "print(f\"Wave identifiers: {wave_identifiers}\")\n",
    "print(f\"Number of features per wave: {n_features_per_wave}\")"
   ]
  },
  {
   "cell_type": "code",
   "execution_count": 278,
   "metadata": {},
   "outputs": [],
   "source": [
    "class LSTMModel(Module):\n",
    "    def __init__(self, input_dim, hidden_dim, output_dim, n_layers, bidirectional=False, dropout=0.2):\n",
    "        super(LSTMModel, self).__init__()\n",
    "        self.lstm = LSTM(input_dim, hidden_dim, n_layers, batch_first=True, bidirectional=bidirectional, dropout=dropout)\n",
    "        self.dropout = Dropout(dropout)\n",
    "        direction_factor = 2 if bidirectional else 1\n",
    "        self.fc = Linear(hidden_dim * direction_factor, output_dim)\n",
    "        self.sigmoid = Sigmoid()\n",
    "\n",
    "    def forward(self, x):\n",
    "        h_lstm, _ = self.lstm(x)\n",
    "        h_lstm = self.dropout(h_lstm[:, -1, :])  # Get the output of the last LSTM cell\n",
    "        out = self.fc(h_lstm)\n",
    "        out = self.sigmoid(out)\n",
    "        return out"
   ]
  },
  {
   "cell_type": "code",
   "execution_count": 279,
   "metadata": {},
   "outputs": [],
   "source": [
    "device = torch.device(\"cuda\" if torch.cuda.is_available() else \"cpu\")\n",
    "input_dim = X_train.shape[2]\n",
    "hidden_dim = LSTM_UNITS\n",
    "output_dim = DENSE_UNITS\n",
    "n_layers = NUM_LAYERS\n",
    "\n",
    "model = LSTMModel(input_dim, hidden_dim, output_dim, n_layers, BIDIRECTIONAL, DROPOUT).to(device)\n",
    "criterion = LOSS\n",
    "optimizer = Adam(model.parameters(), lr=LEARNING_RATE)"
   ]
  },
  {
   "cell_type": "code",
   "execution_count": 280,
   "metadata": {},
   "outputs": [],
   "source": [
    "# Training function\n",
    "def train_model(model, train_loader, criterion, optimizer, n_epochs, device):\n",
    "    model.train()\n",
    "    for epoch in range(n_epochs):\n",
    "        running_loss = 0.0\n",
    "        for X_batch, y_batch in train_loader:\n",
    "            X_batch, y_batch = X_batch.to(device), y_batch.to(device)\n",
    "            optimizer.zero_grad()\n",
    "            y_pred = model(X_batch)\n",
    "            loss = criterion(y_pred.squeeze(), y_batch)\n",
    "            loss.backward()\n",
    "            optimizer.step()\n",
    "            running_loss += loss.item() * X_batch.size(0)\n",
    "        epoch_loss = running_loss / len(train_loader.dataset)\n",
    "        print(f\"Epoch {epoch+1}/{n_epochs}, Loss: {epoch_loss:.4f}\")"
   ]
  },
  {
   "cell_type": "code",
   "execution_count": 281,
   "metadata": {},
   "outputs": [],
   "source": [
    "# Evaluation function\n",
    "def evaluate_model(model, test_loader, device):\n",
    "    model.eval()\n",
    "    y_true = []\n",
    "    y_pred = []\n",
    "    \n",
    "    with torch.no_grad(): \n",
    "        for X_batch, y_batch in test_loader:\n",
    "            X_batch, y_batch = X_batch.to(device), y_batch.to(device)\n",
    "            y_true.extend(y_batch.cpu().numpy())\n",
    "            y_pred_batch = model(X_batch)\n",
    "            y_pred.extend(y_pred_batch.cpu().numpy())\n",
    "    print(y_true)\n",
    "\n",
    "    y_pred = np.array(y_pred).squeeze()\n",
    "    \n",
    "    # Convert predictions to binary values\n",
    "    y_pred_binary = (y_pred > 0.5).astype(int)\n",
    "\n",
    "    print(y_pred_binary)\n",
    "    \n",
    "    # Calculate metrics using binary predictions\n",
    "    precision = precision_score(y_true, y_pred_binary)\n",
    "    recall = recall_score(y_true, y_pred_binary)\n",
    "    f1 = f1_score(y_true, y_pred_binary)\n",
    "    \n",
    "    # ROC-AUC and Precision-Recall AUC use the continuous y_pred\n",
    "    roc_auc = roc_auc_score(y_true, y_pred)\n",
    "    precision_curve, recall_curve, _ = precision_recall_curve(y_true, y_pred)\n",
    "    auprc = auc(recall_curve, precision_curve)\n",
    "    \n",
    "    report = classification_report(y_true, y_pred_binary)\n",
    "    conf_matrix = confusion_matrix(y_true, y_pred_binary)\n",
    "\n",
    "    print(f'Test Precision: {precision:.4f}')\n",
    "    print(f'Test Recall: {recall:.4f}')\n",
    "    print(f'Test F1 Score: {f1:.4f}')\n",
    "    print(f'Test ROC-AUC Score: {roc_auc:.4f}')\n",
    "    print(f'Test AUPRC Score: {auprc:.4f}')\n",
    "    print(f'Confusion Matrix:\\n{conf_matrix}')\n",
    "    print(f'Classification Report:\\n{report}')"
   ]
  },
  {
   "cell_type": "code",
   "execution_count": 282,
   "metadata": {},
   "outputs": [
    {
     "name": "stdout",
     "output_type": "stream",
     "text": [
      "Epoch 1/100, Loss: 0.6913\n",
      "Epoch 2/100, Loss: 0.6768\n",
      "Epoch 3/100, Loss: 0.6742\n",
      "Epoch 4/100, Loss: 0.6713\n",
      "Epoch 5/100, Loss: 0.6697\n",
      "Epoch 6/100, Loss: 0.6665\n",
      "Epoch 7/100, Loss: 0.6633\n",
      "Epoch 8/100, Loss: 0.6604\n",
      "Epoch 9/100, Loss: 0.6578\n",
      "Epoch 10/100, Loss: 0.6551\n",
      "Epoch 11/100, Loss: 0.6517\n",
      "Epoch 12/100, Loss: 0.6509\n",
      "Epoch 13/100, Loss: 0.6491\n",
      "Epoch 14/100, Loss: 0.6452\n",
      "Epoch 15/100, Loss: 0.6408\n",
      "Epoch 16/100, Loss: 0.6403\n",
      "Epoch 17/100, Loss: 0.6406\n",
      "Epoch 18/100, Loss: 0.6369\n",
      "Epoch 19/100, Loss: 0.6358\n",
      "Epoch 20/100, Loss: 0.6332\n",
      "Epoch 21/100, Loss: 0.6333\n",
      "Epoch 22/100, Loss: 0.6308\n",
      "Epoch 23/100, Loss: 0.6276\n",
      "Epoch 24/100, Loss: 0.6273\n",
      "Epoch 25/100, Loss: 0.6270\n",
      "Epoch 26/100, Loss: 0.6242\n",
      "Epoch 27/100, Loss: 0.6248\n",
      "Epoch 28/100, Loss: 0.6223\n",
      "Epoch 29/100, Loss: 0.6225\n",
      "Epoch 30/100, Loss: 0.6212\n",
      "Epoch 31/100, Loss: 0.6208\n",
      "Epoch 32/100, Loss: 0.6214\n",
      "Epoch 33/100, Loss: 0.6209\n",
      "Epoch 34/100, Loss: 0.6214\n",
      "Epoch 35/100, Loss: 0.6188\n",
      "Epoch 36/100, Loss: 0.6182\n",
      "Epoch 37/100, Loss: 0.6174\n",
      "Epoch 38/100, Loss: 0.6156\n",
      "Epoch 39/100, Loss: 0.6154\n",
      "Epoch 40/100, Loss: 0.6164\n",
      "Epoch 41/100, Loss: 0.6149\n",
      "Epoch 42/100, Loss: 0.6159\n",
      "Epoch 43/100, Loss: 0.6147\n",
      "Epoch 44/100, Loss: 0.6135\n",
      "Epoch 45/100, Loss: 0.6139\n",
      "Epoch 46/100, Loss: 0.6123\n",
      "Epoch 47/100, Loss: 0.6120\n",
      "Epoch 48/100, Loss: 0.6124\n",
      "Epoch 49/100, Loss: 0.6098\n",
      "Epoch 50/100, Loss: 0.6109\n",
      "Epoch 51/100, Loss: 0.6104\n",
      "Epoch 52/100, Loss: 0.6110\n",
      "Epoch 53/100, Loss: 0.6107\n",
      "Epoch 54/100, Loss: 0.6115\n",
      "Epoch 55/100, Loss: 0.6102\n",
      "Epoch 56/100, Loss: 0.6086\n",
      "Epoch 57/100, Loss: 0.6092\n",
      "Epoch 58/100, Loss: 0.6075\n",
      "Epoch 59/100, Loss: 0.6082\n",
      "Epoch 60/100, Loss: 0.6078\n",
      "Epoch 61/100, Loss: 0.6059\n",
      "Epoch 62/100, Loss: 0.6038\n",
      "Epoch 63/100, Loss: 0.6041\n",
      "Epoch 64/100, Loss: 0.6038\n",
      "Epoch 65/100, Loss: 0.6047\n",
      "Epoch 66/100, Loss: 0.6039\n",
      "Epoch 67/100, Loss: 0.6045\n",
      "Epoch 68/100, Loss: 0.6044\n",
      "Epoch 69/100, Loss: 0.6037\n",
      "Epoch 70/100, Loss: 0.6042\n",
      "Epoch 71/100, Loss: 0.6024\n",
      "Epoch 72/100, Loss: 0.6024\n",
      "Epoch 73/100, Loss: 0.6014\n",
      "Epoch 74/100, Loss: 0.6023\n",
      "Epoch 75/100, Loss: 0.6048\n",
      "Epoch 76/100, Loss: 0.6022\n",
      "Epoch 77/100, Loss: 0.6017\n",
      "Epoch 78/100, Loss: 0.6010\n",
      "Epoch 79/100, Loss: 0.6014\n",
      "Epoch 80/100, Loss: 0.6009\n",
      "Epoch 81/100, Loss: 0.5984\n",
      "Epoch 82/100, Loss: 0.5993\n",
      "Epoch 83/100, Loss: 0.5998\n",
      "Epoch 84/100, Loss: 0.5995\n",
      "Epoch 85/100, Loss: 0.6002\n",
      "Epoch 86/100, Loss: 0.5996\n",
      "Epoch 87/100, Loss: 0.5991\n",
      "Epoch 88/100, Loss: 0.5984\n",
      "Epoch 89/100, Loss: 0.5987\n",
      "Epoch 90/100, Loss: 0.5987\n",
      "Epoch 91/100, Loss: 0.5981\n",
      "Epoch 92/100, Loss: 0.5965\n",
      "Epoch 93/100, Loss: 0.5982\n",
      "Epoch 94/100, Loss: 0.5968\n",
      "Epoch 95/100, Loss: 0.5951\n",
      "Epoch 96/100, Loss: 0.5964\n",
      "Epoch 97/100, Loss: 0.5963\n",
      "Epoch 98/100, Loss: 0.5984\n",
      "Epoch 99/100, Loss: 0.5986\n",
      "Epoch 100/100, Loss: 0.5976\n",
      "[0.0, 1.0, 0.0, 0.0, 0.0, 0.0, 0.0, 0.0, 1.0, 0.0, 0.0, 0.0, 1.0, 0.0, 1.0, 1.0, 0.0, 1.0, 0.0, 1.0, 0.0, 1.0, 1.0, 1.0, 0.0, 1.0, 0.0, 1.0, 0.0, 1.0, 0.0, 1.0, 0.0, 0.0, 0.0, 1.0, 0.0, 1.0, 0.0, 0.0, 0.0, 1.0, 1.0, 0.0, 0.0, 0.0, 0.0, 1.0, 0.0, 0.0, 1.0, 0.0, 0.0, 1.0, 0.0, 0.0, 0.0, 0.0, 0.0, 1.0, 0.0, 0.0, 1.0, 1.0, 0.0, 0.0, 0.0, 0.0, 1.0, 0.0, 1.0, 0.0, 0.0, 0.0, 0.0, 1.0, 1.0, 1.0, 0.0, 1.0, 0.0, 0.0, 1.0, 1.0, 0.0, 1.0, 1.0, 1.0, 1.0, 0.0, 1.0, 0.0, 0.0, 1.0, 0.0, 1.0, 0.0, 0.0, 0.0, 0.0, 1.0, 0.0, 1.0, 0.0, 0.0, 1.0, 0.0, 0.0, 0.0, 0.0, 0.0, 0.0, 0.0, 0.0, 1.0, 0.0, 1.0, 0.0, 0.0, 0.0, 0.0, 1.0, 0.0, 0.0, 0.0, 0.0, 1.0, 1.0, 1.0, 0.0, 1.0, 0.0, 1.0, 0.0, 0.0, 0.0, 1.0, 0.0, 0.0, 1.0, 1.0, 0.0, 0.0, 0.0, 1.0, 0.0, 0.0, 0.0, 1.0, 1.0, 1.0, 1.0, 0.0, 0.0, 0.0, 0.0, 0.0, 0.0, 0.0, 1.0, 0.0, 1.0, 1.0, 1.0, 0.0, 1.0, 0.0, 1.0, 1.0, 0.0, 1.0, 0.0, 0.0, 0.0, 0.0, 1.0, 0.0, 1.0, 1.0, 1.0, 0.0, 0.0, 0.0, 1.0, 0.0, 0.0, 0.0, 1.0, 1.0, 1.0, 0.0, 0.0, 0.0, 1.0, 1.0, 1.0, 0.0, 1.0, 1.0, 1.0, 1.0, 0.0, 0.0, 1.0, 1.0, 0.0, 1.0, 0.0, 1.0, 0.0, 0.0, 0.0, 1.0, 0.0, 0.0, 0.0, 0.0, 1.0, 1.0, 1.0, 0.0, 0.0, 1.0, 1.0, 1.0, 1.0, 0.0, 1.0, 0.0, 1.0, 0.0, 1.0, 1.0, 0.0, 1.0, 0.0, 0.0, 0.0, 0.0, 0.0, 1.0, 0.0, 1.0, 0.0, 1.0, 0.0, 1.0, 0.0, 0.0, 0.0, 0.0, 1.0, 0.0, 1.0, 0.0, 0.0, 1.0, 0.0, 0.0, 0.0, 0.0, 1.0, 0.0, 0.0, 0.0, 1.0, 0.0, 0.0, 1.0, 0.0, 1.0, 1.0, 1.0, 1.0, 1.0, 0.0, 1.0, 0.0, 0.0, 1.0, 1.0, 0.0, 1.0, 1.0, 0.0, 1.0, 1.0, 1.0, 1.0, 0.0, 0.0, 0.0, 0.0, 0.0, 0.0, 1.0, 1.0, 1.0, 1.0, 0.0, 1.0, 0.0, 0.0, 0.0, 1.0, 1.0, 0.0, 0.0, 1.0, 0.0, 0.0, 1.0, 1.0, 1.0, 0.0, 1.0, 0.0, 1.0, 0.0, 0.0, 1.0, 0.0, 0.0, 0.0, 1.0, 0.0, 1.0, 0.0, 1.0, 0.0, 1.0, 0.0, 0.0, 0.0, 1.0, 1.0, 0.0, 0.0, 0.0, 1.0, 1.0, 1.0, 0.0, 1.0, 0.0, 1.0, 0.0, 1.0, 1.0, 1.0, 0.0, 0.0, 0.0, 1.0, 0.0, 0.0, 0.0, 1.0, 0.0, 0.0, 0.0, 0.0, 0.0, 1.0, 0.0, 0.0, 1.0, 0.0, 0.0, 0.0, 0.0, 1.0, 1.0, 0.0, 0.0, 0.0, 1.0, 0.0, 0.0, 0.0, 0.0, 1.0, 1.0, 0.0, 0.0, 0.0, 0.0, 1.0, 1.0, 1.0, 1.0, 0.0, 0.0, 0.0, 1.0, 0.0, 1.0, 1.0, 0.0, 1.0, 0.0, 0.0, 1.0, 0.0, 1.0, 1.0, 0.0, 0.0, 1.0, 0.0, 1.0, 1.0, 0.0, 1.0, 0.0, 0.0, 1.0, 0.0, 1.0, 1.0, 0.0, 1.0, 1.0, 1.0, 0.0, 1.0, 0.0, 0.0, 1.0, 0.0, 0.0, 1.0, 0.0, 0.0, 1.0, 0.0, 1.0, 0.0, 1.0, 1.0, 0.0, 0.0, 1.0, 0.0, 0.0, 1.0, 1.0, 1.0, 0.0, 0.0, 0.0, 1.0, 1.0, 0.0, 0.0, 0.0, 1.0, 1.0, 1.0, 0.0, 1.0, 0.0, 1.0, 1.0, 0.0, 0.0, 1.0, 1.0, 0.0, 1.0, 1.0, 1.0, 0.0, 0.0, 1.0, 1.0, 0.0, 1.0, 0.0, 1.0, 0.0, 1.0, 0.0, 1.0, 0.0, 1.0, 0.0, 0.0, 1.0, 1.0, 0.0, 1.0, 0.0, 0.0, 1.0, 0.0, 0.0, 0.0, 1.0, 0.0, 1.0, 1.0, 0.0, 0.0, 0.0, 0.0, 0.0, 0.0, 0.0, 0.0, 0.0, 0.0, 1.0, 0.0, 0.0, 0.0, 0.0, 1.0, 0.0, 1.0, 0.0, 1.0, 1.0, 0.0, 1.0, 0.0, 1.0, 1.0, 0.0, 0.0, 1.0, 1.0, 0.0, 0.0, 0.0, 0.0, 1.0, 0.0, 1.0, 1.0, 1.0, 1.0, 0.0, 1.0, 0.0, 0.0, 0.0, 0.0, 0.0, 1.0, 0.0, 1.0, 0.0, 0.0, 1.0, 0.0, 0.0, 1.0, 0.0, 1.0, 1.0, 1.0, 0.0, 0.0, 1.0, 1.0, 0.0, 0.0, 0.0, 0.0, 0.0, 1.0, 0.0, 1.0, 1.0, 0.0, 0.0, 0.0, 1.0, 0.0, 0.0, 1.0, 0.0, 1.0, 0.0, 1.0, 0.0, 1.0, 0.0, 0.0, 0.0, 1.0, 1.0, 1.0, 1.0, 1.0, 1.0, 1.0, 0.0, 0.0, 1.0, 1.0, 1.0, 0.0, 0.0, 0.0, 1.0, 0.0, 1.0, 0.0, 1.0, 0.0, 0.0, 1.0, 1.0, 0.0, 0.0, 1.0, 1.0, 1.0, 0.0, 0.0, 1.0, 0.0, 1.0, 1.0, 1.0, 0.0, 0.0, 0.0, 0.0, 1.0, 1.0, 0.0, 0.0, 1.0, 1.0, 0.0, 0.0, 1.0, 0.0, 1.0, 1.0, 0.0, 0.0, 1.0, 1.0, 1.0, 1.0, 1.0, 1.0, 1.0, 1.0, 0.0, 1.0, 1.0, 0.0, 0.0, 1.0, 1.0, 1.0, 1.0, 0.0, 0.0, 0.0, 0.0, 0.0, 1.0, 1.0, 0.0, 0.0, 0.0, 0.0, 1.0, 0.0, 0.0, 0.0, 0.0, 0.0, 1.0, 1.0, 0.0, 0.0, 0.0, 1.0, 0.0, 0.0, 0.0, 0.0, 0.0, 1.0, 0.0, 1.0, 1.0, 1.0, 1.0, 0.0, 1.0, 0.0, 0.0, 0.0, 0.0, 0.0, 1.0, 0.0, 0.0, 0.0, 0.0, 0.0, 1.0]\n",
      "[1 0 0 1 0 0 0 0 0 0 0 0 0 0 0 0 0 1 0 1 1 1 0 0 0 0 0 0 0 1 0 1 1 0 0 0 0\n",
      " 1 1 0 0 0 1 1 0 0 0 0 0 0 1 0 0 0 0 0 0 0 0 0 0 0 1 1 0 0 0 0 1 0 1 0 1 1\n",
      " 0 1 0 0 0 0 0 0 0 0 0 1 1 1 1 0 0 0 0 1 0 0 1 0 0 0 1 0 1 0 0 0 0 0 1 1 0\n",
      " 0 0 0 0 0 0 0 0 0 0 1 0 0 0 0 0 1 0 0 1 0 1 0 0 1 0 0 0 0 1 1 0 1 1 0 1 0\n",
      " 0 0 0 0 0 0 0 0 0 0 0 0 0 0 0 0 0 0 0 0 1 0 0 0 1 1 0 0 0 0 1 0 0 0 1 0 0\n",
      " 0 0 1 1 1 0 0 0 1 1 0 0 1 0 0 1 1 1 1 0 0 1 0 1 0 0 0 1 0 0 0 0 0 1 1 0 0\n",
      " 1 0 0 1 0 1 1 1 0 0 0 0 0 0 0 0 1 1 1 0 1 0 0 1 1 0 0 1 1 1 0 0 0 0 1 0 0\n",
      " 0 0 1 0 0 0 0 0 0 0 1 0 1 0 1 0 0 0 0 0 0 0 1 0 0 0 0 0 0 0 0 1 0 1 0 1 0\n",
      " 1 0 0 0 0 0 1 1 0 1 0 1 0 0 0 0 1 0 0 0 0 0 0 0 0 0 0 0 1 0 1 1 1 0 0 0 0\n",
      " 0 0 0 0 1 0 0 0 0 0 0 0 0 0 1 1 0 0 0 0 0 0 0 0 0 0 0 0 0 0 1 0 0 0 1 0 0\n",
      " 0 0 1 1 1 0 1 0 0 0 0 1 1 0 0 1 0 0 0 1 1 0 0 1 1 0 1 1 0 1 0 0 1 0 0 1 1\n",
      " 0 0 0 0 1 0 0 0 0 1 0 0 0 0 0 0 1 1 1 1 0 0 0 0 0 0 0 1 0 1 0 0 0 0 1 0 0\n",
      " 0 0 0 1 0 1 0 0 0 1 0 0 1 0 1 0 1 0 1 0 0 0 1 0 1 0 0 1 0 0 1 0 1 0 0 0 0\n",
      " 1 0 0 0 1 0 0 1 0 0 0 0 0 0 0 0 0 0 0 0 0 0 0 0 0 0 0 0 0 1 0 0 0 0 0 0 0\n",
      " 0 1 0 1 1 0 0 0 1 0 1 1 1 0 0 0 0 1 1 0 0 1 1 0 1 0 0 0 1 0 0 0 1 0 1 1 1\n",
      " 0 0 1 0 0 1 0 0 0 0 0 1 0 0 0 1 0 0 1 0 0 0 0 1 0 1 0 1 1 0 0 0 1 0 0 0 0\n",
      " 0 1 0 1 1 1 0 0 1 0 1 0 0 0 0 1 0 0 0 0 0 1 0 0 0 0 0 1 0 1 0 0 1 0 0 1 0\n",
      " 0 1 0 0 0 0 1 0 0 0 1 0 1 1 0 1 1 1 0 1 0 0 0 1 1 0 0 1 1 0 0 1 1 0 1 0 0\n",
      " 0 1 1 0 0 0 0 0 0 0 1 0 0 1 1 0 0 0 1 0 0 1 0 1 0 1 0 0 0 1 1 1 0 0 0 1 0\n",
      " 0 0 0 0 0 0 1]\n",
      "Test Precision: 0.6333\n",
      "Test Recall: 0.4318\n",
      "Test F1 Score: 0.5135\n",
      "Test ROC-AUC Score: 0.7070\n",
      "Test AUPRC Score: 0.6613\n",
      "Confusion Matrix:\n",
      "[[325  77]\n",
      " [175 133]]\n",
      "Classification Report:\n",
      "              precision    recall  f1-score   support\n",
      "\n",
      "         0.0       0.65      0.81      0.72       402\n",
      "         1.0       0.63      0.43      0.51       308\n",
      "\n",
      "    accuracy                           0.65       710\n",
      "   macro avg       0.64      0.62      0.62       710\n",
      "weighted avg       0.64      0.65      0.63       710\n",
      "\n"
     ]
    }
   ],
   "source": [
    "# Training the model\n",
    "train_model(model, train_loader, criterion, optimizer, 100, device)\n",
    "evaluate_model(model, test_loader, device)"
   ]
  }
 ],
 "metadata": {
  "kernelspec": {
   "display_name": "Python 3",
   "language": "python",
   "name": "python3"
  },
  "language_info": {
   "codemirror_mode": {
    "name": "ipython",
    "version": 3
   },
   "file_extension": ".py",
   "mimetype": "text/x-python",
   "name": "python",
   "nbconvert_exporter": "python",
   "pygments_lexer": "ipython3",
   "version": "3.10.0"
  }
 },
 "nbformat": 4,
 "nbformat_minor": 2
}
