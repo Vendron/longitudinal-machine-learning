{
 "cells": [
  {
   "cell_type": "code",
   "execution_count": 1,
   "metadata": {},
   "outputs": [],
   "source": [
    "import numpy as np\n",
    "import pandas as pd\n",
    "from sklearn.model_selection import train_test_split\n",
    "from sklearn.preprocessing import StandardScaler\n",
    "import torch\n",
    "from torch.nn import Module, Conv1d, MaxPool1d, Linear, Dropout, Sigmoid, BCEWithLogitsLoss\n",
    "from torch.optim import Adam\n",
    "from torch.utils.data import DataLoader, TensorDataset\n",
    "from sklearn.metrics import precision_score, recall_score, f1_score, confusion_matrix, roc_auc_score, auc, precision_recall_curve, classification_report\n"
   ]
  },
  {
   "cell_type": "code",
   "execution_count": 2,
   "metadata": {},
   "outputs": [
    {
     "name": "stdout",
     "output_type": "stream",
     "text": [
      "Dataset: ../../data/angina_dataset.csv\n",
      "Target: angina\n",
      "Target class: class_angina_w8\n"
     ]
    }
   ],
   "source": [
    "# Constants\n",
    "DATASET_PATH = \"../../data/angina_dataset.csv\"\n",
    "TARGET_NAME = DATASET_PATH.split(\"/\")[-1].split(\"_\")[0]\n",
    "TARGET_CLASS = \"class_\" + TARGET_NAME + \"_w8\"\n",
    "\n",
    "LEARNING_RATE = 0.001 # The learning rate for the optimizer \n",
    "MAX_EPOCHS = 100 # The maximum number of epochs to train the model\n",
    "BATCH_SIZE = 32 # Number of samples per batch\n",
    "DROPOUT = 0.5 # The dropout rate\n",
    "CNN_CHANNELS = 64 # Number of output channels of the convolutional layer\n",
    "KERNEL_SIZE = 3 # The size of the kernel in the convolutional layer\n",
    "POOL_SIZE = 2 # The size of the pooling layer\n",
    "DENSE_UNITS = 1 # Number of units in the dense layer\n",
    "ACTIVATION = 'sigmoid'\n",
    "LOSS = BCEWithLogitsLoss()\n",
    "METRICS = ['accuracy']\n",
    "VALIDATION_SPLIT = 0.1 # The percentage of the training set to use as validation\n",
    "PATIENCE = 10 # The number of epochs to wait before early stopping if no improvement is made\n",
    "NUM_LAYERS = 2 # The number of layers in the model\n",
    "TEST_SIZE = 0.1 # The percentage of the dataset to use as test set\n",
    "\n",
    "print(f\"Dataset: {DATASET_PATH}\")\n",
    "print(f\"Target: {TARGET_NAME}\")\n",
    "print(f\"Target class: {TARGET_CLASS}\")"
   ]
  },
  {
   "cell_type": "code",
   "execution_count": 3,
   "metadata": {},
   "outputs": [],
   "source": [
    "data = pd.read_csv(DATASET_PATH)\n",
    "data.replace('?', np.nan, inplace=True)\n",
    "data = data.apply(pd.to_numeric, errors='coerce')\n",
    "data.fillna(0, inplace=True)"
   ]
  },
  {
   "cell_type": "code",
   "execution_count": 4,
   "metadata": {},
   "outputs": [],
   "source": [
    "# Extract features and target variables\n",
    "target_wave_suffix = TARGET_CLASS.split('_')[-1]\n",
    "target_wave_number = int(target_wave_suffix[1:])\n",
    "class_vars_to_remove = [col for col in data.columns if col.startswith(\"class_\") and TARGET_CLASS not in col]\n",
    "features_to_remove = [col for col in data.columns if any(col.endswith(f'w{wave}') for wave in range(target_wave_number + 1, 9))]\n",
    "\n",
    "columns_to_remove = class_vars_to_remove + features_to_remove\n",
    "data_copy = data.drop(columns=columns_to_remove)\n",
    "\n",
    "X = data_copy.drop(columns=[TARGET_CLASS])\n",
    "y = data_copy[TARGET_CLASS]\n",
    "\n",
    "scaler = StandardScaler()\n",
    "X_scaled = scaler.fit_transform(X)"
   ]
  },
  {
   "cell_type": "code",
   "execution_count": null,
   "metadata": {},
   "outputs": [],
   "source": [
    "# Identify features by wave\n",
    "column_names = X.columns\n",
    "wave_identifiers = sorted(set(col.split('_')[-1] for col in column_names if col != 'sex' and col != 'indager_wave8' and col != 'dheas_wave4' and col != 'apoe_wave2'))\n",
    "non_longitudinal_features = [col for col in column_names if not col.endswith('w1') and not col.endswith('w2') and not col.endswith('w3') and not col.endswith('w4') and not col.endswith('w5') and not col.endswith('w6') and not col.endswith('w7') and not col.endswith('w8')]\n",
    "\n",
    "print(f\"Wave identifiers: {wave_identifiers}\")\n",
    "print(non_longitudinal_features)"
   ]
  },
  {
   "cell_type": "code",
   "execution_count": null,
   "metadata": {},
   "outputs": [],
   "source": [
    "# Group features by waves\n",
    "features_by_wave = {wave: [] for wave in wave_identifiers}\n",
    "for col in column_names:\n",
    "    if col not in non_longitudinal_features:\n",
    "        wave = col.split('_')[-1]\n",
    "        features_by_wave[wave].append(col)\n",
    "        print(wave, col)\n",
    "        "
   ]
  },
  {
   "cell_type": "code",
   "execution_count": 7,
   "metadata": {},
   "outputs": [
    {
     "name": "stdout",
     "output_type": "stream",
     "text": [
      "Number of samples: 7097\n",
      "Number of waves: 4\n",
      "Wave identifiers: ['w2', 'w4', 'w6', 'w8']\n",
      "Number of features per wave: {'w2': 37, 'w4': 40, 'w6': 38, 'w8': 21}\n"
     ]
    }
   ],
   "source": [
    "# Prepare data for RNN\n",
    "n_samples = X_scaled.shape[0]\n",
    "n_timesteps = len(wave_identifiers)\n",
    "n_features_per_wave = {wave: len(features) for wave, features in features_by_wave.items()}\n",
    "max_features = max(n_features_per_wave.values())\n",
    "\n",
    "print(f\"Number of samples: {n_samples}\")\n",
    "print(f\"Number of waves: {n_timesteps}\")\n",
    "print(f\"Wave identifiers: {wave_identifiers}\")\n",
    "print(f\"Number of features per wave: {n_features_per_wave}\")"
   ]
  },
  {
   "cell_type": "code",
   "execution_count": null,
   "metadata": {},
   "outputs": [],
   "source": [
    "# Reshape data without non-longitudinal features\n",
    "X_reshaped = np.zeros((n_samples, n_timesteps, max_features))\n",
    "for i, wave in enumerate(wave_identifiers):\n",
    "    wave_features = features_by_wave[wave]\n",
    "    indices = [column_names.get_loc(f) for f in wave_features]\n",
    "    X_reshaped[:, i, :len(indices)] = X_scaled[:, indices]\n",
    "    print(f\"Wave {wave} features: {wave_features}\")\n",
    "print(f\"X reshaped shape: {X_reshaped.shape}\")"
   ]
  },
  {
   "cell_type": "code",
   "execution_count": 9,
   "metadata": {},
   "outputs": [],
   "source": [
    "# Split data\n",
    "X_train, X_test, y_train, y_test = train_test_split(X_reshaped, y, test_size=TEST_SIZE, random_state=42)\n",
    "\n",
    "# PyTorch Dataset and DataLoader\n",
    "train_dataset = TensorDataset(torch.tensor(X_train, dtype=torch.float32), torch.tensor(y_train.values, dtype=torch.float32))\n",
    "test_dataset = TensorDataset(torch.tensor(X_test, dtype=torch.float32), torch.tensor(y_test.values, dtype=torch.float32))\n",
    "\n",
    "train_loader = DataLoader(train_dataset, batch_size=BATCH_SIZE, shuffle=True)\n",
    "test_loader = DataLoader(test_dataset, batch_size=BATCH_SIZE, shuffle=False)"
   ]
  },
  {
   "cell_type": "code",
   "execution_count": 10,
   "metadata": {},
   "outputs": [
    {
     "name": "stdout",
     "output_type": "stream",
     "text": [
      "X shape: (6387, 4, 40)\n",
      "y shape: (6387,)\n",
      "Wave identifiers: ['w2', 'w4', 'w6', 'w8']\n",
      "Number of features per wave: {'w2': 37, 'w4': 40, 'w6': 38, 'w8': 21}\n"
     ]
    }
   ],
   "source": [
    "print(f\"X shape: {X_train.shape}\")\n",
    "print(f\"y shape: {y_train.shape}\")\n",
    "print(f\"Wave identifiers: {wave_identifiers}\")\n",
    "print(f\"Number of features per wave: {n_features_per_wave}\")"
   ]
  },
  {
   "cell_type": "code",
   "execution_count": 11,
   "metadata": {},
   "outputs": [],
   "source": [
    "# Define the CNN model\n",
    "class CNNModel(Module):\n",
    "    def __init__(self, input_dim, num_channels, kernel_size, pool_size, dropout=0.0):\n",
    "        super(CNNModel, self).__init__()\n",
    "        self.conv1 = Conv1d(in_channels=input_dim, out_channels=num_channels, kernel_size=kernel_size, padding=1)\n",
    "        self.pool = MaxPool1d(pool_size)\n",
    "        self.dropout = Dropout(dropout)\n",
    "        \n",
    "        # Calculate the output size after Conv1d and MaxPool1d\n",
    "        conv_output_size = ((n_timesteps - kernel_size + 2 * 1) // 1 + 1) // pool_size\n",
    "        self.feature_dim = num_channels * conv_output_size\n",
    "\n",
    "        self.fc = Linear(self.feature_dim, DENSE_UNITS)\n",
    "        self.sigmoid = Sigmoid()\n",
    "\n",
    "    def forward(self, x):\n",
    "        x = x.permute(0, 2, 1)  # Change the dimension to (batch_size, input_dim, n_timesteps) for Conv1d\n",
    "        x = self.pool(torch.relu(self.conv1(x)))\n",
    "        x = x.view(x.size(0), -1)  # Flatten for the fully connected layer\n",
    "        if self.dropout is not None:\n",
    "            x = self.dropout(x)\n",
    "        out = self.fc(x)\n",
    "        out = self.sigmoid(out)\n",
    "        return out\n",
    "\n"
   ]
  },
  {
   "cell_type": "code",
   "execution_count": 12,
   "metadata": {},
   "outputs": [],
   "source": [
    "device = torch.device(\"cuda\" if torch.cuda.is_available() else \"cpu\")\n",
    "input_dim = X_train.shape[2]\n",
    "model = CNNModel(input_dim=input_dim, num_channels=CNN_CHANNELS, kernel_size=KERNEL_SIZE, pool_size=POOL_SIZE, dropout=DROPOUT).to(device)\n",
    "criterion = LOSS\n",
    "optimizer = Adam(model.parameters(), lr=LEARNING_RATE)"
   ]
  },
  {
   "cell_type": "code",
   "execution_count": 13,
   "metadata": {},
   "outputs": [],
   "source": [
    "# Training function\n",
    "def train_model(model, train_loader, criterion, optimizer, n_epochs, device):\n",
    "    model.train()\n",
    "    for epoch in range(n_epochs):\n",
    "        running_loss = 0.0\n",
    "        for X_batch, y_batch in train_loader:\n",
    "            X_batch, y_batch = X_batch.to(device), y_batch.to(device)\n",
    "            optimizer.zero_grad()\n",
    "            y_pred = model(X_batch)\n",
    "            loss = criterion(y_pred.squeeze(), y_batch)\n",
    "            loss.backward()\n",
    "            optimizer.step()\n",
    "            running_loss += loss.item() * X_batch.size(0)\n",
    "        epoch_loss = running_loss / len(train_loader.dataset)\n",
    "        print(f\"Epoch {epoch+1}/{n_epochs}, Loss: {epoch_loss:.4f}\")"
   ]
  },
  {
   "cell_type": "code",
   "execution_count": 14,
   "metadata": {},
   "outputs": [],
   "source": [
    "# Evaluation function\n",
    "def evaluate_model(model, test_loader, device):\n",
    "    model.eval()\n",
    "    y_true = []\n",
    "    y_pred = []\n",
    "    \n",
    "    with torch.no_grad(): \n",
    "        for X_batch, y_batch in test_loader:\n",
    "            X_batch, y_batch = X_batch.to(device), y_batch.to(device)\n",
    "            y_true.extend(y_batch.cpu().numpy())\n",
    "            y_pred_batch = model(X_batch)\n",
    "            y_pred.extend(y_pred_batch.cpu().numpy())\n",
    "\n",
    "    y_pred = np.array(y_pred).squeeze()\n",
    "    \n",
    "    # Convert predictions to binary values\n",
    "    y_pred_binary = (y_pred > 0.5).astype(int)\n",
    "    \n",
    "    # Calculate metrics using binary predictions\n",
    "    precision = precision_score(y_true, y_pred_binary)\n",
    "    recall = recall_score(y_true, y_pred_binary)\n",
    "    f1 = f1_score(y_true, y_pred_binary)\n",
    "    \n",
    "    # ROC-AUC and Precision-Recall AUC use the continuous y_pred\n",
    "    roc_auc = roc_auc_score(y_true, y_pred)\n",
    "    precision_curve, recall_curve, _ = precision_recall_curve(y_true, y_pred)\n",
    "    auprc = auc(recall_curve, precision_curve)\n",
    "    \n",
    "    report = classification_report(y_true, y_pred_binary)\n",
    "    conf_matrix = confusion_matrix(y_true, y_pred_binary)\n",
    "\n",
    "    print(f'Test Precision: {precision:.4f}')\n",
    "    print(f'Test Recall: {recall:.4f}')\n",
    "    print(f'Test F1 Score: {f1:.4f}')\n",
    "    print(f'Test ROC-AUC Score: {roc_auc:.4f}')\n",
    "    print(f'Test AUPRC Score: {auprc:.4f}')\n",
    "    print(f'Confusion Matrix:\\n{conf_matrix}')\n",
    "    print(f'Classification Report:\\n{report}')\n",
    "    return y_true, y_pred"
   ]
  },
  {
   "cell_type": "code",
   "execution_count": 15,
   "metadata": {},
   "outputs": [],
   "source": [
    "from itertools import product\n",
    "\n",
    "# Define hyperparameter grid\n",
    "learning_rates = [0.001, 0.01]  # Include a broader range of learning rates\n",
    "dropout_rates = [0.2, 0.5]  # Include an additional dropout rate for more variety\n",
    "num_channels_options = [64, 128]  # Different numbers of output channels for the Conv1d layer\n",
    "kernel_size_options = [3, 5]  # Different kernel sizes for the Conv1d layer\n",
    "\n",
    "# All combinations of hyperparameters\n",
    "hyperparameter_grid = list(product(learning_rates, dropout_rates, num_channels_options, kernel_size_options))"
   ]
  },
  {
   "cell_type": "code",
   "execution_count": 16,
   "metadata": {},
   "outputs": [
    {
     "name": "stdout",
     "output_type": "stream",
     "text": [
      "Fold 1\n",
      "Training with learning rate: 0.001, dropout: 0.2, channels: 64, kernel size: 3\n"
     ]
    },
    {
     "name": "stderr",
     "output_type": "stream",
     "text": [
      "c:\\Users\\Grego\\AppData\\Local\\Programs\\Python\\Python310\\lib\\site-packages\\sklearn\\metrics\\_classification.py:1344: UndefinedMetricWarning: Precision is ill-defined and being set to 0.0 due to no predicted samples. Use `zero_division` parameter to control this behavior.\n",
      "  _warn_prf(average, modifier, msg_start, len(result))\n"
     ]
    },
    {
     "name": "stdout",
     "output_type": "stream",
     "text": [
      "Found new best hyperparameters: (0.001, 0.2, 64, 3)\n",
      "Training with learning rate: 0.001, dropout: 0.2, channels: 64, kernel size: 5\n"
     ]
    },
    {
     "name": "stderr",
     "output_type": "stream",
     "text": [
      "c:\\Users\\Grego\\AppData\\Local\\Programs\\Python\\Python310\\lib\\site-packages\\sklearn\\metrics\\_classification.py:1344: UndefinedMetricWarning: Precision is ill-defined and being set to 0.0 due to no predicted samples. Use `zero_division` parameter to control this behavior.\n",
      "  _warn_prf(average, modifier, msg_start, len(result))\n"
     ]
    },
    {
     "name": "stdout",
     "output_type": "stream",
     "text": [
      "Training with learning rate: 0.001, dropout: 0.2, channels: 128, kernel size: 3\n"
     ]
    },
    {
     "name": "stderr",
     "output_type": "stream",
     "text": [
      "c:\\Users\\Grego\\AppData\\Local\\Programs\\Python\\Python310\\lib\\site-packages\\sklearn\\metrics\\_classification.py:1344: UndefinedMetricWarning: Precision is ill-defined and being set to 0.0 due to no predicted samples. Use `zero_division` parameter to control this behavior.\n",
      "  _warn_prf(average, modifier, msg_start, len(result))\n"
     ]
    },
    {
     "name": "stdout",
     "output_type": "stream",
     "text": [
      "Training with learning rate: 0.001, dropout: 0.2, channels: 128, kernel size: 5\n"
     ]
    },
    {
     "name": "stderr",
     "output_type": "stream",
     "text": [
      "c:\\Users\\Grego\\AppData\\Local\\Programs\\Python\\Python310\\lib\\site-packages\\sklearn\\metrics\\_classification.py:1344: UndefinedMetricWarning: Precision is ill-defined and being set to 0.0 due to no predicted samples. Use `zero_division` parameter to control this behavior.\n",
      "  _warn_prf(average, modifier, msg_start, len(result))\n"
     ]
    },
    {
     "name": "stdout",
     "output_type": "stream",
     "text": [
      "Training with learning rate: 0.001, dropout: 0.5, channels: 64, kernel size: 3\n"
     ]
    },
    {
     "name": "stderr",
     "output_type": "stream",
     "text": [
      "c:\\Users\\Grego\\AppData\\Local\\Programs\\Python\\Python310\\lib\\site-packages\\sklearn\\metrics\\_classification.py:1344: UndefinedMetricWarning: Precision is ill-defined and being set to 0.0 due to no predicted samples. Use `zero_division` parameter to control this behavior.\n",
      "  _warn_prf(average, modifier, msg_start, len(result))\n"
     ]
    },
    {
     "name": "stdout",
     "output_type": "stream",
     "text": [
      "Training with learning rate: 0.001, dropout: 0.5, channels: 64, kernel size: 5\n"
     ]
    },
    {
     "name": "stderr",
     "output_type": "stream",
     "text": [
      "c:\\Users\\Grego\\AppData\\Local\\Programs\\Python\\Python310\\lib\\site-packages\\sklearn\\metrics\\_classification.py:1344: UndefinedMetricWarning: Precision is ill-defined and being set to 0.0 due to no predicted samples. Use `zero_division` parameter to control this behavior.\n",
      "  _warn_prf(average, modifier, msg_start, len(result))\n"
     ]
    },
    {
     "name": "stdout",
     "output_type": "stream",
     "text": [
      "Training with learning rate: 0.001, dropout: 0.5, channels: 128, kernel size: 3\n"
     ]
    },
    {
     "name": "stderr",
     "output_type": "stream",
     "text": [
      "c:\\Users\\Grego\\AppData\\Local\\Programs\\Python\\Python310\\lib\\site-packages\\sklearn\\metrics\\_classification.py:1344: UndefinedMetricWarning: Precision is ill-defined and being set to 0.0 due to no predicted samples. Use `zero_division` parameter to control this behavior.\n",
      "  _warn_prf(average, modifier, msg_start, len(result))\n"
     ]
    },
    {
     "name": "stdout",
     "output_type": "stream",
     "text": [
      "Training with learning rate: 0.001, dropout: 0.5, channels: 128, kernel size: 5\n"
     ]
    },
    {
     "name": "stderr",
     "output_type": "stream",
     "text": [
      "c:\\Users\\Grego\\AppData\\Local\\Programs\\Python\\Python310\\lib\\site-packages\\sklearn\\metrics\\_classification.py:1344: UndefinedMetricWarning: Precision is ill-defined and being set to 0.0 due to no predicted samples. Use `zero_division` parameter to control this behavior.\n",
      "  _warn_prf(average, modifier, msg_start, len(result))\n"
     ]
    },
    {
     "name": "stdout",
     "output_type": "stream",
     "text": [
      "Training with learning rate: 0.01, dropout: 0.2, channels: 64, kernel size: 3\n"
     ]
    },
    {
     "name": "stderr",
     "output_type": "stream",
     "text": [
      "c:\\Users\\Grego\\AppData\\Local\\Programs\\Python\\Python310\\lib\\site-packages\\sklearn\\metrics\\_classification.py:1344: UndefinedMetricWarning: Precision is ill-defined and being set to 0.0 due to no predicted samples. Use `zero_division` parameter to control this behavior.\n",
      "  _warn_prf(average, modifier, msg_start, len(result))\n"
     ]
    },
    {
     "name": "stdout",
     "output_type": "stream",
     "text": [
      "Training with learning rate: 0.01, dropout: 0.2, channels: 64, kernel size: 5\n"
     ]
    },
    {
     "name": "stderr",
     "output_type": "stream",
     "text": [
      "c:\\Users\\Grego\\AppData\\Local\\Programs\\Python\\Python310\\lib\\site-packages\\sklearn\\metrics\\_classification.py:1344: UndefinedMetricWarning: Precision is ill-defined and being set to 0.0 due to no predicted samples. Use `zero_division` parameter to control this behavior.\n",
      "  _warn_prf(average, modifier, msg_start, len(result))\n"
     ]
    },
    {
     "name": "stdout",
     "output_type": "stream",
     "text": [
      "Training with learning rate: 0.01, dropout: 0.2, channels: 128, kernel size: 3\n"
     ]
    },
    {
     "name": "stderr",
     "output_type": "stream",
     "text": [
      "c:\\Users\\Grego\\AppData\\Local\\Programs\\Python\\Python310\\lib\\site-packages\\sklearn\\metrics\\_classification.py:1344: UndefinedMetricWarning: Precision is ill-defined and being set to 0.0 due to no predicted samples. Use `zero_division` parameter to control this behavior.\n",
      "  _warn_prf(average, modifier, msg_start, len(result))\n"
     ]
    },
    {
     "name": "stdout",
     "output_type": "stream",
     "text": [
      "Training with learning rate: 0.01, dropout: 0.2, channels: 128, kernel size: 5\n"
     ]
    },
    {
     "name": "stderr",
     "output_type": "stream",
     "text": [
      "c:\\Users\\Grego\\AppData\\Local\\Programs\\Python\\Python310\\lib\\site-packages\\sklearn\\metrics\\_classification.py:1344: UndefinedMetricWarning: Precision is ill-defined and being set to 0.0 due to no predicted samples. Use `zero_division` parameter to control this behavior.\n",
      "  _warn_prf(average, modifier, msg_start, len(result))\n"
     ]
    },
    {
     "name": "stdout",
     "output_type": "stream",
     "text": [
      "Training with learning rate: 0.01, dropout: 0.5, channels: 64, kernel size: 3\n"
     ]
    },
    {
     "name": "stderr",
     "output_type": "stream",
     "text": [
      "c:\\Users\\Grego\\AppData\\Local\\Programs\\Python\\Python310\\lib\\site-packages\\sklearn\\metrics\\_classification.py:1344: UndefinedMetricWarning: Precision is ill-defined and being set to 0.0 due to no predicted samples. Use `zero_division` parameter to control this behavior.\n",
      "  _warn_prf(average, modifier, msg_start, len(result))\n"
     ]
    },
    {
     "name": "stdout",
     "output_type": "stream",
     "text": [
      "Training with learning rate: 0.01, dropout: 0.5, channels: 64, kernel size: 5\n"
     ]
    },
    {
     "name": "stderr",
     "output_type": "stream",
     "text": [
      "c:\\Users\\Grego\\AppData\\Local\\Programs\\Python\\Python310\\lib\\site-packages\\sklearn\\metrics\\_classification.py:1344: UndefinedMetricWarning: Precision is ill-defined and being set to 0.0 due to no predicted samples. Use `zero_division` parameter to control this behavior.\n",
      "  _warn_prf(average, modifier, msg_start, len(result))\n"
     ]
    },
    {
     "name": "stdout",
     "output_type": "stream",
     "text": [
      "Training with learning rate: 0.01, dropout: 0.5, channels: 128, kernel size: 3\n"
     ]
    },
    {
     "name": "stderr",
     "output_type": "stream",
     "text": [
      "c:\\Users\\Grego\\AppData\\Local\\Programs\\Python\\Python310\\lib\\site-packages\\sklearn\\metrics\\_classification.py:1344: UndefinedMetricWarning: Precision is ill-defined and being set to 0.0 due to no predicted samples. Use `zero_division` parameter to control this behavior.\n",
      "  _warn_prf(average, modifier, msg_start, len(result))\n"
     ]
    },
    {
     "name": "stdout",
     "output_type": "stream",
     "text": [
      "Training with learning rate: 0.01, dropout: 0.5, channels: 128, kernel size: 5\n"
     ]
    },
    {
     "name": "stderr",
     "output_type": "stream",
     "text": [
      "c:\\Users\\Grego\\AppData\\Local\\Programs\\Python\\Python310\\lib\\site-packages\\sklearn\\metrics\\_classification.py:1344: UndefinedMetricWarning: Precision is ill-defined and being set to 0.0 due to no predicted samples. Use `zero_division` parameter to control this behavior.\n",
      "  _warn_prf(average, modifier, msg_start, len(result))\n"
     ]
    },
    {
     "name": "stdout",
     "output_type": "stream",
     "text": [
      "Best Hyperparameters for Fold 1: (0.001, 0.2, 64, 3)\n",
      "Training on full training set with best hyperparameters: (0.001, 0.2, 64, 3)\n",
      "Epoch 1/100, Loss: 0.7241\n",
      "Epoch 2/100, Loss: 0.6940\n",
      "Epoch 3/100, Loss: 0.6934\n",
      "Epoch 4/100, Loss: 0.6933\n",
      "Epoch 5/100, Loss: 0.6933\n",
      "Epoch 6/100, Loss: 0.6932\n",
      "Epoch 7/100, Loss: 0.6932\n",
      "Epoch 8/100, Loss: 0.6932\n",
      "Epoch 9/100, Loss: 0.6932\n",
      "Epoch 10/100, Loss: 0.6932\n",
      "Epoch 11/100, Loss: 0.6932\n",
      "Epoch 12/100, Loss: 0.6932\n",
      "Epoch 13/100, Loss: 0.6932\n",
      "Epoch 14/100, Loss: 0.6932\n",
      "Epoch 15/100, Loss: 0.6932\n",
      "Epoch 16/100, Loss: 0.6932\n",
      "Epoch 17/100, Loss: 0.6932\n",
      "Epoch 18/100, Loss: 0.6932\n",
      "Epoch 19/100, Loss: 0.6932\n",
      "Epoch 20/100, Loss: 0.6932\n",
      "Epoch 21/100, Loss: 0.6932\n",
      "Epoch 22/100, Loss: 0.6932\n",
      "Epoch 23/100, Loss: 0.6932\n",
      "Epoch 24/100, Loss: 0.6931\n",
      "Epoch 25/100, Loss: 0.6931\n",
      "Epoch 26/100, Loss: 0.6931\n",
      "Epoch 27/100, Loss: 0.6931\n",
      "Epoch 28/100, Loss: 0.6931\n",
      "Epoch 29/100, Loss: 0.6931\n",
      "Epoch 30/100, Loss: 0.6931\n",
      "Epoch 31/100, Loss: 0.6931\n",
      "Epoch 32/100, Loss: 0.6931\n",
      "Epoch 33/100, Loss: 0.6931\n",
      "Epoch 34/100, Loss: 0.6931\n",
      "Epoch 35/100, Loss: 0.6931\n",
      "Epoch 36/100, Loss: 0.6931\n",
      "Epoch 37/100, Loss: 0.6931\n",
      "Epoch 38/100, Loss: 0.6931\n",
      "Epoch 39/100, Loss: 0.6931\n",
      "Epoch 40/100, Loss: 0.6931\n",
      "Epoch 41/100, Loss: 0.6931\n",
      "Epoch 42/100, Loss: 0.6931\n",
      "Epoch 43/100, Loss: 0.6931\n",
      "Epoch 44/100, Loss: 0.6931\n",
      "Epoch 45/100, Loss: 0.6931\n",
      "Epoch 46/100, Loss: 0.6931\n",
      "Epoch 47/100, Loss: 0.6931\n",
      "Epoch 48/100, Loss: 0.6931\n",
      "Epoch 49/100, Loss: 0.6931\n",
      "Epoch 50/100, Loss: 0.6931\n",
      "Epoch 51/100, Loss: 0.6931\n",
      "Epoch 52/100, Loss: 0.6931\n",
      "Epoch 53/100, Loss: 0.6931\n",
      "Epoch 54/100, Loss: 0.6931\n",
      "Epoch 55/100, Loss: 0.6931\n",
      "Epoch 56/100, Loss: 0.6931\n",
      "Epoch 57/100, Loss: 0.6931\n",
      "Epoch 58/100, Loss: 0.6931\n",
      "Epoch 59/100, Loss: 0.6931\n",
      "Epoch 60/100, Loss: 0.6931\n",
      "Epoch 61/100, Loss: 0.6931\n",
      "Epoch 62/100, Loss: 0.6931\n",
      "Epoch 63/100, Loss: 0.6931\n",
      "Epoch 64/100, Loss: 0.6931\n",
      "Epoch 65/100, Loss: 0.6931\n",
      "Epoch 66/100, Loss: 0.6931\n",
      "Epoch 67/100, Loss: 0.6931\n",
      "Epoch 68/100, Loss: 0.6931\n",
      "Epoch 69/100, Loss: 0.6931\n",
      "Epoch 70/100, Loss: 0.6931\n",
      "Epoch 71/100, Loss: 0.6931\n",
      "Epoch 72/100, Loss: 0.6931\n",
      "Epoch 73/100, Loss: 0.6931\n",
      "Epoch 74/100, Loss: 0.6931\n",
      "Epoch 75/100, Loss: 0.6931\n",
      "Epoch 76/100, Loss: 0.6931\n",
      "Epoch 77/100, Loss: 0.6931\n",
      "Epoch 78/100, Loss: 0.6931\n",
      "Epoch 79/100, Loss: 0.6931\n",
      "Epoch 80/100, Loss: 0.6931\n",
      "Epoch 81/100, Loss: 0.6931\n",
      "Epoch 82/100, Loss: 0.6931\n",
      "Epoch 83/100, Loss: 0.6931\n",
      "Epoch 84/100, Loss: 0.6931\n",
      "Epoch 85/100, Loss: 0.6931\n",
      "Epoch 86/100, Loss: 0.6931\n",
      "Epoch 87/100, Loss: 0.6930\n",
      "Epoch 88/100, Loss: 0.6930\n",
      "Epoch 89/100, Loss: 0.6930\n",
      "Epoch 90/100, Loss: 0.6930\n",
      "Epoch 91/100, Loss: 0.6930\n",
      "Epoch 92/100, Loss: 0.6930\n",
      "Epoch 93/100, Loss: 0.6930\n",
      "Epoch 94/100, Loss: 0.6930\n",
      "Epoch 95/100, Loss: 0.6930\n",
      "Epoch 96/100, Loss: 0.6930\n",
      "Epoch 97/100, Loss: 0.6930\n",
      "Epoch 98/100, Loss: 0.6930\n",
      "Epoch 99/100, Loss: 0.6930\n",
      "Epoch 100/100, Loss: 0.6930\n",
      "Test Precision: 0.0000\n",
      "Test Recall: 0.0000\n",
      "Test F1 Score: 0.0000\n",
      "Test ROC-AUC Score: 0.5137\n",
      "Test AUPRC Score: 0.0354\n",
      "Confusion Matrix:\n",
      "[[688   0]\n",
      " [ 22   0]]\n",
      "Classification Report:\n",
      "              precision    recall  f1-score   support\n",
      "\n",
      "         0.0       0.97      1.00      0.98       688\n",
      "         1.0       0.00      0.00      0.00        22\n",
      "\n",
      "    accuracy                           0.97       710\n",
      "   macro avg       0.48      0.50      0.49       710\n",
      "weighted avg       0.94      0.97      0.95       710\n",
      "\n",
      "Fold 2\n",
      "Training with learning rate: 0.001, dropout: 0.2, channels: 64, kernel size: 3\n"
     ]
    },
    {
     "name": "stderr",
     "output_type": "stream",
     "text": [
      "c:\\Users\\Grego\\AppData\\Local\\Programs\\Python\\Python310\\lib\\site-packages\\sklearn\\metrics\\_classification.py:1344: UndefinedMetricWarning: Precision is ill-defined and being set to 0.0 due to no predicted samples. Use `zero_division` parameter to control this behavior.\n",
      "  _warn_prf(average, modifier, msg_start, len(result))\n",
      "c:\\Users\\Grego\\AppData\\Local\\Programs\\Python\\Python310\\lib\\site-packages\\sklearn\\metrics\\_classification.py:1344: UndefinedMetricWarning: Precision and F-score are ill-defined and being set to 0.0 in labels with no predicted samples. Use `zero_division` parameter to control this behavior.\n",
      "  _warn_prf(average, modifier, msg_start, len(result))\n",
      "c:\\Users\\Grego\\AppData\\Local\\Programs\\Python\\Python310\\lib\\site-packages\\sklearn\\metrics\\_classification.py:1344: UndefinedMetricWarning: Precision and F-score are ill-defined and being set to 0.0 in labels with no predicted samples. Use `zero_division` parameter to control this behavior.\n",
      "  _warn_prf(average, modifier, msg_start, len(result))\n",
      "c:\\Users\\Grego\\AppData\\Local\\Programs\\Python\\Python310\\lib\\site-packages\\sklearn\\metrics\\_classification.py:1344: UndefinedMetricWarning: Precision and F-score are ill-defined and being set to 0.0 in labels with no predicted samples. Use `zero_division` parameter to control this behavior.\n",
      "  _warn_prf(average, modifier, msg_start, len(result))\n",
      "c:\\Users\\Grego\\AppData\\Local\\Programs\\Python\\Python310\\lib\\site-packages\\sklearn\\metrics\\_classification.py:1344: UndefinedMetricWarning: Precision is ill-defined and being set to 0.0 due to no predicted samples. Use `zero_division` parameter to control this behavior.\n",
      "  _warn_prf(average, modifier, msg_start, len(result))\n"
     ]
    },
    {
     "name": "stdout",
     "output_type": "stream",
     "text": [
      "Found new best hyperparameters: (0.001, 0.2, 64, 3)\n",
      "Training with learning rate: 0.001, dropout: 0.2, channels: 64, kernel size: 5\n"
     ]
    },
    {
     "name": "stderr",
     "output_type": "stream",
     "text": [
      "c:\\Users\\Grego\\AppData\\Local\\Programs\\Python\\Python310\\lib\\site-packages\\sklearn\\metrics\\_classification.py:1344: UndefinedMetricWarning: Precision is ill-defined and being set to 0.0 due to no predicted samples. Use `zero_division` parameter to control this behavior.\n",
      "  _warn_prf(average, modifier, msg_start, len(result))\n"
     ]
    },
    {
     "name": "stdout",
     "output_type": "stream",
     "text": [
      "Training with learning rate: 0.001, dropout: 0.2, channels: 128, kernel size: 3\n"
     ]
    },
    {
     "name": "stderr",
     "output_type": "stream",
     "text": [
      "c:\\Users\\Grego\\AppData\\Local\\Programs\\Python\\Python310\\lib\\site-packages\\sklearn\\metrics\\_classification.py:1344: UndefinedMetricWarning: Precision is ill-defined and being set to 0.0 due to no predicted samples. Use `zero_division` parameter to control this behavior.\n",
      "  _warn_prf(average, modifier, msg_start, len(result))\n"
     ]
    },
    {
     "name": "stdout",
     "output_type": "stream",
     "text": [
      "Training with learning rate: 0.001, dropout: 0.2, channels: 128, kernel size: 5\n"
     ]
    },
    {
     "name": "stderr",
     "output_type": "stream",
     "text": [
      "c:\\Users\\Grego\\AppData\\Local\\Programs\\Python\\Python310\\lib\\site-packages\\sklearn\\metrics\\_classification.py:1344: UndefinedMetricWarning: Precision is ill-defined and being set to 0.0 due to no predicted samples. Use `zero_division` parameter to control this behavior.\n",
      "  _warn_prf(average, modifier, msg_start, len(result))\n"
     ]
    },
    {
     "name": "stdout",
     "output_type": "stream",
     "text": [
      "Training with learning rate: 0.001, dropout: 0.5, channels: 64, kernel size: 3\n"
     ]
    },
    {
     "name": "stderr",
     "output_type": "stream",
     "text": [
      "c:\\Users\\Grego\\AppData\\Local\\Programs\\Python\\Python310\\lib\\site-packages\\sklearn\\metrics\\_classification.py:1344: UndefinedMetricWarning: Precision is ill-defined and being set to 0.0 due to no predicted samples. Use `zero_division` parameter to control this behavior.\n",
      "  _warn_prf(average, modifier, msg_start, len(result))\n"
     ]
    },
    {
     "name": "stdout",
     "output_type": "stream",
     "text": [
      "Training with learning rate: 0.001, dropout: 0.5, channels: 64, kernel size: 5\n"
     ]
    },
    {
     "name": "stderr",
     "output_type": "stream",
     "text": [
      "c:\\Users\\Grego\\AppData\\Local\\Programs\\Python\\Python310\\lib\\site-packages\\sklearn\\metrics\\_classification.py:1344: UndefinedMetricWarning: Precision is ill-defined and being set to 0.0 due to no predicted samples. Use `zero_division` parameter to control this behavior.\n",
      "  _warn_prf(average, modifier, msg_start, len(result))\n"
     ]
    },
    {
     "name": "stdout",
     "output_type": "stream",
     "text": [
      "Training with learning rate: 0.001, dropout: 0.5, channels: 128, kernel size: 3\n"
     ]
    },
    {
     "name": "stderr",
     "output_type": "stream",
     "text": [
      "c:\\Users\\Grego\\AppData\\Local\\Programs\\Python\\Python310\\lib\\site-packages\\sklearn\\metrics\\_classification.py:1344: UndefinedMetricWarning: Precision is ill-defined and being set to 0.0 due to no predicted samples. Use `zero_division` parameter to control this behavior.\n",
      "  _warn_prf(average, modifier, msg_start, len(result))\n"
     ]
    },
    {
     "name": "stdout",
     "output_type": "stream",
     "text": [
      "Training with learning rate: 0.001, dropout: 0.5, channels: 128, kernel size: 5\n"
     ]
    },
    {
     "name": "stderr",
     "output_type": "stream",
     "text": [
      "c:\\Users\\Grego\\AppData\\Local\\Programs\\Python\\Python310\\lib\\site-packages\\sklearn\\metrics\\_classification.py:1344: UndefinedMetricWarning: Precision is ill-defined and being set to 0.0 due to no predicted samples. Use `zero_division` parameter to control this behavior.\n",
      "  _warn_prf(average, modifier, msg_start, len(result))\n"
     ]
    },
    {
     "name": "stdout",
     "output_type": "stream",
     "text": [
      "Training with learning rate: 0.01, dropout: 0.2, channels: 64, kernel size: 3\n"
     ]
    },
    {
     "name": "stderr",
     "output_type": "stream",
     "text": [
      "c:\\Users\\Grego\\AppData\\Local\\Programs\\Python\\Python310\\lib\\site-packages\\sklearn\\metrics\\_classification.py:1344: UndefinedMetricWarning: Precision is ill-defined and being set to 0.0 due to no predicted samples. Use `zero_division` parameter to control this behavior.\n",
      "  _warn_prf(average, modifier, msg_start, len(result))\n"
     ]
    },
    {
     "name": "stdout",
     "output_type": "stream",
     "text": [
      "Training with learning rate: 0.01, dropout: 0.2, channels: 64, kernel size: 5\n"
     ]
    },
    {
     "name": "stderr",
     "output_type": "stream",
     "text": [
      "c:\\Users\\Grego\\AppData\\Local\\Programs\\Python\\Python310\\lib\\site-packages\\sklearn\\metrics\\_classification.py:1344: UndefinedMetricWarning: Precision is ill-defined and being set to 0.0 due to no predicted samples. Use `zero_division` parameter to control this behavior.\n",
      "  _warn_prf(average, modifier, msg_start, len(result))\n"
     ]
    },
    {
     "name": "stdout",
     "output_type": "stream",
     "text": [
      "Training with learning rate: 0.01, dropout: 0.2, channels: 128, kernel size: 3\n"
     ]
    },
    {
     "name": "stderr",
     "output_type": "stream",
     "text": [
      "c:\\Users\\Grego\\AppData\\Local\\Programs\\Python\\Python310\\lib\\site-packages\\sklearn\\metrics\\_classification.py:1344: UndefinedMetricWarning: Precision is ill-defined and being set to 0.0 due to no predicted samples. Use `zero_division` parameter to control this behavior.\n",
      "  _warn_prf(average, modifier, msg_start, len(result))\n"
     ]
    },
    {
     "name": "stdout",
     "output_type": "stream",
     "text": [
      "Training with learning rate: 0.01, dropout: 0.2, channels: 128, kernel size: 5\n"
     ]
    },
    {
     "name": "stderr",
     "output_type": "stream",
     "text": [
      "c:\\Users\\Grego\\AppData\\Local\\Programs\\Python\\Python310\\lib\\site-packages\\sklearn\\metrics\\_classification.py:1344: UndefinedMetricWarning: Precision is ill-defined and being set to 0.0 due to no predicted samples. Use `zero_division` parameter to control this behavior.\n",
      "  _warn_prf(average, modifier, msg_start, len(result))\n"
     ]
    },
    {
     "name": "stdout",
     "output_type": "stream",
     "text": [
      "Training with learning rate: 0.01, dropout: 0.5, channels: 64, kernel size: 3\n"
     ]
    },
    {
     "name": "stderr",
     "output_type": "stream",
     "text": [
      "c:\\Users\\Grego\\AppData\\Local\\Programs\\Python\\Python310\\lib\\site-packages\\sklearn\\metrics\\_classification.py:1344: UndefinedMetricWarning: Precision is ill-defined and being set to 0.0 due to no predicted samples. Use `zero_division` parameter to control this behavior.\n",
      "  _warn_prf(average, modifier, msg_start, len(result))\n"
     ]
    },
    {
     "name": "stdout",
     "output_type": "stream",
     "text": [
      "Training with learning rate: 0.01, dropout: 0.5, channels: 64, kernel size: 5\n"
     ]
    },
    {
     "name": "stderr",
     "output_type": "stream",
     "text": [
      "c:\\Users\\Grego\\AppData\\Local\\Programs\\Python\\Python310\\lib\\site-packages\\sklearn\\metrics\\_classification.py:1344: UndefinedMetricWarning: Precision is ill-defined and being set to 0.0 due to no predicted samples. Use `zero_division` parameter to control this behavior.\n",
      "  _warn_prf(average, modifier, msg_start, len(result))\n"
     ]
    },
    {
     "name": "stdout",
     "output_type": "stream",
     "text": [
      "Training with learning rate: 0.01, dropout: 0.5, channels: 128, kernel size: 3\n"
     ]
    },
    {
     "name": "stderr",
     "output_type": "stream",
     "text": [
      "c:\\Users\\Grego\\AppData\\Local\\Programs\\Python\\Python310\\lib\\site-packages\\sklearn\\metrics\\_classification.py:1344: UndefinedMetricWarning: Precision is ill-defined and being set to 0.0 due to no predicted samples. Use `zero_division` parameter to control this behavior.\n",
      "  _warn_prf(average, modifier, msg_start, len(result))\n"
     ]
    },
    {
     "name": "stdout",
     "output_type": "stream",
     "text": [
      "Training with learning rate: 0.01, dropout: 0.5, channels: 128, kernel size: 5\n"
     ]
    },
    {
     "name": "stderr",
     "output_type": "stream",
     "text": [
      "c:\\Users\\Grego\\AppData\\Local\\Programs\\Python\\Python310\\lib\\site-packages\\sklearn\\metrics\\_classification.py:1344: UndefinedMetricWarning: Precision is ill-defined and being set to 0.0 due to no predicted samples. Use `zero_division` parameter to control this behavior.\n",
      "  _warn_prf(average, modifier, msg_start, len(result))\n"
     ]
    },
    {
     "name": "stdout",
     "output_type": "stream",
     "text": [
      "Best Hyperparameters for Fold 2: (0.001, 0.2, 64, 3)\n",
      "Training on full training set with best hyperparameters: (0.001, 0.2, 64, 3)\n",
      "Epoch 1/100, Loss: 0.7273\n",
      "Epoch 2/100, Loss: 0.6940\n",
      "Epoch 3/100, Loss: 0.6935\n",
      "Epoch 4/100, Loss: 0.6933\n",
      "Epoch 5/100, Loss: 0.6933\n",
      "Epoch 6/100, Loss: 0.6932\n",
      "Epoch 7/100, Loss: 0.6932\n",
      "Epoch 8/100, Loss: 0.6932\n",
      "Epoch 9/100, Loss: 0.6932\n",
      "Epoch 10/100, Loss: 0.6932\n",
      "Epoch 11/100, Loss: 0.6932\n",
      "Epoch 12/100, Loss: 0.6932\n",
      "Epoch 13/100, Loss: 0.6932\n",
      "Epoch 14/100, Loss: 0.6932\n",
      "Epoch 15/100, Loss: 0.6932\n",
      "Epoch 16/100, Loss: 0.6932\n",
      "Epoch 17/100, Loss: 0.6932\n",
      "Epoch 18/100, Loss: 0.6932\n",
      "Epoch 19/100, Loss: 0.6932\n",
      "Epoch 20/100, Loss: 0.6932\n",
      "Epoch 21/100, Loss: 0.6932\n",
      "Epoch 22/100, Loss: 0.6932\n",
      "Epoch 23/100, Loss: 0.6932\n",
      "Epoch 24/100, Loss: 0.6931\n",
      "Epoch 25/100, Loss: 0.6931\n",
      "Epoch 26/100, Loss: 0.6931\n",
      "Epoch 27/100, Loss: 0.6931\n",
      "Epoch 28/100, Loss: 0.6931\n",
      "Epoch 29/100, Loss: 0.6931\n",
      "Epoch 30/100, Loss: 0.6931\n",
      "Epoch 31/100, Loss: 0.6931\n",
      "Epoch 32/100, Loss: 0.6931\n",
      "Epoch 33/100, Loss: 0.6931\n",
      "Epoch 34/100, Loss: 0.6931\n",
      "Epoch 35/100, Loss: 0.6931\n",
      "Epoch 36/100, Loss: 0.6931\n",
      "Epoch 37/100, Loss: 0.6931\n",
      "Epoch 38/100, Loss: 0.6931\n",
      "Epoch 39/100, Loss: 0.6931\n",
      "Epoch 40/100, Loss: 0.6931\n",
      "Epoch 41/100, Loss: 0.6931\n",
      "Epoch 42/100, Loss: 0.6931\n",
      "Epoch 43/100, Loss: 0.6931\n",
      "Epoch 44/100, Loss: 0.6931\n",
      "Epoch 45/100, Loss: 0.6931\n",
      "Epoch 46/100, Loss: 0.6931\n",
      "Epoch 47/100, Loss: 0.6931\n",
      "Epoch 48/100, Loss: 0.6931\n",
      "Epoch 49/100, Loss: 0.6931\n",
      "Epoch 50/100, Loss: 0.6931\n",
      "Epoch 51/100, Loss: 0.6931\n",
      "Epoch 52/100, Loss: 0.6931\n",
      "Epoch 53/100, Loss: 0.6931\n",
      "Epoch 54/100, Loss: 0.6931\n",
      "Epoch 55/100, Loss: 0.6931\n",
      "Epoch 56/100, Loss: 0.6931\n",
      "Epoch 57/100, Loss: 0.6931\n",
      "Epoch 58/100, Loss: 0.6931\n",
      "Epoch 59/100, Loss: 0.6931\n",
      "Epoch 60/100, Loss: 0.6931\n",
      "Epoch 61/100, Loss: 0.6931\n",
      "Epoch 62/100, Loss: 0.6931\n",
      "Epoch 63/100, Loss: 0.6931\n",
      "Epoch 64/100, Loss: 0.6931\n",
      "Epoch 65/100, Loss: 0.6931\n",
      "Epoch 66/100, Loss: 0.6931\n",
      "Epoch 67/100, Loss: 0.6931\n",
      "Epoch 68/100, Loss: 0.6931\n",
      "Epoch 69/100, Loss: 0.6931\n",
      "Epoch 70/100, Loss: 0.6931\n",
      "Epoch 71/100, Loss: 0.6931\n",
      "Epoch 72/100, Loss: 0.6931\n",
      "Epoch 73/100, Loss: 0.6931\n",
      "Epoch 74/100, Loss: 0.6931\n",
      "Epoch 75/100, Loss: 0.6931\n",
      "Epoch 76/100, Loss: 0.6931\n",
      "Epoch 77/100, Loss: 0.6931\n",
      "Epoch 78/100, Loss: 0.6931\n",
      "Epoch 79/100, Loss: 0.6931\n",
      "Epoch 80/100, Loss: 0.6931\n",
      "Epoch 81/100, Loss: 0.6931\n",
      "Epoch 82/100, Loss: 0.6931\n",
      "Epoch 83/100, Loss: 0.6931\n",
      "Epoch 84/100, Loss: 0.6931\n",
      "Epoch 85/100, Loss: 0.6931\n",
      "Epoch 86/100, Loss: 0.6931\n",
      "Epoch 87/100, Loss: 0.6931\n",
      "Epoch 88/100, Loss: 0.6931\n",
      "Epoch 89/100, Loss: 0.6931\n",
      "Epoch 90/100, Loss: 0.6931\n",
      "Epoch 91/100, Loss: 0.6931\n",
      "Epoch 92/100, Loss: 0.6931\n",
      "Epoch 93/100, Loss: 0.6931\n",
      "Epoch 94/100, Loss: 0.6931\n",
      "Epoch 95/100, Loss: 0.6931\n",
      "Epoch 96/100, Loss: 0.6931\n",
      "Epoch 97/100, Loss: 0.6931\n",
      "Epoch 98/100, Loss: 0.6931\n",
      "Epoch 99/100, Loss: 0.6930\n",
      "Epoch 100/100, Loss: 0.6930\n",
      "Test Precision: 0.0000\n",
      "Test Recall: 0.0000\n",
      "Test F1 Score: 0.0000\n",
      "Test ROC-AUC Score: 0.4007\n",
      "Test AUPRC Score: 0.0285\n",
      "Confusion Matrix:\n",
      "[[684   0]\n",
      " [ 26   0]]\n",
      "Classification Report:\n",
      "              precision    recall  f1-score   support\n",
      "\n",
      "         0.0       0.96      1.00      0.98       684\n",
      "         1.0       0.00      0.00      0.00        26\n",
      "\n",
      "    accuracy                           0.96       710\n",
      "   macro avg       0.48      0.50      0.49       710\n",
      "weighted avg       0.93      0.96      0.95       710\n",
      "\n",
      "Fold 3\n",
      "Training with learning rate: 0.001, dropout: 0.2, channels: 64, kernel size: 3\n"
     ]
    },
    {
     "name": "stderr",
     "output_type": "stream",
     "text": [
      "c:\\Users\\Grego\\AppData\\Local\\Programs\\Python\\Python310\\lib\\site-packages\\sklearn\\metrics\\_classification.py:1344: UndefinedMetricWarning: Precision is ill-defined and being set to 0.0 due to no predicted samples. Use `zero_division` parameter to control this behavior.\n",
      "  _warn_prf(average, modifier, msg_start, len(result))\n",
      "c:\\Users\\Grego\\AppData\\Local\\Programs\\Python\\Python310\\lib\\site-packages\\sklearn\\metrics\\_classification.py:1344: UndefinedMetricWarning: Precision and F-score are ill-defined and being set to 0.0 in labels with no predicted samples. Use `zero_division` parameter to control this behavior.\n",
      "  _warn_prf(average, modifier, msg_start, len(result))\n",
      "c:\\Users\\Grego\\AppData\\Local\\Programs\\Python\\Python310\\lib\\site-packages\\sklearn\\metrics\\_classification.py:1344: UndefinedMetricWarning: Precision and F-score are ill-defined and being set to 0.0 in labels with no predicted samples. Use `zero_division` parameter to control this behavior.\n",
      "  _warn_prf(average, modifier, msg_start, len(result))\n",
      "c:\\Users\\Grego\\AppData\\Local\\Programs\\Python\\Python310\\lib\\site-packages\\sklearn\\metrics\\_classification.py:1344: UndefinedMetricWarning: Precision and F-score are ill-defined and being set to 0.0 in labels with no predicted samples. Use `zero_division` parameter to control this behavior.\n",
      "  _warn_prf(average, modifier, msg_start, len(result))\n",
      "c:\\Users\\Grego\\AppData\\Local\\Programs\\Python\\Python310\\lib\\site-packages\\sklearn\\metrics\\_classification.py:1344: UndefinedMetricWarning: Precision is ill-defined and being set to 0.0 due to no predicted samples. Use `zero_division` parameter to control this behavior.\n",
      "  _warn_prf(average, modifier, msg_start, len(result))\n"
     ]
    },
    {
     "name": "stdout",
     "output_type": "stream",
     "text": [
      "Found new best hyperparameters: (0.001, 0.2, 64, 3)\n",
      "Training with learning rate: 0.001, dropout: 0.2, channels: 64, kernel size: 5\n"
     ]
    },
    {
     "name": "stderr",
     "output_type": "stream",
     "text": [
      "c:\\Users\\Grego\\AppData\\Local\\Programs\\Python\\Python310\\lib\\site-packages\\sklearn\\metrics\\_classification.py:1344: UndefinedMetricWarning: Precision is ill-defined and being set to 0.0 due to no predicted samples. Use `zero_division` parameter to control this behavior.\n",
      "  _warn_prf(average, modifier, msg_start, len(result))\n"
     ]
    },
    {
     "name": "stdout",
     "output_type": "stream",
     "text": [
      "Training with learning rate: 0.001, dropout: 0.2, channels: 128, kernel size: 3\n"
     ]
    },
    {
     "name": "stderr",
     "output_type": "stream",
     "text": [
      "c:\\Users\\Grego\\AppData\\Local\\Programs\\Python\\Python310\\lib\\site-packages\\sklearn\\metrics\\_classification.py:1344: UndefinedMetricWarning: Precision is ill-defined and being set to 0.0 due to no predicted samples. Use `zero_division` parameter to control this behavior.\n",
      "  _warn_prf(average, modifier, msg_start, len(result))\n"
     ]
    },
    {
     "name": "stdout",
     "output_type": "stream",
     "text": [
      "Training with learning rate: 0.001, dropout: 0.2, channels: 128, kernel size: 5\n"
     ]
    },
    {
     "name": "stderr",
     "output_type": "stream",
     "text": [
      "c:\\Users\\Grego\\AppData\\Local\\Programs\\Python\\Python310\\lib\\site-packages\\sklearn\\metrics\\_classification.py:1344: UndefinedMetricWarning: Precision is ill-defined and being set to 0.0 due to no predicted samples. Use `zero_division` parameter to control this behavior.\n",
      "  _warn_prf(average, modifier, msg_start, len(result))\n"
     ]
    },
    {
     "name": "stdout",
     "output_type": "stream",
     "text": [
      "Training with learning rate: 0.001, dropout: 0.5, channels: 64, kernel size: 3\n"
     ]
    },
    {
     "name": "stderr",
     "output_type": "stream",
     "text": [
      "c:\\Users\\Grego\\AppData\\Local\\Programs\\Python\\Python310\\lib\\site-packages\\sklearn\\metrics\\_classification.py:1344: UndefinedMetricWarning: Precision is ill-defined and being set to 0.0 due to no predicted samples. Use `zero_division` parameter to control this behavior.\n",
      "  _warn_prf(average, modifier, msg_start, len(result))\n"
     ]
    },
    {
     "name": "stdout",
     "output_type": "stream",
     "text": [
      "Training with learning rate: 0.001, dropout: 0.5, channels: 64, kernel size: 5\n"
     ]
    },
    {
     "name": "stderr",
     "output_type": "stream",
     "text": [
      "c:\\Users\\Grego\\AppData\\Local\\Programs\\Python\\Python310\\lib\\site-packages\\sklearn\\metrics\\_classification.py:1344: UndefinedMetricWarning: Precision is ill-defined and being set to 0.0 due to no predicted samples. Use `zero_division` parameter to control this behavior.\n",
      "  _warn_prf(average, modifier, msg_start, len(result))\n"
     ]
    },
    {
     "name": "stdout",
     "output_type": "stream",
     "text": [
      "Training with learning rate: 0.001, dropout: 0.5, channels: 128, kernel size: 3\n"
     ]
    },
    {
     "name": "stderr",
     "output_type": "stream",
     "text": [
      "c:\\Users\\Grego\\AppData\\Local\\Programs\\Python\\Python310\\lib\\site-packages\\sklearn\\metrics\\_classification.py:1344: UndefinedMetricWarning: Precision is ill-defined and being set to 0.0 due to no predicted samples. Use `zero_division` parameter to control this behavior.\n",
      "  _warn_prf(average, modifier, msg_start, len(result))\n"
     ]
    },
    {
     "name": "stdout",
     "output_type": "stream",
     "text": [
      "Training with learning rate: 0.001, dropout: 0.5, channels: 128, kernel size: 5\n"
     ]
    },
    {
     "name": "stderr",
     "output_type": "stream",
     "text": [
      "c:\\Users\\Grego\\AppData\\Local\\Programs\\Python\\Python310\\lib\\site-packages\\sklearn\\metrics\\_classification.py:1344: UndefinedMetricWarning: Precision is ill-defined and being set to 0.0 due to no predicted samples. Use `zero_division` parameter to control this behavior.\n",
      "  _warn_prf(average, modifier, msg_start, len(result))\n"
     ]
    },
    {
     "name": "stdout",
     "output_type": "stream",
     "text": [
      "Training with learning rate: 0.01, dropout: 0.2, channels: 64, kernel size: 3\n"
     ]
    },
    {
     "name": "stderr",
     "output_type": "stream",
     "text": [
      "c:\\Users\\Grego\\AppData\\Local\\Programs\\Python\\Python310\\lib\\site-packages\\sklearn\\metrics\\_classification.py:1344: UndefinedMetricWarning: Precision is ill-defined and being set to 0.0 due to no predicted samples. Use `zero_division` parameter to control this behavior.\n",
      "  _warn_prf(average, modifier, msg_start, len(result))\n"
     ]
    },
    {
     "name": "stdout",
     "output_type": "stream",
     "text": [
      "Training with learning rate: 0.01, dropout: 0.2, channels: 64, kernel size: 5\n"
     ]
    },
    {
     "name": "stderr",
     "output_type": "stream",
     "text": [
      "c:\\Users\\Grego\\AppData\\Local\\Programs\\Python\\Python310\\lib\\site-packages\\sklearn\\metrics\\_classification.py:1344: UndefinedMetricWarning: Precision is ill-defined and being set to 0.0 due to no predicted samples. Use `zero_division` parameter to control this behavior.\n",
      "  _warn_prf(average, modifier, msg_start, len(result))\n"
     ]
    },
    {
     "name": "stdout",
     "output_type": "stream",
     "text": [
      "Training with learning rate: 0.01, dropout: 0.2, channels: 128, kernel size: 3\n"
     ]
    },
    {
     "name": "stderr",
     "output_type": "stream",
     "text": [
      "c:\\Users\\Grego\\AppData\\Local\\Programs\\Python\\Python310\\lib\\site-packages\\sklearn\\metrics\\_classification.py:1344: UndefinedMetricWarning: Precision is ill-defined and being set to 0.0 due to no predicted samples. Use `zero_division` parameter to control this behavior.\n",
      "  _warn_prf(average, modifier, msg_start, len(result))\n"
     ]
    },
    {
     "name": "stdout",
     "output_type": "stream",
     "text": [
      "Training with learning rate: 0.01, dropout: 0.2, channels: 128, kernel size: 5\n"
     ]
    },
    {
     "name": "stderr",
     "output_type": "stream",
     "text": [
      "c:\\Users\\Grego\\AppData\\Local\\Programs\\Python\\Python310\\lib\\site-packages\\sklearn\\metrics\\_classification.py:1344: UndefinedMetricWarning: Precision is ill-defined and being set to 0.0 due to no predicted samples. Use `zero_division` parameter to control this behavior.\n",
      "  _warn_prf(average, modifier, msg_start, len(result))\n"
     ]
    },
    {
     "name": "stdout",
     "output_type": "stream",
     "text": [
      "Training with learning rate: 0.01, dropout: 0.5, channels: 64, kernel size: 3\n"
     ]
    },
    {
     "name": "stderr",
     "output_type": "stream",
     "text": [
      "c:\\Users\\Grego\\AppData\\Local\\Programs\\Python\\Python310\\lib\\site-packages\\sklearn\\metrics\\_classification.py:1344: UndefinedMetricWarning: Precision is ill-defined and being set to 0.0 due to no predicted samples. Use `zero_division` parameter to control this behavior.\n",
      "  _warn_prf(average, modifier, msg_start, len(result))\n"
     ]
    },
    {
     "name": "stdout",
     "output_type": "stream",
     "text": [
      "Training with learning rate: 0.01, dropout: 0.5, channels: 64, kernel size: 5\n"
     ]
    },
    {
     "name": "stderr",
     "output_type": "stream",
     "text": [
      "c:\\Users\\Grego\\AppData\\Local\\Programs\\Python\\Python310\\lib\\site-packages\\sklearn\\metrics\\_classification.py:1344: UndefinedMetricWarning: Precision is ill-defined and being set to 0.0 due to no predicted samples. Use `zero_division` parameter to control this behavior.\n",
      "  _warn_prf(average, modifier, msg_start, len(result))\n"
     ]
    },
    {
     "name": "stdout",
     "output_type": "stream",
     "text": [
      "Training with learning rate: 0.01, dropout: 0.5, channels: 128, kernel size: 3\n"
     ]
    },
    {
     "name": "stderr",
     "output_type": "stream",
     "text": [
      "c:\\Users\\Grego\\AppData\\Local\\Programs\\Python\\Python310\\lib\\site-packages\\sklearn\\metrics\\_classification.py:1344: UndefinedMetricWarning: Precision is ill-defined and being set to 0.0 due to no predicted samples. Use `zero_division` parameter to control this behavior.\n",
      "  _warn_prf(average, modifier, msg_start, len(result))\n"
     ]
    },
    {
     "name": "stdout",
     "output_type": "stream",
     "text": [
      "Training with learning rate: 0.01, dropout: 0.5, channels: 128, kernel size: 5\n"
     ]
    },
    {
     "name": "stderr",
     "output_type": "stream",
     "text": [
      "c:\\Users\\Grego\\AppData\\Local\\Programs\\Python\\Python310\\lib\\site-packages\\sklearn\\metrics\\_classification.py:1344: UndefinedMetricWarning: Precision is ill-defined and being set to 0.0 due to no predicted samples. Use `zero_division` parameter to control this behavior.\n",
      "  _warn_prf(average, modifier, msg_start, len(result))\n"
     ]
    },
    {
     "name": "stdout",
     "output_type": "stream",
     "text": [
      "Best Hyperparameters for Fold 3: (0.001, 0.2, 64, 3)\n",
      "Training on full training set with best hyperparameters: (0.001, 0.2, 64, 3)\n",
      "Epoch 1/100, Loss: 0.7265\n",
      "Epoch 2/100, Loss: 0.6941\n",
      "Epoch 3/100, Loss: 0.6935\n",
      "Epoch 4/100, Loss: 0.6933\n",
      "Epoch 5/100, Loss: 0.6933\n",
      "Epoch 6/100, Loss: 0.6932\n",
      "Epoch 7/100, Loss: 0.6932\n",
      "Epoch 8/100, Loss: 0.6932\n",
      "Epoch 9/100, Loss: 0.6932\n",
      "Epoch 10/100, Loss: 0.6932\n",
      "Epoch 11/100, Loss: 0.6932\n",
      "Epoch 12/100, Loss: 0.6932\n",
      "Epoch 13/100, Loss: 0.6932\n",
      "Epoch 14/100, Loss: 0.6932\n",
      "Epoch 15/100, Loss: 0.6932\n",
      "Epoch 16/100, Loss: 0.6932\n",
      "Epoch 17/100, Loss: 0.6932\n",
      "Epoch 18/100, Loss: 0.6932\n",
      "Epoch 19/100, Loss: 0.6932\n",
      "Epoch 20/100, Loss: 0.6932\n",
      "Epoch 21/100, Loss: 0.6932\n",
      "Epoch 22/100, Loss: 0.6932\n",
      "Epoch 23/100, Loss: 0.6932\n",
      "Epoch 24/100, Loss: 0.6932\n",
      "Epoch 25/100, Loss: 0.6931\n",
      "Epoch 26/100, Loss: 0.6931\n",
      "Epoch 27/100, Loss: 0.6931\n",
      "Epoch 28/100, Loss: 0.6931\n",
      "Epoch 29/100, Loss: 0.6931\n",
      "Epoch 30/100, Loss: 0.6931\n",
      "Epoch 31/100, Loss: 0.6931\n",
      "Epoch 32/100, Loss: 0.6931\n",
      "Epoch 33/100, Loss: 0.6931\n",
      "Epoch 34/100, Loss: 0.6931\n",
      "Epoch 35/100, Loss: 0.6931\n",
      "Epoch 36/100, Loss: 0.6931\n",
      "Epoch 37/100, Loss: 0.6931\n",
      "Epoch 38/100, Loss: 0.6931\n",
      "Epoch 39/100, Loss: 0.6931\n",
      "Epoch 40/100, Loss: 0.6931\n",
      "Epoch 41/100, Loss: 0.6931\n",
      "Epoch 42/100, Loss: 0.6931\n",
      "Epoch 43/100, Loss: 0.6931\n",
      "Epoch 44/100, Loss: 0.6931\n",
      "Epoch 45/100, Loss: 0.6931\n",
      "Epoch 46/100, Loss: 0.6931\n",
      "Epoch 47/100, Loss: 0.6931\n",
      "Epoch 48/100, Loss: 0.6931\n",
      "Epoch 49/100, Loss: 0.6931\n",
      "Epoch 50/100, Loss: 0.6931\n",
      "Epoch 51/100, Loss: 0.6931\n",
      "Epoch 52/100, Loss: 0.6931\n",
      "Epoch 53/100, Loss: 0.6931\n",
      "Epoch 54/100, Loss: 0.6931\n",
      "Epoch 55/100, Loss: 0.6931\n",
      "Epoch 56/100, Loss: 0.6931\n",
      "Epoch 57/100, Loss: 0.6931\n",
      "Epoch 58/100, Loss: 0.6931\n",
      "Epoch 59/100, Loss: 0.6931\n",
      "Epoch 60/100, Loss: 0.6931\n",
      "Epoch 61/100, Loss: 0.6931\n",
      "Epoch 62/100, Loss: 0.6931\n",
      "Epoch 63/100, Loss: 0.6931\n",
      "Epoch 64/100, Loss: 0.6931\n",
      "Epoch 65/100, Loss: 0.6931\n",
      "Epoch 66/100, Loss: 0.6931\n",
      "Epoch 67/100, Loss: 0.6931\n",
      "Epoch 68/100, Loss: 0.6931\n",
      "Epoch 69/100, Loss: 0.6931\n",
      "Epoch 70/100, Loss: 0.6931\n",
      "Epoch 71/100, Loss: 0.6931\n",
      "Epoch 72/100, Loss: 0.6931\n",
      "Epoch 73/100, Loss: 0.6931\n",
      "Epoch 74/100, Loss: 0.6931\n",
      "Epoch 75/100, Loss: 0.6931\n",
      "Epoch 76/100, Loss: 0.6931\n",
      "Epoch 77/100, Loss: 0.6931\n",
      "Epoch 78/100, Loss: 0.6931\n",
      "Epoch 79/100, Loss: 0.6931\n",
      "Epoch 80/100, Loss: 0.6931\n",
      "Epoch 81/100, Loss: 0.6931\n",
      "Epoch 82/100, Loss: 0.6931\n",
      "Epoch 83/100, Loss: 0.6931\n",
      "Epoch 84/100, Loss: 0.6931\n",
      "Epoch 85/100, Loss: 0.6931\n",
      "Epoch 86/100, Loss: 0.6931\n",
      "Epoch 87/100, Loss: 0.6931\n",
      "Epoch 88/100, Loss: 0.6931\n",
      "Epoch 89/100, Loss: 0.6931\n",
      "Epoch 90/100, Loss: 0.6931\n",
      "Epoch 91/100, Loss: 0.6931\n",
      "Epoch 92/100, Loss: 0.6931\n",
      "Epoch 93/100, Loss: 0.6931\n",
      "Epoch 94/100, Loss: 0.6931\n",
      "Epoch 95/100, Loss: 0.6931\n",
      "Epoch 96/100, Loss: 0.6931\n",
      "Epoch 97/100, Loss: 0.6931\n",
      "Epoch 98/100, Loss: 0.6931\n",
      "Epoch 99/100, Loss: 0.6931\n",
      "Epoch 100/100, Loss: 0.6931\n",
      "Test Precision: 0.0000\n",
      "Test Recall: 0.0000\n",
      "Test F1 Score: 0.0000\n",
      "Test ROC-AUC Score: 0.3913\n",
      "Test AUPRC Score: 0.0299\n",
      "Confusion Matrix:\n",
      "[[682   0]\n",
      " [ 28   0]]\n",
      "Classification Report:\n",
      "              precision    recall  f1-score   support\n",
      "\n",
      "         0.0       0.96      1.00      0.98       682\n",
      "         1.0       0.00      0.00      0.00        28\n",
      "\n",
      "    accuracy                           0.96       710\n",
      "   macro avg       0.48      0.50      0.49       710\n",
      "weighted avg       0.92      0.96      0.94       710\n",
      "\n",
      "Fold 4\n",
      "Training with learning rate: 0.001, dropout: 0.2, channels: 64, kernel size: 3\n"
     ]
    },
    {
     "name": "stderr",
     "output_type": "stream",
     "text": [
      "c:\\Users\\Grego\\AppData\\Local\\Programs\\Python\\Python310\\lib\\site-packages\\sklearn\\metrics\\_classification.py:1344: UndefinedMetricWarning: Precision is ill-defined and being set to 0.0 due to no predicted samples. Use `zero_division` parameter to control this behavior.\n",
      "  _warn_prf(average, modifier, msg_start, len(result))\n",
      "c:\\Users\\Grego\\AppData\\Local\\Programs\\Python\\Python310\\lib\\site-packages\\sklearn\\metrics\\_classification.py:1344: UndefinedMetricWarning: Precision and F-score are ill-defined and being set to 0.0 in labels with no predicted samples. Use `zero_division` parameter to control this behavior.\n",
      "  _warn_prf(average, modifier, msg_start, len(result))\n",
      "c:\\Users\\Grego\\AppData\\Local\\Programs\\Python\\Python310\\lib\\site-packages\\sklearn\\metrics\\_classification.py:1344: UndefinedMetricWarning: Precision and F-score are ill-defined and being set to 0.0 in labels with no predicted samples. Use `zero_division` parameter to control this behavior.\n",
      "  _warn_prf(average, modifier, msg_start, len(result))\n",
      "c:\\Users\\Grego\\AppData\\Local\\Programs\\Python\\Python310\\lib\\site-packages\\sklearn\\metrics\\_classification.py:1344: UndefinedMetricWarning: Precision and F-score are ill-defined and being set to 0.0 in labels with no predicted samples. Use `zero_division` parameter to control this behavior.\n",
      "  _warn_prf(average, modifier, msg_start, len(result))\n",
      "c:\\Users\\Grego\\AppData\\Local\\Programs\\Python\\Python310\\lib\\site-packages\\sklearn\\metrics\\_classification.py:1344: UndefinedMetricWarning: Precision is ill-defined and being set to 0.0 due to no predicted samples. Use `zero_division` parameter to control this behavior.\n",
      "  _warn_prf(average, modifier, msg_start, len(result))\n"
     ]
    },
    {
     "name": "stdout",
     "output_type": "stream",
     "text": [
      "Found new best hyperparameters: (0.001, 0.2, 64, 3)\n",
      "Training with learning rate: 0.001, dropout: 0.2, channels: 64, kernel size: 5\n"
     ]
    },
    {
     "name": "stderr",
     "output_type": "stream",
     "text": [
      "c:\\Users\\Grego\\AppData\\Local\\Programs\\Python\\Python310\\lib\\site-packages\\sklearn\\metrics\\_classification.py:1344: UndefinedMetricWarning: Precision is ill-defined and being set to 0.0 due to no predicted samples. Use `zero_division` parameter to control this behavior.\n",
      "  _warn_prf(average, modifier, msg_start, len(result))\n"
     ]
    },
    {
     "name": "stdout",
     "output_type": "stream",
     "text": [
      "Training with learning rate: 0.001, dropout: 0.2, channels: 128, kernel size: 3\n"
     ]
    },
    {
     "name": "stderr",
     "output_type": "stream",
     "text": [
      "c:\\Users\\Grego\\AppData\\Local\\Programs\\Python\\Python310\\lib\\site-packages\\sklearn\\metrics\\_classification.py:1344: UndefinedMetricWarning: Precision is ill-defined and being set to 0.0 due to no predicted samples. Use `zero_division` parameter to control this behavior.\n",
      "  _warn_prf(average, modifier, msg_start, len(result))\n"
     ]
    },
    {
     "name": "stdout",
     "output_type": "stream",
     "text": [
      "Training with learning rate: 0.001, dropout: 0.2, channels: 128, kernel size: 5\n"
     ]
    },
    {
     "name": "stderr",
     "output_type": "stream",
     "text": [
      "c:\\Users\\Grego\\AppData\\Local\\Programs\\Python\\Python310\\lib\\site-packages\\sklearn\\metrics\\_classification.py:1344: UndefinedMetricWarning: Precision is ill-defined and being set to 0.0 due to no predicted samples. Use `zero_division` parameter to control this behavior.\n",
      "  _warn_prf(average, modifier, msg_start, len(result))\n"
     ]
    },
    {
     "name": "stdout",
     "output_type": "stream",
     "text": [
      "Training with learning rate: 0.001, dropout: 0.5, channels: 64, kernel size: 3\n"
     ]
    },
    {
     "name": "stderr",
     "output_type": "stream",
     "text": [
      "c:\\Users\\Grego\\AppData\\Local\\Programs\\Python\\Python310\\lib\\site-packages\\sklearn\\metrics\\_classification.py:1344: UndefinedMetricWarning: Precision is ill-defined and being set to 0.0 due to no predicted samples. Use `zero_division` parameter to control this behavior.\n",
      "  _warn_prf(average, modifier, msg_start, len(result))\n"
     ]
    },
    {
     "name": "stdout",
     "output_type": "stream",
     "text": [
      "Training with learning rate: 0.001, dropout: 0.5, channels: 64, kernel size: 5\n"
     ]
    },
    {
     "name": "stderr",
     "output_type": "stream",
     "text": [
      "c:\\Users\\Grego\\AppData\\Local\\Programs\\Python\\Python310\\lib\\site-packages\\sklearn\\metrics\\_classification.py:1344: UndefinedMetricWarning: Precision is ill-defined and being set to 0.0 due to no predicted samples. Use `zero_division` parameter to control this behavior.\n",
      "  _warn_prf(average, modifier, msg_start, len(result))\n"
     ]
    },
    {
     "name": "stdout",
     "output_type": "stream",
     "text": [
      "Training with learning rate: 0.001, dropout: 0.5, channels: 128, kernel size: 3\n"
     ]
    },
    {
     "name": "stderr",
     "output_type": "stream",
     "text": [
      "c:\\Users\\Grego\\AppData\\Local\\Programs\\Python\\Python310\\lib\\site-packages\\sklearn\\metrics\\_classification.py:1344: UndefinedMetricWarning: Precision is ill-defined and being set to 0.0 due to no predicted samples. Use `zero_division` parameter to control this behavior.\n",
      "  _warn_prf(average, modifier, msg_start, len(result))\n"
     ]
    },
    {
     "name": "stdout",
     "output_type": "stream",
     "text": [
      "Training with learning rate: 0.001, dropout: 0.5, channels: 128, kernel size: 5\n"
     ]
    },
    {
     "name": "stderr",
     "output_type": "stream",
     "text": [
      "c:\\Users\\Grego\\AppData\\Local\\Programs\\Python\\Python310\\lib\\site-packages\\sklearn\\metrics\\_classification.py:1344: UndefinedMetricWarning: Precision is ill-defined and being set to 0.0 due to no predicted samples. Use `zero_division` parameter to control this behavior.\n",
      "  _warn_prf(average, modifier, msg_start, len(result))\n"
     ]
    },
    {
     "name": "stdout",
     "output_type": "stream",
     "text": [
      "Training with learning rate: 0.01, dropout: 0.2, channels: 64, kernel size: 3\n"
     ]
    },
    {
     "name": "stderr",
     "output_type": "stream",
     "text": [
      "c:\\Users\\Grego\\AppData\\Local\\Programs\\Python\\Python310\\lib\\site-packages\\sklearn\\metrics\\_classification.py:1344: UndefinedMetricWarning: Precision is ill-defined and being set to 0.0 due to no predicted samples. Use `zero_division` parameter to control this behavior.\n",
      "  _warn_prf(average, modifier, msg_start, len(result))\n"
     ]
    },
    {
     "name": "stdout",
     "output_type": "stream",
     "text": [
      "Training with learning rate: 0.01, dropout: 0.2, channels: 64, kernel size: 5\n"
     ]
    },
    {
     "name": "stderr",
     "output_type": "stream",
     "text": [
      "c:\\Users\\Grego\\AppData\\Local\\Programs\\Python\\Python310\\lib\\site-packages\\sklearn\\metrics\\_classification.py:1344: UndefinedMetricWarning: Precision is ill-defined and being set to 0.0 due to no predicted samples. Use `zero_division` parameter to control this behavior.\n",
      "  _warn_prf(average, modifier, msg_start, len(result))\n"
     ]
    },
    {
     "name": "stdout",
     "output_type": "stream",
     "text": [
      "Training with learning rate: 0.01, dropout: 0.2, channels: 128, kernel size: 3\n"
     ]
    },
    {
     "name": "stderr",
     "output_type": "stream",
     "text": [
      "c:\\Users\\Grego\\AppData\\Local\\Programs\\Python\\Python310\\lib\\site-packages\\sklearn\\metrics\\_classification.py:1344: UndefinedMetricWarning: Precision is ill-defined and being set to 0.0 due to no predicted samples. Use `zero_division` parameter to control this behavior.\n",
      "  _warn_prf(average, modifier, msg_start, len(result))\n"
     ]
    },
    {
     "name": "stdout",
     "output_type": "stream",
     "text": [
      "Training with learning rate: 0.01, dropout: 0.2, channels: 128, kernel size: 5\n"
     ]
    },
    {
     "name": "stderr",
     "output_type": "stream",
     "text": [
      "c:\\Users\\Grego\\AppData\\Local\\Programs\\Python\\Python310\\lib\\site-packages\\sklearn\\metrics\\_classification.py:1344: UndefinedMetricWarning: Precision is ill-defined and being set to 0.0 due to no predicted samples. Use `zero_division` parameter to control this behavior.\n",
      "  _warn_prf(average, modifier, msg_start, len(result))\n"
     ]
    },
    {
     "name": "stdout",
     "output_type": "stream",
     "text": [
      "Training with learning rate: 0.01, dropout: 0.5, channels: 64, kernel size: 3\n"
     ]
    },
    {
     "name": "stderr",
     "output_type": "stream",
     "text": [
      "c:\\Users\\Grego\\AppData\\Local\\Programs\\Python\\Python310\\lib\\site-packages\\sklearn\\metrics\\_classification.py:1344: UndefinedMetricWarning: Precision is ill-defined and being set to 0.0 due to no predicted samples. Use `zero_division` parameter to control this behavior.\n",
      "  _warn_prf(average, modifier, msg_start, len(result))\n"
     ]
    },
    {
     "name": "stdout",
     "output_type": "stream",
     "text": [
      "Training with learning rate: 0.01, dropout: 0.5, channels: 64, kernel size: 5\n"
     ]
    },
    {
     "name": "stderr",
     "output_type": "stream",
     "text": [
      "c:\\Users\\Grego\\AppData\\Local\\Programs\\Python\\Python310\\lib\\site-packages\\sklearn\\metrics\\_classification.py:1344: UndefinedMetricWarning: Precision is ill-defined and being set to 0.0 due to no predicted samples. Use `zero_division` parameter to control this behavior.\n",
      "  _warn_prf(average, modifier, msg_start, len(result))\n"
     ]
    },
    {
     "name": "stdout",
     "output_type": "stream",
     "text": [
      "Training with learning rate: 0.01, dropout: 0.5, channels: 128, kernel size: 3\n"
     ]
    },
    {
     "name": "stderr",
     "output_type": "stream",
     "text": [
      "c:\\Users\\Grego\\AppData\\Local\\Programs\\Python\\Python310\\lib\\site-packages\\sklearn\\metrics\\_classification.py:1344: UndefinedMetricWarning: Precision is ill-defined and being set to 0.0 due to no predicted samples. Use `zero_division` parameter to control this behavior.\n",
      "  _warn_prf(average, modifier, msg_start, len(result))\n"
     ]
    },
    {
     "name": "stdout",
     "output_type": "stream",
     "text": [
      "Training with learning rate: 0.01, dropout: 0.5, channels: 128, kernel size: 5\n"
     ]
    },
    {
     "name": "stderr",
     "output_type": "stream",
     "text": [
      "c:\\Users\\Grego\\AppData\\Local\\Programs\\Python\\Python310\\lib\\site-packages\\sklearn\\metrics\\_classification.py:1344: UndefinedMetricWarning: Precision is ill-defined and being set to 0.0 due to no predicted samples. Use `zero_division` parameter to control this behavior.\n",
      "  _warn_prf(average, modifier, msg_start, len(result))\n"
     ]
    },
    {
     "name": "stdout",
     "output_type": "stream",
     "text": [
      "Best Hyperparameters for Fold 4: (0.001, 0.2, 64, 3)\n",
      "Training on full training set with best hyperparameters: (0.001, 0.2, 64, 3)\n",
      "Epoch 1/100, Loss: 0.7248\n",
      "Epoch 2/100, Loss: 0.6940\n",
      "Epoch 3/100, Loss: 0.6935\n",
      "Epoch 4/100, Loss: 0.6933\n",
      "Epoch 5/100, Loss: 0.6933\n",
      "Epoch 6/100, Loss: 0.6932\n",
      "Epoch 7/100, Loss: 0.6932\n",
      "Epoch 8/100, Loss: 0.6932\n",
      "Epoch 9/100, Loss: 0.6932\n",
      "Epoch 10/100, Loss: 0.6932\n",
      "Epoch 11/100, Loss: 0.6932\n",
      "Epoch 12/100, Loss: 0.6932\n",
      "Epoch 13/100, Loss: 0.6932\n",
      "Epoch 14/100, Loss: 0.6932\n",
      "Epoch 15/100, Loss: 0.6932\n",
      "Epoch 16/100, Loss: 0.6932\n",
      "Epoch 17/100, Loss: 0.6932\n",
      "Epoch 18/100, Loss: 0.6932\n",
      "Epoch 19/100, Loss: 0.6932\n",
      "Epoch 20/100, Loss: 0.6932\n",
      "Epoch 21/100, Loss: 0.6932\n",
      "Epoch 22/100, Loss: 0.6932\n",
      "Epoch 23/100, Loss: 0.6932\n",
      "Epoch 24/100, Loss: 0.6931\n",
      "Epoch 25/100, Loss: 0.6931\n",
      "Epoch 26/100, Loss: 0.6931\n",
      "Epoch 27/100, Loss: 0.6931\n",
      "Epoch 28/100, Loss: 0.6931\n",
      "Epoch 29/100, Loss: 0.6931\n",
      "Epoch 30/100, Loss: 0.6931\n",
      "Epoch 31/100, Loss: 0.6931\n",
      "Epoch 32/100, Loss: 0.6931\n",
      "Epoch 33/100, Loss: 0.6931\n",
      "Epoch 34/100, Loss: 0.6931\n",
      "Epoch 35/100, Loss: 0.6931\n",
      "Epoch 36/100, Loss: 0.6931\n",
      "Epoch 37/100, Loss: 0.6931\n",
      "Epoch 38/100, Loss: 0.6931\n",
      "Epoch 39/100, Loss: 0.6931\n",
      "Epoch 40/100, Loss: 0.6931\n",
      "Epoch 41/100, Loss: 0.6931\n",
      "Epoch 42/100, Loss: 0.6931\n",
      "Epoch 43/100, Loss: 0.6931\n",
      "Epoch 44/100, Loss: 0.6931\n",
      "Epoch 45/100, Loss: 0.6931\n",
      "Epoch 46/100, Loss: 0.6931\n",
      "Epoch 47/100, Loss: 0.6931\n",
      "Epoch 48/100, Loss: 0.6931\n",
      "Epoch 49/100, Loss: 0.6931\n",
      "Epoch 50/100, Loss: 0.6931\n",
      "Epoch 51/100, Loss: 0.6931\n",
      "Epoch 52/100, Loss: 0.6931\n",
      "Epoch 53/100, Loss: 0.6931\n",
      "Epoch 54/100, Loss: 0.6931\n",
      "Epoch 55/100, Loss: 0.6931\n",
      "Epoch 56/100, Loss: 0.6931\n",
      "Epoch 57/100, Loss: 0.6931\n",
      "Epoch 58/100, Loss: 0.6931\n",
      "Epoch 59/100, Loss: 0.6931\n",
      "Epoch 60/100, Loss: 0.6931\n",
      "Epoch 61/100, Loss: 0.6931\n",
      "Epoch 62/100, Loss: 0.6931\n",
      "Epoch 63/100, Loss: 0.6931\n",
      "Epoch 64/100, Loss: 0.6931\n",
      "Epoch 65/100, Loss: 0.6931\n",
      "Epoch 66/100, Loss: 0.6931\n",
      "Epoch 67/100, Loss: 0.6931\n",
      "Epoch 68/100, Loss: 0.6931\n",
      "Epoch 69/100, Loss: 0.6931\n",
      "Epoch 70/100, Loss: 0.6931\n",
      "Epoch 71/100, Loss: 0.6931\n",
      "Epoch 72/100, Loss: 0.6931\n",
      "Epoch 73/100, Loss: 0.6931\n",
      "Epoch 74/100, Loss: 0.6931\n",
      "Epoch 75/100, Loss: 0.6931\n",
      "Epoch 76/100, Loss: 0.6931\n",
      "Epoch 77/100, Loss: 0.6931\n",
      "Epoch 78/100, Loss: 0.6931\n",
      "Epoch 79/100, Loss: 0.6931\n",
      "Epoch 80/100, Loss: 0.6931\n",
      "Epoch 81/100, Loss: 0.6931\n",
      "Epoch 82/100, Loss: 0.6931\n",
      "Epoch 83/100, Loss: 0.6931\n",
      "Epoch 84/100, Loss: 0.6931\n",
      "Epoch 85/100, Loss: 0.6931\n",
      "Epoch 86/100, Loss: 0.6931\n",
      "Epoch 87/100, Loss: 0.6931\n",
      "Epoch 88/100, Loss: 0.6931\n",
      "Epoch 89/100, Loss: 0.6931\n",
      "Epoch 90/100, Loss: 0.6931\n",
      "Epoch 91/100, Loss: 0.6931\n",
      "Epoch 92/100, Loss: 0.6931\n",
      "Epoch 93/100, Loss: 0.6931\n",
      "Epoch 94/100, Loss: 0.6931\n",
      "Epoch 95/100, Loss: 0.6931\n",
      "Epoch 96/100, Loss: 0.6931\n",
      "Epoch 97/100, Loss: 0.6931\n",
      "Epoch 98/100, Loss: 0.6931\n",
      "Epoch 99/100, Loss: 0.6931\n",
      "Epoch 100/100, Loss: 0.6931\n",
      "Test Precision: 0.0000\n",
      "Test Recall: 0.0000\n",
      "Test F1 Score: 0.0000\n",
      "Test ROC-AUC Score: 0.4483\n",
      "Test AUPRC Score: 0.0325\n",
      "Confusion Matrix:\n",
      "[[689   0]\n",
      " [ 21   0]]\n",
      "Classification Report:\n",
      "              precision    recall  f1-score   support\n",
      "\n",
      "         0.0       0.97      1.00      0.98       689\n",
      "         1.0       0.00      0.00      0.00        21\n",
      "\n",
      "    accuracy                           0.97       710\n",
      "   macro avg       0.49      0.50      0.49       710\n",
      "weighted avg       0.94      0.97      0.96       710\n",
      "\n",
      "Fold 5\n",
      "Training with learning rate: 0.001, dropout: 0.2, channels: 64, kernel size: 3\n"
     ]
    },
    {
     "name": "stderr",
     "output_type": "stream",
     "text": [
      "c:\\Users\\Grego\\AppData\\Local\\Programs\\Python\\Python310\\lib\\site-packages\\sklearn\\metrics\\_classification.py:1344: UndefinedMetricWarning: Precision is ill-defined and being set to 0.0 due to no predicted samples. Use `zero_division` parameter to control this behavior.\n",
      "  _warn_prf(average, modifier, msg_start, len(result))\n",
      "c:\\Users\\Grego\\AppData\\Local\\Programs\\Python\\Python310\\lib\\site-packages\\sklearn\\metrics\\_classification.py:1344: UndefinedMetricWarning: Precision and F-score are ill-defined and being set to 0.0 in labels with no predicted samples. Use `zero_division` parameter to control this behavior.\n",
      "  _warn_prf(average, modifier, msg_start, len(result))\n",
      "c:\\Users\\Grego\\AppData\\Local\\Programs\\Python\\Python310\\lib\\site-packages\\sklearn\\metrics\\_classification.py:1344: UndefinedMetricWarning: Precision and F-score are ill-defined and being set to 0.0 in labels with no predicted samples. Use `zero_division` parameter to control this behavior.\n",
      "  _warn_prf(average, modifier, msg_start, len(result))\n",
      "c:\\Users\\Grego\\AppData\\Local\\Programs\\Python\\Python310\\lib\\site-packages\\sklearn\\metrics\\_classification.py:1344: UndefinedMetricWarning: Precision and F-score are ill-defined and being set to 0.0 in labels with no predicted samples. Use `zero_division` parameter to control this behavior.\n",
      "  _warn_prf(average, modifier, msg_start, len(result))\n",
      "c:\\Users\\Grego\\AppData\\Local\\Programs\\Python\\Python310\\lib\\site-packages\\sklearn\\metrics\\_classification.py:1344: UndefinedMetricWarning: Precision is ill-defined and being set to 0.0 due to no predicted samples. Use `zero_division` parameter to control this behavior.\n",
      "  _warn_prf(average, modifier, msg_start, len(result))\n"
     ]
    },
    {
     "name": "stdout",
     "output_type": "stream",
     "text": [
      "Found new best hyperparameters: (0.001, 0.2, 64, 3)\n",
      "Training with learning rate: 0.001, dropout: 0.2, channels: 64, kernel size: 5\n"
     ]
    },
    {
     "name": "stderr",
     "output_type": "stream",
     "text": [
      "c:\\Users\\Grego\\AppData\\Local\\Programs\\Python\\Python310\\lib\\site-packages\\sklearn\\metrics\\_classification.py:1344: UndefinedMetricWarning: Precision is ill-defined and being set to 0.0 due to no predicted samples. Use `zero_division` parameter to control this behavior.\n",
      "  _warn_prf(average, modifier, msg_start, len(result))\n"
     ]
    },
    {
     "name": "stdout",
     "output_type": "stream",
     "text": [
      "Training with learning rate: 0.001, dropout: 0.2, channels: 128, kernel size: 3\n"
     ]
    },
    {
     "name": "stderr",
     "output_type": "stream",
     "text": [
      "c:\\Users\\Grego\\AppData\\Local\\Programs\\Python\\Python310\\lib\\site-packages\\sklearn\\metrics\\_classification.py:1344: UndefinedMetricWarning: Precision is ill-defined and being set to 0.0 due to no predicted samples. Use `zero_division` parameter to control this behavior.\n",
      "  _warn_prf(average, modifier, msg_start, len(result))\n"
     ]
    },
    {
     "name": "stdout",
     "output_type": "stream",
     "text": [
      "Training with learning rate: 0.001, dropout: 0.2, channels: 128, kernel size: 5\n"
     ]
    },
    {
     "name": "stderr",
     "output_type": "stream",
     "text": [
      "c:\\Users\\Grego\\AppData\\Local\\Programs\\Python\\Python310\\lib\\site-packages\\sklearn\\metrics\\_classification.py:1344: UndefinedMetricWarning: Precision is ill-defined and being set to 0.0 due to no predicted samples. Use `zero_division` parameter to control this behavior.\n",
      "  _warn_prf(average, modifier, msg_start, len(result))\n"
     ]
    },
    {
     "name": "stdout",
     "output_type": "stream",
     "text": [
      "Training with learning rate: 0.001, dropout: 0.5, channels: 64, kernel size: 3\n"
     ]
    },
    {
     "name": "stderr",
     "output_type": "stream",
     "text": [
      "c:\\Users\\Grego\\AppData\\Local\\Programs\\Python\\Python310\\lib\\site-packages\\sklearn\\metrics\\_classification.py:1344: UndefinedMetricWarning: Precision is ill-defined and being set to 0.0 due to no predicted samples. Use `zero_division` parameter to control this behavior.\n",
      "  _warn_prf(average, modifier, msg_start, len(result))\n"
     ]
    },
    {
     "name": "stdout",
     "output_type": "stream",
     "text": [
      "Training with learning rate: 0.001, dropout: 0.5, channels: 64, kernel size: 5\n"
     ]
    },
    {
     "name": "stderr",
     "output_type": "stream",
     "text": [
      "c:\\Users\\Grego\\AppData\\Local\\Programs\\Python\\Python310\\lib\\site-packages\\sklearn\\metrics\\_classification.py:1344: UndefinedMetricWarning: Precision is ill-defined and being set to 0.0 due to no predicted samples. Use `zero_division` parameter to control this behavior.\n",
      "  _warn_prf(average, modifier, msg_start, len(result))\n"
     ]
    },
    {
     "name": "stdout",
     "output_type": "stream",
     "text": [
      "Training with learning rate: 0.001, dropout: 0.5, channels: 128, kernel size: 3\n"
     ]
    },
    {
     "name": "stderr",
     "output_type": "stream",
     "text": [
      "c:\\Users\\Grego\\AppData\\Local\\Programs\\Python\\Python310\\lib\\site-packages\\sklearn\\metrics\\_classification.py:1344: UndefinedMetricWarning: Precision is ill-defined and being set to 0.0 due to no predicted samples. Use `zero_division` parameter to control this behavior.\n",
      "  _warn_prf(average, modifier, msg_start, len(result))\n"
     ]
    },
    {
     "name": "stdout",
     "output_type": "stream",
     "text": [
      "Training with learning rate: 0.001, dropout: 0.5, channels: 128, kernel size: 5\n"
     ]
    },
    {
     "name": "stderr",
     "output_type": "stream",
     "text": [
      "c:\\Users\\Grego\\AppData\\Local\\Programs\\Python\\Python310\\lib\\site-packages\\sklearn\\metrics\\_classification.py:1344: UndefinedMetricWarning: Precision is ill-defined and being set to 0.0 due to no predicted samples. Use `zero_division` parameter to control this behavior.\n",
      "  _warn_prf(average, modifier, msg_start, len(result))\n"
     ]
    },
    {
     "name": "stdout",
     "output_type": "stream",
     "text": [
      "Training with learning rate: 0.01, dropout: 0.2, channels: 64, kernel size: 3\n"
     ]
    },
    {
     "name": "stderr",
     "output_type": "stream",
     "text": [
      "c:\\Users\\Grego\\AppData\\Local\\Programs\\Python\\Python310\\lib\\site-packages\\sklearn\\metrics\\_classification.py:1344: UndefinedMetricWarning: Precision is ill-defined and being set to 0.0 due to no predicted samples. Use `zero_division` parameter to control this behavior.\n",
      "  _warn_prf(average, modifier, msg_start, len(result))\n"
     ]
    },
    {
     "name": "stdout",
     "output_type": "stream",
     "text": [
      "Training with learning rate: 0.01, dropout: 0.2, channels: 64, kernel size: 5\n"
     ]
    },
    {
     "name": "stderr",
     "output_type": "stream",
     "text": [
      "c:\\Users\\Grego\\AppData\\Local\\Programs\\Python\\Python310\\lib\\site-packages\\sklearn\\metrics\\_classification.py:1344: UndefinedMetricWarning: Precision is ill-defined and being set to 0.0 due to no predicted samples. Use `zero_division` parameter to control this behavior.\n",
      "  _warn_prf(average, modifier, msg_start, len(result))\n"
     ]
    },
    {
     "name": "stdout",
     "output_type": "stream",
     "text": [
      "Training with learning rate: 0.01, dropout: 0.2, channels: 128, kernel size: 3\n"
     ]
    },
    {
     "name": "stderr",
     "output_type": "stream",
     "text": [
      "c:\\Users\\Grego\\AppData\\Local\\Programs\\Python\\Python310\\lib\\site-packages\\sklearn\\metrics\\_classification.py:1344: UndefinedMetricWarning: Precision is ill-defined and being set to 0.0 due to no predicted samples. Use `zero_division` parameter to control this behavior.\n",
      "  _warn_prf(average, modifier, msg_start, len(result))\n"
     ]
    },
    {
     "name": "stdout",
     "output_type": "stream",
     "text": [
      "Training with learning rate: 0.01, dropout: 0.2, channels: 128, kernel size: 5\n"
     ]
    },
    {
     "name": "stderr",
     "output_type": "stream",
     "text": [
      "c:\\Users\\Grego\\AppData\\Local\\Programs\\Python\\Python310\\lib\\site-packages\\sklearn\\metrics\\_classification.py:1344: UndefinedMetricWarning: Precision is ill-defined and being set to 0.0 due to no predicted samples. Use `zero_division` parameter to control this behavior.\n",
      "  _warn_prf(average, modifier, msg_start, len(result))\n"
     ]
    },
    {
     "name": "stdout",
     "output_type": "stream",
     "text": [
      "Training with learning rate: 0.01, dropout: 0.5, channels: 64, kernel size: 3\n"
     ]
    },
    {
     "name": "stderr",
     "output_type": "stream",
     "text": [
      "c:\\Users\\Grego\\AppData\\Local\\Programs\\Python\\Python310\\lib\\site-packages\\sklearn\\metrics\\_classification.py:1344: UndefinedMetricWarning: Precision is ill-defined and being set to 0.0 due to no predicted samples. Use `zero_division` parameter to control this behavior.\n",
      "  _warn_prf(average, modifier, msg_start, len(result))\n"
     ]
    },
    {
     "name": "stdout",
     "output_type": "stream",
     "text": [
      "Training with learning rate: 0.01, dropout: 0.5, channels: 64, kernel size: 5\n"
     ]
    },
    {
     "name": "stderr",
     "output_type": "stream",
     "text": [
      "c:\\Users\\Grego\\AppData\\Local\\Programs\\Python\\Python310\\lib\\site-packages\\sklearn\\metrics\\_classification.py:1344: UndefinedMetricWarning: Precision is ill-defined and being set to 0.0 due to no predicted samples. Use `zero_division` parameter to control this behavior.\n",
      "  _warn_prf(average, modifier, msg_start, len(result))\n"
     ]
    },
    {
     "name": "stdout",
     "output_type": "stream",
     "text": [
      "Training with learning rate: 0.01, dropout: 0.5, channels: 128, kernel size: 3\n"
     ]
    },
    {
     "name": "stderr",
     "output_type": "stream",
     "text": [
      "c:\\Users\\Grego\\AppData\\Local\\Programs\\Python\\Python310\\lib\\site-packages\\sklearn\\metrics\\_classification.py:1344: UndefinedMetricWarning: Precision is ill-defined and being set to 0.0 due to no predicted samples. Use `zero_division` parameter to control this behavior.\n",
      "  _warn_prf(average, modifier, msg_start, len(result))\n"
     ]
    },
    {
     "name": "stdout",
     "output_type": "stream",
     "text": [
      "Training with learning rate: 0.01, dropout: 0.5, channels: 128, kernel size: 5\n"
     ]
    },
    {
     "name": "stderr",
     "output_type": "stream",
     "text": [
      "c:\\Users\\Grego\\AppData\\Local\\Programs\\Python\\Python310\\lib\\site-packages\\sklearn\\metrics\\_classification.py:1344: UndefinedMetricWarning: Precision is ill-defined and being set to 0.0 due to no predicted samples. Use `zero_division` parameter to control this behavior.\n",
      "  _warn_prf(average, modifier, msg_start, len(result))\n"
     ]
    },
    {
     "name": "stdout",
     "output_type": "stream",
     "text": [
      "Best Hyperparameters for Fold 5: (0.001, 0.2, 64, 3)\n",
      "Training on full training set with best hyperparameters: (0.001, 0.2, 64, 3)\n",
      "Epoch 1/100, Loss: 0.7200\n",
      "Epoch 2/100, Loss: 0.6939\n",
      "Epoch 3/100, Loss: 0.6934\n",
      "Epoch 4/100, Loss: 0.6933\n",
      "Epoch 5/100, Loss: 0.6932\n",
      "Epoch 6/100, Loss: 0.6932\n",
      "Epoch 7/100, Loss: 0.6932\n",
      "Epoch 8/100, Loss: 0.6932\n",
      "Epoch 9/100, Loss: 0.6932\n",
      "Epoch 10/100, Loss: 0.6932\n",
      "Epoch 11/100, Loss: 0.6932\n",
      "Epoch 12/100, Loss: 0.6932\n",
      "Epoch 13/100, Loss: 0.6932\n",
      "Epoch 14/100, Loss: 0.6932\n",
      "Epoch 15/100, Loss: 0.6932\n",
      "Epoch 16/100, Loss: 0.6932\n",
      "Epoch 17/100, Loss: 0.6932\n",
      "Epoch 18/100, Loss: 0.6932\n",
      "Epoch 19/100, Loss: 0.6932\n",
      "Epoch 20/100, Loss: 0.6932\n",
      "Epoch 21/100, Loss: 0.6932\n",
      "Epoch 22/100, Loss: 0.6932\n",
      "Epoch 23/100, Loss: 0.6931\n",
      "Epoch 24/100, Loss: 0.6931\n",
      "Epoch 25/100, Loss: 0.6931\n",
      "Epoch 26/100, Loss: 0.6931\n",
      "Epoch 27/100, Loss: 0.6931\n",
      "Epoch 28/100, Loss: 0.6931\n",
      "Epoch 29/100, Loss: 0.6931\n",
      "Epoch 30/100, Loss: 0.6931\n",
      "Epoch 31/100, Loss: 0.6931\n",
      "Epoch 32/100, Loss: 0.6931\n",
      "Epoch 33/100, Loss: 0.6931\n",
      "Epoch 34/100, Loss: 0.6931\n",
      "Epoch 35/100, Loss: 0.6931\n",
      "Epoch 36/100, Loss: 0.6931\n",
      "Epoch 37/100, Loss: 0.6931\n",
      "Epoch 38/100, Loss: 0.6931\n",
      "Epoch 39/100, Loss: 0.6931\n",
      "Epoch 40/100, Loss: 0.6931\n",
      "Epoch 41/100, Loss: 0.6931\n",
      "Epoch 42/100, Loss: 0.6931\n",
      "Epoch 43/100, Loss: 0.6931\n",
      "Epoch 44/100, Loss: 0.6931\n",
      "Epoch 45/100, Loss: 0.6931\n",
      "Epoch 46/100, Loss: 0.6931\n",
      "Epoch 47/100, Loss: 0.6931\n",
      "Epoch 48/100, Loss: 0.6931\n",
      "Epoch 49/100, Loss: 0.6931\n",
      "Epoch 50/100, Loss: 0.6931\n",
      "Epoch 51/100, Loss: 0.6931\n",
      "Epoch 52/100, Loss: 0.6931\n",
      "Epoch 53/100, Loss: 0.6931\n",
      "Epoch 54/100, Loss: 0.6931\n",
      "Epoch 55/100, Loss: 0.6931\n",
      "Epoch 56/100, Loss: 0.6931\n",
      "Epoch 57/100, Loss: 0.6931\n",
      "Epoch 58/100, Loss: 0.6931\n",
      "Epoch 59/100, Loss: 0.6931\n",
      "Epoch 60/100, Loss: 0.6931\n",
      "Epoch 61/100, Loss: 0.6931\n",
      "Epoch 62/100, Loss: 0.6931\n",
      "Epoch 63/100, Loss: 0.6931\n",
      "Epoch 64/100, Loss: 0.6931\n",
      "Epoch 65/100, Loss: 0.6931\n",
      "Epoch 66/100, Loss: 0.6931\n",
      "Epoch 67/100, Loss: 0.6931\n",
      "Epoch 68/100, Loss: 0.6931\n",
      "Epoch 69/100, Loss: 0.6931\n",
      "Epoch 70/100, Loss: 0.6931\n",
      "Epoch 71/100, Loss: 0.6931\n",
      "Epoch 72/100, Loss: 0.6931\n",
      "Epoch 73/100, Loss: 0.6931\n",
      "Epoch 74/100, Loss: 0.6931\n",
      "Epoch 75/100, Loss: 0.6931\n",
      "Epoch 76/100, Loss: 0.6931\n",
      "Epoch 77/100, Loss: 0.6931\n",
      "Epoch 78/100, Loss: 0.6931\n",
      "Epoch 79/100, Loss: 0.6931\n",
      "Epoch 80/100, Loss: 0.6931\n",
      "Epoch 81/100, Loss: 0.6931\n",
      "Epoch 82/100, Loss: 0.6931\n",
      "Epoch 83/100, Loss: 0.6931\n",
      "Epoch 84/100, Loss: 0.6931\n",
      "Epoch 85/100, Loss: 0.6931\n",
      "Epoch 86/100, Loss: 0.6931\n",
      "Epoch 87/100, Loss: 0.6931\n",
      "Epoch 88/100, Loss: 0.6931\n",
      "Epoch 89/100, Loss: 0.6931\n",
      "Epoch 90/100, Loss: 0.6931\n",
      "Epoch 91/100, Loss: 0.6931\n",
      "Epoch 92/100, Loss: 0.6931\n",
      "Epoch 93/100, Loss: 0.6931\n",
      "Epoch 94/100, Loss: 0.6931\n",
      "Epoch 95/100, Loss: 0.6931\n",
      "Epoch 96/100, Loss: 0.6931\n",
      "Epoch 97/100, Loss: 0.6931\n",
      "Epoch 98/100, Loss: 0.6931\n",
      "Epoch 99/100, Loss: 0.6931\n",
      "Epoch 100/100, Loss: 0.6931\n",
      "Test Precision: 0.0000\n",
      "Test Recall: 0.0000\n",
      "Test F1 Score: 0.0000\n",
      "Test ROC-AUC Score: 0.3949\n",
      "Test AUPRC Score: 0.0555\n",
      "Confusion Matrix:\n",
      "[[680   0]\n",
      " [ 30   0]]\n",
      "Classification Report:\n",
      "              precision    recall  f1-score   support\n",
      "\n",
      "         0.0       0.96      1.00      0.98       680\n",
      "         1.0       0.00      0.00      0.00        30\n",
      "\n",
      "    accuracy                           0.96       710\n",
      "   macro avg       0.48      0.50      0.49       710\n",
      "weighted avg       0.92      0.96      0.94       710\n",
      "\n",
      "Fold 6\n",
      "Training with learning rate: 0.001, dropout: 0.2, channels: 64, kernel size: 3\n"
     ]
    },
    {
     "name": "stderr",
     "output_type": "stream",
     "text": [
      "c:\\Users\\Grego\\AppData\\Local\\Programs\\Python\\Python310\\lib\\site-packages\\sklearn\\metrics\\_classification.py:1344: UndefinedMetricWarning: Precision is ill-defined and being set to 0.0 due to no predicted samples. Use `zero_division` parameter to control this behavior.\n",
      "  _warn_prf(average, modifier, msg_start, len(result))\n",
      "c:\\Users\\Grego\\AppData\\Local\\Programs\\Python\\Python310\\lib\\site-packages\\sklearn\\metrics\\_classification.py:1344: UndefinedMetricWarning: Precision and F-score are ill-defined and being set to 0.0 in labels with no predicted samples. Use `zero_division` parameter to control this behavior.\n",
      "  _warn_prf(average, modifier, msg_start, len(result))\n",
      "c:\\Users\\Grego\\AppData\\Local\\Programs\\Python\\Python310\\lib\\site-packages\\sklearn\\metrics\\_classification.py:1344: UndefinedMetricWarning: Precision and F-score are ill-defined and being set to 0.0 in labels with no predicted samples. Use `zero_division` parameter to control this behavior.\n",
      "  _warn_prf(average, modifier, msg_start, len(result))\n",
      "c:\\Users\\Grego\\AppData\\Local\\Programs\\Python\\Python310\\lib\\site-packages\\sklearn\\metrics\\_classification.py:1344: UndefinedMetricWarning: Precision and F-score are ill-defined and being set to 0.0 in labels with no predicted samples. Use `zero_division` parameter to control this behavior.\n",
      "  _warn_prf(average, modifier, msg_start, len(result))\n",
      "c:\\Users\\Grego\\AppData\\Local\\Programs\\Python\\Python310\\lib\\site-packages\\sklearn\\metrics\\_classification.py:1344: UndefinedMetricWarning: Precision is ill-defined and being set to 0.0 due to no predicted samples. Use `zero_division` parameter to control this behavior.\n",
      "  _warn_prf(average, modifier, msg_start, len(result))\n"
     ]
    },
    {
     "name": "stdout",
     "output_type": "stream",
     "text": [
      "Found new best hyperparameters: (0.001, 0.2, 64, 3)\n",
      "Training with learning rate: 0.001, dropout: 0.2, channels: 64, kernel size: 5\n"
     ]
    },
    {
     "name": "stderr",
     "output_type": "stream",
     "text": [
      "c:\\Users\\Grego\\AppData\\Local\\Programs\\Python\\Python310\\lib\\site-packages\\sklearn\\metrics\\_classification.py:1344: UndefinedMetricWarning: Precision is ill-defined and being set to 0.0 due to no predicted samples. Use `zero_division` parameter to control this behavior.\n",
      "  _warn_prf(average, modifier, msg_start, len(result))\n"
     ]
    },
    {
     "name": "stdout",
     "output_type": "stream",
     "text": [
      "Training with learning rate: 0.001, dropout: 0.2, channels: 128, kernel size: 3\n"
     ]
    },
    {
     "name": "stderr",
     "output_type": "stream",
     "text": [
      "c:\\Users\\Grego\\AppData\\Local\\Programs\\Python\\Python310\\lib\\site-packages\\sklearn\\metrics\\_classification.py:1344: UndefinedMetricWarning: Precision is ill-defined and being set to 0.0 due to no predicted samples. Use `zero_division` parameter to control this behavior.\n",
      "  _warn_prf(average, modifier, msg_start, len(result))\n"
     ]
    },
    {
     "name": "stdout",
     "output_type": "stream",
     "text": [
      "Training with learning rate: 0.001, dropout: 0.2, channels: 128, kernel size: 5\n"
     ]
    },
    {
     "name": "stderr",
     "output_type": "stream",
     "text": [
      "c:\\Users\\Grego\\AppData\\Local\\Programs\\Python\\Python310\\lib\\site-packages\\sklearn\\metrics\\_classification.py:1344: UndefinedMetricWarning: Precision is ill-defined and being set to 0.0 due to no predicted samples. Use `zero_division` parameter to control this behavior.\n",
      "  _warn_prf(average, modifier, msg_start, len(result))\n"
     ]
    },
    {
     "name": "stdout",
     "output_type": "stream",
     "text": [
      "Training with learning rate: 0.001, dropout: 0.5, channels: 64, kernel size: 3\n"
     ]
    },
    {
     "name": "stderr",
     "output_type": "stream",
     "text": [
      "c:\\Users\\Grego\\AppData\\Local\\Programs\\Python\\Python310\\lib\\site-packages\\sklearn\\metrics\\_classification.py:1344: UndefinedMetricWarning: Precision is ill-defined and being set to 0.0 due to no predicted samples. Use `zero_division` parameter to control this behavior.\n",
      "  _warn_prf(average, modifier, msg_start, len(result))\n"
     ]
    },
    {
     "name": "stdout",
     "output_type": "stream",
     "text": [
      "Training with learning rate: 0.001, dropout: 0.5, channels: 64, kernel size: 5\n"
     ]
    },
    {
     "name": "stderr",
     "output_type": "stream",
     "text": [
      "c:\\Users\\Grego\\AppData\\Local\\Programs\\Python\\Python310\\lib\\site-packages\\sklearn\\metrics\\_classification.py:1344: UndefinedMetricWarning: Precision is ill-defined and being set to 0.0 due to no predicted samples. Use `zero_division` parameter to control this behavior.\n",
      "  _warn_prf(average, modifier, msg_start, len(result))\n"
     ]
    },
    {
     "name": "stdout",
     "output_type": "stream",
     "text": [
      "Training with learning rate: 0.001, dropout: 0.5, channels: 128, kernel size: 3\n"
     ]
    },
    {
     "name": "stderr",
     "output_type": "stream",
     "text": [
      "c:\\Users\\Grego\\AppData\\Local\\Programs\\Python\\Python310\\lib\\site-packages\\sklearn\\metrics\\_classification.py:1344: UndefinedMetricWarning: Precision is ill-defined and being set to 0.0 due to no predicted samples. Use `zero_division` parameter to control this behavior.\n",
      "  _warn_prf(average, modifier, msg_start, len(result))\n"
     ]
    },
    {
     "name": "stdout",
     "output_type": "stream",
     "text": [
      "Training with learning rate: 0.001, dropout: 0.5, channels: 128, kernel size: 5\n"
     ]
    },
    {
     "name": "stderr",
     "output_type": "stream",
     "text": [
      "c:\\Users\\Grego\\AppData\\Local\\Programs\\Python\\Python310\\lib\\site-packages\\sklearn\\metrics\\_classification.py:1344: UndefinedMetricWarning: Precision is ill-defined and being set to 0.0 due to no predicted samples. Use `zero_division` parameter to control this behavior.\n",
      "  _warn_prf(average, modifier, msg_start, len(result))\n"
     ]
    },
    {
     "name": "stdout",
     "output_type": "stream",
     "text": [
      "Training with learning rate: 0.01, dropout: 0.2, channels: 64, kernel size: 3\n"
     ]
    },
    {
     "name": "stderr",
     "output_type": "stream",
     "text": [
      "c:\\Users\\Grego\\AppData\\Local\\Programs\\Python\\Python310\\lib\\site-packages\\sklearn\\metrics\\_classification.py:1344: UndefinedMetricWarning: Precision is ill-defined and being set to 0.0 due to no predicted samples. Use `zero_division` parameter to control this behavior.\n",
      "  _warn_prf(average, modifier, msg_start, len(result))\n"
     ]
    },
    {
     "name": "stdout",
     "output_type": "stream",
     "text": [
      "Training with learning rate: 0.01, dropout: 0.2, channels: 64, kernel size: 5\n"
     ]
    },
    {
     "name": "stderr",
     "output_type": "stream",
     "text": [
      "c:\\Users\\Grego\\AppData\\Local\\Programs\\Python\\Python310\\lib\\site-packages\\sklearn\\metrics\\_classification.py:1344: UndefinedMetricWarning: Precision is ill-defined and being set to 0.0 due to no predicted samples. Use `zero_division` parameter to control this behavior.\n",
      "  _warn_prf(average, modifier, msg_start, len(result))\n"
     ]
    },
    {
     "name": "stdout",
     "output_type": "stream",
     "text": [
      "Training with learning rate: 0.01, dropout: 0.2, channels: 128, kernel size: 3\n"
     ]
    },
    {
     "name": "stderr",
     "output_type": "stream",
     "text": [
      "c:\\Users\\Grego\\AppData\\Local\\Programs\\Python\\Python310\\lib\\site-packages\\sklearn\\metrics\\_classification.py:1344: UndefinedMetricWarning: Precision is ill-defined and being set to 0.0 due to no predicted samples. Use `zero_division` parameter to control this behavior.\n",
      "  _warn_prf(average, modifier, msg_start, len(result))\n"
     ]
    },
    {
     "name": "stdout",
     "output_type": "stream",
     "text": [
      "Training with learning rate: 0.01, dropout: 0.2, channels: 128, kernel size: 5\n"
     ]
    },
    {
     "name": "stderr",
     "output_type": "stream",
     "text": [
      "c:\\Users\\Grego\\AppData\\Local\\Programs\\Python\\Python310\\lib\\site-packages\\sklearn\\metrics\\_classification.py:1344: UndefinedMetricWarning: Precision is ill-defined and being set to 0.0 due to no predicted samples. Use `zero_division` parameter to control this behavior.\n",
      "  _warn_prf(average, modifier, msg_start, len(result))\n"
     ]
    },
    {
     "name": "stdout",
     "output_type": "stream",
     "text": [
      "Training with learning rate: 0.01, dropout: 0.5, channels: 64, kernel size: 3\n"
     ]
    },
    {
     "name": "stderr",
     "output_type": "stream",
     "text": [
      "c:\\Users\\Grego\\AppData\\Local\\Programs\\Python\\Python310\\lib\\site-packages\\sklearn\\metrics\\_classification.py:1344: UndefinedMetricWarning: Precision is ill-defined and being set to 0.0 due to no predicted samples. Use `zero_division` parameter to control this behavior.\n",
      "  _warn_prf(average, modifier, msg_start, len(result))\n"
     ]
    },
    {
     "name": "stdout",
     "output_type": "stream",
     "text": [
      "Training with learning rate: 0.01, dropout: 0.5, channels: 64, kernel size: 5\n"
     ]
    },
    {
     "name": "stderr",
     "output_type": "stream",
     "text": [
      "c:\\Users\\Grego\\AppData\\Local\\Programs\\Python\\Python310\\lib\\site-packages\\sklearn\\metrics\\_classification.py:1344: UndefinedMetricWarning: Precision is ill-defined and being set to 0.0 due to no predicted samples. Use `zero_division` parameter to control this behavior.\n",
      "  _warn_prf(average, modifier, msg_start, len(result))\n"
     ]
    },
    {
     "name": "stdout",
     "output_type": "stream",
     "text": [
      "Training with learning rate: 0.01, dropout: 0.5, channels: 128, kernel size: 3\n"
     ]
    },
    {
     "name": "stderr",
     "output_type": "stream",
     "text": [
      "c:\\Users\\Grego\\AppData\\Local\\Programs\\Python\\Python310\\lib\\site-packages\\sklearn\\metrics\\_classification.py:1344: UndefinedMetricWarning: Precision is ill-defined and being set to 0.0 due to no predicted samples. Use `zero_division` parameter to control this behavior.\n",
      "  _warn_prf(average, modifier, msg_start, len(result))\n"
     ]
    },
    {
     "name": "stdout",
     "output_type": "stream",
     "text": [
      "Training with learning rate: 0.01, dropout: 0.5, channels: 128, kernel size: 5\n"
     ]
    },
    {
     "name": "stderr",
     "output_type": "stream",
     "text": [
      "c:\\Users\\Grego\\AppData\\Local\\Programs\\Python\\Python310\\lib\\site-packages\\sklearn\\metrics\\_classification.py:1344: UndefinedMetricWarning: Precision is ill-defined and being set to 0.0 due to no predicted samples. Use `zero_division` parameter to control this behavior.\n",
      "  _warn_prf(average, modifier, msg_start, len(result))\n"
     ]
    },
    {
     "name": "stdout",
     "output_type": "stream",
     "text": [
      "Best Hyperparameters for Fold 6: (0.001, 0.2, 64, 3)\n",
      "Training on full training set with best hyperparameters: (0.001, 0.2, 64, 3)\n",
      "Epoch 1/100, Loss: 0.7205\n",
      "Epoch 2/100, Loss: 0.6939\n",
      "Epoch 3/100, Loss: 0.6934\n",
      "Epoch 4/100, Loss: 0.6933\n",
      "Epoch 5/100, Loss: 0.6932\n",
      "Epoch 6/100, Loss: 0.6932\n",
      "Epoch 7/100, Loss: 0.6932\n",
      "Epoch 8/100, Loss: 0.6932\n",
      "Epoch 9/100, Loss: 0.6932\n",
      "Epoch 10/100, Loss: 0.6932\n",
      "Epoch 11/100, Loss: 0.6932\n",
      "Epoch 12/100, Loss: 0.6932\n",
      "Epoch 13/100, Loss: 0.6932\n",
      "Epoch 14/100, Loss: 0.6932\n",
      "Epoch 15/100, Loss: 0.6932\n",
      "Epoch 16/100, Loss: 0.6932\n",
      "Epoch 17/100, Loss: 0.6932\n",
      "Epoch 18/100, Loss: 0.6932\n",
      "Epoch 19/100, Loss: 0.6932\n",
      "Epoch 20/100, Loss: 0.6932\n",
      "Epoch 21/100, Loss: 0.6932\n",
      "Epoch 22/100, Loss: 0.6931\n",
      "Epoch 23/100, Loss: 0.6931\n",
      "Epoch 24/100, Loss: 0.6931\n",
      "Epoch 25/100, Loss: 0.6931\n",
      "Epoch 26/100, Loss: 0.6931\n",
      "Epoch 27/100, Loss: 0.6931\n",
      "Epoch 28/100, Loss: 0.6931\n",
      "Epoch 29/100, Loss: 0.6931\n",
      "Epoch 30/100, Loss: 0.6931\n",
      "Epoch 31/100, Loss: 0.6931\n",
      "Epoch 32/100, Loss: 0.6931\n",
      "Epoch 33/100, Loss: 0.6931\n",
      "Epoch 34/100, Loss: 0.6931\n",
      "Epoch 35/100, Loss: 0.6931\n",
      "Epoch 36/100, Loss: 0.6931\n",
      "Epoch 37/100, Loss: 0.6931\n",
      "Epoch 38/100, Loss: 0.6931\n",
      "Epoch 39/100, Loss: 0.6931\n",
      "Epoch 40/100, Loss: 0.6931\n",
      "Epoch 41/100, Loss: 0.6931\n",
      "Epoch 42/100, Loss: 0.6931\n",
      "Epoch 43/100, Loss: 0.6931\n",
      "Epoch 44/100, Loss: 0.6931\n",
      "Epoch 45/100, Loss: 0.6931\n",
      "Epoch 46/100, Loss: 0.6931\n",
      "Epoch 47/100, Loss: 0.6931\n",
      "Epoch 48/100, Loss: 0.6931\n",
      "Epoch 49/100, Loss: 0.6931\n",
      "Epoch 50/100, Loss: 0.6931\n",
      "Epoch 51/100, Loss: 0.6931\n",
      "Epoch 52/100, Loss: 0.6931\n",
      "Epoch 53/100, Loss: 0.6931\n",
      "Epoch 54/100, Loss: 0.6931\n",
      "Epoch 55/100, Loss: 0.6931\n",
      "Epoch 56/100, Loss: 0.6931\n",
      "Epoch 57/100, Loss: 0.6931\n",
      "Epoch 58/100, Loss: 0.6931\n",
      "Epoch 59/100, Loss: 0.6931\n",
      "Epoch 60/100, Loss: 0.6931\n",
      "Epoch 61/100, Loss: 0.6931\n",
      "Epoch 62/100, Loss: 0.6931\n",
      "Epoch 63/100, Loss: 0.6931\n",
      "Epoch 64/100, Loss: 0.6931\n",
      "Epoch 65/100, Loss: 0.6931\n",
      "Epoch 66/100, Loss: 0.6931\n",
      "Epoch 67/100, Loss: 0.6931\n",
      "Epoch 68/100, Loss: 0.6931\n",
      "Epoch 69/100, Loss: 0.6931\n",
      "Epoch 70/100, Loss: 0.6931\n",
      "Epoch 71/100, Loss: 0.6931\n",
      "Epoch 72/100, Loss: 0.6931\n",
      "Epoch 73/100, Loss: 0.6931\n",
      "Epoch 74/100, Loss: 0.6931\n",
      "Epoch 75/100, Loss: 0.6931\n",
      "Epoch 76/100, Loss: 0.6931\n",
      "Epoch 77/100, Loss: 0.6931\n",
      "Epoch 78/100, Loss: 0.6931\n",
      "Epoch 79/100, Loss: 0.6931\n",
      "Epoch 80/100, Loss: 0.6931\n",
      "Epoch 81/100, Loss: 0.6931\n",
      "Epoch 82/100, Loss: 0.6931\n",
      "Epoch 83/100, Loss: 0.6931\n",
      "Epoch 84/100, Loss: 0.6931\n",
      "Epoch 85/100, Loss: 0.6931\n",
      "Epoch 86/100, Loss: 0.6931\n",
      "Epoch 87/100, Loss: 0.6931\n",
      "Epoch 88/100, Loss: 0.6931\n",
      "Epoch 89/100, Loss: 0.6931\n",
      "Epoch 90/100, Loss: 0.6931\n",
      "Epoch 91/100, Loss: 0.6931\n",
      "Epoch 92/100, Loss: 0.6931\n",
      "Epoch 93/100, Loss: 0.6931\n",
      "Epoch 94/100, Loss: 0.6931\n",
      "Epoch 95/100, Loss: 0.6931\n",
      "Epoch 96/100, Loss: 0.6931\n",
      "Epoch 97/100, Loss: 0.6931\n",
      "Epoch 98/100, Loss: 0.6931\n",
      "Epoch 99/100, Loss: 0.6931\n",
      "Epoch 100/100, Loss: 0.6931\n",
      "Test Precision: 0.0000\n",
      "Test Recall: 0.0000\n",
      "Test F1 Score: 0.0000\n",
      "Test ROC-AUC Score: 0.3756\n",
      "Test AUPRC Score: 0.0258\n",
      "Confusion Matrix:\n",
      "[[685   0]\n",
      " [ 25   0]]\n",
      "Classification Report:\n",
      "              precision    recall  f1-score   support\n",
      "\n",
      "         0.0       0.96      1.00      0.98       685\n",
      "         1.0       0.00      0.00      0.00        25\n",
      "\n",
      "    accuracy                           0.96       710\n",
      "   macro avg       0.48      0.50      0.49       710\n",
      "weighted avg       0.93      0.96      0.95       710\n",
      "\n",
      "Fold 7\n",
      "Training with learning rate: 0.001, dropout: 0.2, channels: 64, kernel size: 3\n"
     ]
    },
    {
     "name": "stderr",
     "output_type": "stream",
     "text": [
      "c:\\Users\\Grego\\AppData\\Local\\Programs\\Python\\Python310\\lib\\site-packages\\sklearn\\metrics\\_classification.py:1344: UndefinedMetricWarning: Precision is ill-defined and being set to 0.0 due to no predicted samples. Use `zero_division` parameter to control this behavior.\n",
      "  _warn_prf(average, modifier, msg_start, len(result))\n",
      "c:\\Users\\Grego\\AppData\\Local\\Programs\\Python\\Python310\\lib\\site-packages\\sklearn\\metrics\\_classification.py:1344: UndefinedMetricWarning: Precision and F-score are ill-defined and being set to 0.0 in labels with no predicted samples. Use `zero_division` parameter to control this behavior.\n",
      "  _warn_prf(average, modifier, msg_start, len(result))\n",
      "c:\\Users\\Grego\\AppData\\Local\\Programs\\Python\\Python310\\lib\\site-packages\\sklearn\\metrics\\_classification.py:1344: UndefinedMetricWarning: Precision and F-score are ill-defined and being set to 0.0 in labels with no predicted samples. Use `zero_division` parameter to control this behavior.\n",
      "  _warn_prf(average, modifier, msg_start, len(result))\n",
      "c:\\Users\\Grego\\AppData\\Local\\Programs\\Python\\Python310\\lib\\site-packages\\sklearn\\metrics\\_classification.py:1344: UndefinedMetricWarning: Precision and F-score are ill-defined and being set to 0.0 in labels with no predicted samples. Use `zero_division` parameter to control this behavior.\n",
      "  _warn_prf(average, modifier, msg_start, len(result))\n",
      "c:\\Users\\Grego\\AppData\\Local\\Programs\\Python\\Python310\\lib\\site-packages\\sklearn\\metrics\\_classification.py:1344: UndefinedMetricWarning: Precision is ill-defined and being set to 0.0 due to no predicted samples. Use `zero_division` parameter to control this behavior.\n",
      "  _warn_prf(average, modifier, msg_start, len(result))\n"
     ]
    },
    {
     "name": "stdout",
     "output_type": "stream",
     "text": [
      "Found new best hyperparameters: (0.001, 0.2, 64, 3)\n",
      "Training with learning rate: 0.001, dropout: 0.2, channels: 64, kernel size: 5\n"
     ]
    },
    {
     "name": "stderr",
     "output_type": "stream",
     "text": [
      "c:\\Users\\Grego\\AppData\\Local\\Programs\\Python\\Python310\\lib\\site-packages\\sklearn\\metrics\\_classification.py:1344: UndefinedMetricWarning: Precision is ill-defined and being set to 0.0 due to no predicted samples. Use `zero_division` parameter to control this behavior.\n",
      "  _warn_prf(average, modifier, msg_start, len(result))\n"
     ]
    },
    {
     "name": "stdout",
     "output_type": "stream",
     "text": [
      "Training with learning rate: 0.001, dropout: 0.2, channels: 128, kernel size: 3\n"
     ]
    },
    {
     "name": "stderr",
     "output_type": "stream",
     "text": [
      "c:\\Users\\Grego\\AppData\\Local\\Programs\\Python\\Python310\\lib\\site-packages\\sklearn\\metrics\\_classification.py:1344: UndefinedMetricWarning: Precision is ill-defined and being set to 0.0 due to no predicted samples. Use `zero_division` parameter to control this behavior.\n",
      "  _warn_prf(average, modifier, msg_start, len(result))\n"
     ]
    },
    {
     "name": "stdout",
     "output_type": "stream",
     "text": [
      "Training with learning rate: 0.001, dropout: 0.2, channels: 128, kernel size: 5\n"
     ]
    },
    {
     "name": "stderr",
     "output_type": "stream",
     "text": [
      "c:\\Users\\Grego\\AppData\\Local\\Programs\\Python\\Python310\\lib\\site-packages\\sklearn\\metrics\\_classification.py:1344: UndefinedMetricWarning: Precision is ill-defined and being set to 0.0 due to no predicted samples. Use `zero_division` parameter to control this behavior.\n",
      "  _warn_prf(average, modifier, msg_start, len(result))\n"
     ]
    },
    {
     "name": "stdout",
     "output_type": "stream",
     "text": [
      "Training with learning rate: 0.001, dropout: 0.5, channels: 64, kernel size: 3\n"
     ]
    },
    {
     "name": "stderr",
     "output_type": "stream",
     "text": [
      "c:\\Users\\Grego\\AppData\\Local\\Programs\\Python\\Python310\\lib\\site-packages\\sklearn\\metrics\\_classification.py:1344: UndefinedMetricWarning: Precision is ill-defined and being set to 0.0 due to no predicted samples. Use `zero_division` parameter to control this behavior.\n",
      "  _warn_prf(average, modifier, msg_start, len(result))\n"
     ]
    },
    {
     "name": "stdout",
     "output_type": "stream",
     "text": [
      "Training with learning rate: 0.001, dropout: 0.5, channels: 64, kernel size: 5\n"
     ]
    },
    {
     "name": "stderr",
     "output_type": "stream",
     "text": [
      "c:\\Users\\Grego\\AppData\\Local\\Programs\\Python\\Python310\\lib\\site-packages\\sklearn\\metrics\\_classification.py:1344: UndefinedMetricWarning: Precision is ill-defined and being set to 0.0 due to no predicted samples. Use `zero_division` parameter to control this behavior.\n",
      "  _warn_prf(average, modifier, msg_start, len(result))\n"
     ]
    },
    {
     "name": "stdout",
     "output_type": "stream",
     "text": [
      "Training with learning rate: 0.001, dropout: 0.5, channels: 128, kernel size: 3\n"
     ]
    },
    {
     "name": "stderr",
     "output_type": "stream",
     "text": [
      "c:\\Users\\Grego\\AppData\\Local\\Programs\\Python\\Python310\\lib\\site-packages\\sklearn\\metrics\\_classification.py:1344: UndefinedMetricWarning: Precision is ill-defined and being set to 0.0 due to no predicted samples. Use `zero_division` parameter to control this behavior.\n",
      "  _warn_prf(average, modifier, msg_start, len(result))\n"
     ]
    },
    {
     "name": "stdout",
     "output_type": "stream",
     "text": [
      "Training with learning rate: 0.001, dropout: 0.5, channels: 128, kernel size: 5\n"
     ]
    },
    {
     "name": "stderr",
     "output_type": "stream",
     "text": [
      "c:\\Users\\Grego\\AppData\\Local\\Programs\\Python\\Python310\\lib\\site-packages\\sklearn\\metrics\\_classification.py:1344: UndefinedMetricWarning: Precision is ill-defined and being set to 0.0 due to no predicted samples. Use `zero_division` parameter to control this behavior.\n",
      "  _warn_prf(average, modifier, msg_start, len(result))\n"
     ]
    },
    {
     "name": "stdout",
     "output_type": "stream",
     "text": [
      "Training with learning rate: 0.01, dropout: 0.2, channels: 64, kernel size: 3\n"
     ]
    },
    {
     "name": "stderr",
     "output_type": "stream",
     "text": [
      "c:\\Users\\Grego\\AppData\\Local\\Programs\\Python\\Python310\\lib\\site-packages\\sklearn\\metrics\\_classification.py:1344: UndefinedMetricWarning: Precision is ill-defined and being set to 0.0 due to no predicted samples. Use `zero_division` parameter to control this behavior.\n",
      "  _warn_prf(average, modifier, msg_start, len(result))\n"
     ]
    },
    {
     "name": "stdout",
     "output_type": "stream",
     "text": [
      "Training with learning rate: 0.01, dropout: 0.2, channels: 64, kernel size: 5\n"
     ]
    },
    {
     "name": "stderr",
     "output_type": "stream",
     "text": [
      "c:\\Users\\Grego\\AppData\\Local\\Programs\\Python\\Python310\\lib\\site-packages\\sklearn\\metrics\\_classification.py:1344: UndefinedMetricWarning: Precision is ill-defined and being set to 0.0 due to no predicted samples. Use `zero_division` parameter to control this behavior.\n",
      "  _warn_prf(average, modifier, msg_start, len(result))\n"
     ]
    },
    {
     "name": "stdout",
     "output_type": "stream",
     "text": [
      "Training with learning rate: 0.01, dropout: 0.2, channels: 128, kernel size: 3\n"
     ]
    },
    {
     "name": "stderr",
     "output_type": "stream",
     "text": [
      "c:\\Users\\Grego\\AppData\\Local\\Programs\\Python\\Python310\\lib\\site-packages\\sklearn\\metrics\\_classification.py:1344: UndefinedMetricWarning: Precision is ill-defined and being set to 0.0 due to no predicted samples. Use `zero_division` parameter to control this behavior.\n",
      "  _warn_prf(average, modifier, msg_start, len(result))\n"
     ]
    },
    {
     "name": "stdout",
     "output_type": "stream",
     "text": [
      "Training with learning rate: 0.01, dropout: 0.2, channels: 128, kernel size: 5\n"
     ]
    },
    {
     "name": "stderr",
     "output_type": "stream",
     "text": [
      "c:\\Users\\Grego\\AppData\\Local\\Programs\\Python\\Python310\\lib\\site-packages\\sklearn\\metrics\\_classification.py:1344: UndefinedMetricWarning: Precision is ill-defined and being set to 0.0 due to no predicted samples. Use `zero_division` parameter to control this behavior.\n",
      "  _warn_prf(average, modifier, msg_start, len(result))\n"
     ]
    },
    {
     "name": "stdout",
     "output_type": "stream",
     "text": [
      "Training with learning rate: 0.01, dropout: 0.5, channels: 64, kernel size: 3\n"
     ]
    },
    {
     "name": "stderr",
     "output_type": "stream",
     "text": [
      "c:\\Users\\Grego\\AppData\\Local\\Programs\\Python\\Python310\\lib\\site-packages\\sklearn\\metrics\\_classification.py:1344: UndefinedMetricWarning: Precision is ill-defined and being set to 0.0 due to no predicted samples. Use `zero_division` parameter to control this behavior.\n",
      "  _warn_prf(average, modifier, msg_start, len(result))\n"
     ]
    },
    {
     "name": "stdout",
     "output_type": "stream",
     "text": [
      "Training with learning rate: 0.01, dropout: 0.5, channels: 64, kernel size: 5\n"
     ]
    },
    {
     "name": "stderr",
     "output_type": "stream",
     "text": [
      "c:\\Users\\Grego\\AppData\\Local\\Programs\\Python\\Python310\\lib\\site-packages\\sklearn\\metrics\\_classification.py:1344: UndefinedMetricWarning: Precision is ill-defined and being set to 0.0 due to no predicted samples. Use `zero_division` parameter to control this behavior.\n",
      "  _warn_prf(average, modifier, msg_start, len(result))\n"
     ]
    },
    {
     "name": "stdout",
     "output_type": "stream",
     "text": [
      "Training with learning rate: 0.01, dropout: 0.5, channels: 128, kernel size: 3\n"
     ]
    },
    {
     "name": "stderr",
     "output_type": "stream",
     "text": [
      "c:\\Users\\Grego\\AppData\\Local\\Programs\\Python\\Python310\\lib\\site-packages\\sklearn\\metrics\\_classification.py:1344: UndefinedMetricWarning: Precision is ill-defined and being set to 0.0 due to no predicted samples. Use `zero_division` parameter to control this behavior.\n",
      "  _warn_prf(average, modifier, msg_start, len(result))\n"
     ]
    },
    {
     "name": "stdout",
     "output_type": "stream",
     "text": [
      "Training with learning rate: 0.01, dropout: 0.5, channels: 128, kernel size: 5\n"
     ]
    },
    {
     "name": "stderr",
     "output_type": "stream",
     "text": [
      "c:\\Users\\Grego\\AppData\\Local\\Programs\\Python\\Python310\\lib\\site-packages\\sklearn\\metrics\\_classification.py:1344: UndefinedMetricWarning: Precision is ill-defined and being set to 0.0 due to no predicted samples. Use `zero_division` parameter to control this behavior.\n",
      "  _warn_prf(average, modifier, msg_start, len(result))\n"
     ]
    },
    {
     "name": "stdout",
     "output_type": "stream",
     "text": [
      "Best Hyperparameters for Fold 7: (0.001, 0.2, 64, 3)\n",
      "Training on full training set with best hyperparameters: (0.001, 0.2, 64, 3)\n",
      "Epoch 1/100, Loss: 0.7222\n",
      "Epoch 2/100, Loss: 0.6939\n",
      "Epoch 3/100, Loss: 0.6934\n",
      "Epoch 4/100, Loss: 0.6933\n",
      "Epoch 5/100, Loss: 0.6932\n",
      "Epoch 6/100, Loss: 0.6932\n",
      "Epoch 7/100, Loss: 0.6932\n",
      "Epoch 8/100, Loss: 0.6932\n",
      "Epoch 9/100, Loss: 0.6932\n",
      "Epoch 10/100, Loss: 0.6932\n",
      "Epoch 11/100, Loss: 0.6932\n",
      "Epoch 12/100, Loss: 0.6932\n",
      "Epoch 13/100, Loss: 0.6932\n",
      "Epoch 14/100, Loss: 0.6932\n",
      "Epoch 15/100, Loss: 0.6932\n",
      "Epoch 16/100, Loss: 0.6932\n",
      "Epoch 17/100, Loss: 0.6932\n",
      "Epoch 18/100, Loss: 0.6932\n",
      "Epoch 19/100, Loss: 0.6932\n",
      "Epoch 20/100, Loss: 0.6932\n",
      "Epoch 21/100, Loss: 0.6932\n",
      "Epoch 22/100, Loss: 0.6932\n",
      "Epoch 23/100, Loss: 0.6932\n",
      "Epoch 24/100, Loss: 0.6931\n",
      "Epoch 25/100, Loss: 0.6931\n",
      "Epoch 26/100, Loss: 0.6931\n",
      "Epoch 27/100, Loss: 0.6931\n",
      "Epoch 28/100, Loss: 0.6931\n",
      "Epoch 29/100, Loss: 0.6931\n",
      "Epoch 30/100, Loss: 0.6931\n",
      "Epoch 31/100, Loss: 0.6931\n",
      "Epoch 32/100, Loss: 0.6931\n",
      "Epoch 33/100, Loss: 0.6931\n",
      "Epoch 34/100, Loss: 0.6931\n",
      "Epoch 35/100, Loss: 0.6931\n",
      "Epoch 36/100, Loss: 0.6931\n",
      "Epoch 37/100, Loss: 0.6931\n",
      "Epoch 38/100, Loss: 0.6931\n",
      "Epoch 39/100, Loss: 0.6931\n",
      "Epoch 40/100, Loss: 0.6931\n",
      "Epoch 41/100, Loss: 0.6931\n",
      "Epoch 42/100, Loss: 0.6931\n",
      "Epoch 43/100, Loss: 0.6931\n",
      "Epoch 44/100, Loss: 0.6931\n",
      "Epoch 45/100, Loss: 0.6931\n",
      "Epoch 46/100, Loss: 0.6931\n",
      "Epoch 47/100, Loss: 0.6931\n",
      "Epoch 48/100, Loss: 0.6931\n",
      "Epoch 49/100, Loss: 0.6931\n",
      "Epoch 50/100, Loss: 0.6931\n",
      "Epoch 51/100, Loss: 0.6931\n",
      "Epoch 52/100, Loss: 0.6931\n",
      "Epoch 53/100, Loss: 0.6931\n",
      "Epoch 54/100, Loss: 0.6931\n",
      "Epoch 55/100, Loss: 0.6931\n",
      "Epoch 56/100, Loss: 0.6931\n",
      "Epoch 57/100, Loss: 0.6931\n",
      "Epoch 58/100, Loss: 0.6931\n",
      "Epoch 59/100, Loss: 0.6931\n",
      "Epoch 60/100, Loss: 0.6931\n",
      "Epoch 61/100, Loss: 0.6931\n",
      "Epoch 62/100, Loss: 0.6931\n",
      "Epoch 63/100, Loss: 0.6931\n",
      "Epoch 64/100, Loss: 0.6931\n",
      "Epoch 65/100, Loss: 0.6931\n",
      "Epoch 66/100, Loss: 0.6931\n",
      "Epoch 67/100, Loss: 0.6931\n",
      "Epoch 68/100, Loss: 0.6931\n",
      "Epoch 69/100, Loss: 0.6931\n",
      "Epoch 70/100, Loss: 0.6931\n",
      "Epoch 71/100, Loss: 0.6931\n",
      "Epoch 72/100, Loss: 0.6931\n",
      "Epoch 73/100, Loss: 0.6931\n",
      "Epoch 74/100, Loss: 0.6931\n",
      "Epoch 75/100, Loss: 0.6931\n",
      "Epoch 76/100, Loss: 0.6931\n",
      "Epoch 77/100, Loss: 0.6931\n",
      "Epoch 78/100, Loss: 0.6931\n",
      "Epoch 79/100, Loss: 0.6931\n",
      "Epoch 80/100, Loss: 0.6931\n",
      "Epoch 81/100, Loss: 0.6931\n",
      "Epoch 82/100, Loss: 0.6931\n",
      "Epoch 83/100, Loss: 0.6931\n",
      "Epoch 84/100, Loss: 0.6931\n",
      "Epoch 85/100, Loss: 0.6931\n",
      "Epoch 86/100, Loss: 0.6931\n",
      "Epoch 87/100, Loss: 0.6931\n",
      "Epoch 88/100, Loss: 0.6931\n",
      "Epoch 89/100, Loss: 0.6931\n",
      "Epoch 90/100, Loss: 0.6931\n",
      "Epoch 91/100, Loss: 0.6931\n",
      "Epoch 92/100, Loss: 0.6931\n",
      "Epoch 93/100, Loss: 0.6931\n",
      "Epoch 94/100, Loss: 0.6931\n",
      "Epoch 95/100, Loss: 0.6931\n",
      "Epoch 96/100, Loss: 0.6931\n",
      "Epoch 97/100, Loss: 0.6931\n",
      "Epoch 98/100, Loss: 0.6931\n",
      "Epoch 99/100, Loss: 0.6931\n",
      "Epoch 100/100, Loss: 0.6931\n",
      "Test Precision: 0.0000\n",
      "Test Recall: 0.0000\n",
      "Test F1 Score: 0.0000\n",
      "Test ROC-AUC Score: 0.4537\n",
      "Test AUPRC Score: 0.0340\n",
      "Confusion Matrix:\n",
      "[[684   0]\n",
      " [ 26   0]]\n",
      "Classification Report:\n",
      "              precision    recall  f1-score   support\n",
      "\n",
      "         0.0       0.96      1.00      0.98       684\n",
      "         1.0       0.00      0.00      0.00        26\n",
      "\n",
      "    accuracy                           0.96       710\n",
      "   macro avg       0.48      0.50      0.49       710\n",
      "weighted avg       0.93      0.96      0.95       710\n",
      "\n",
      "Fold 8\n",
      "Training with learning rate: 0.001, dropout: 0.2, channels: 64, kernel size: 3\n"
     ]
    },
    {
     "name": "stderr",
     "output_type": "stream",
     "text": [
      "c:\\Users\\Grego\\AppData\\Local\\Programs\\Python\\Python310\\lib\\site-packages\\sklearn\\metrics\\_classification.py:1344: UndefinedMetricWarning: Precision is ill-defined and being set to 0.0 due to no predicted samples. Use `zero_division` parameter to control this behavior.\n",
      "  _warn_prf(average, modifier, msg_start, len(result))\n",
      "c:\\Users\\Grego\\AppData\\Local\\Programs\\Python\\Python310\\lib\\site-packages\\sklearn\\metrics\\_classification.py:1344: UndefinedMetricWarning: Precision and F-score are ill-defined and being set to 0.0 in labels with no predicted samples. Use `zero_division` parameter to control this behavior.\n",
      "  _warn_prf(average, modifier, msg_start, len(result))\n",
      "c:\\Users\\Grego\\AppData\\Local\\Programs\\Python\\Python310\\lib\\site-packages\\sklearn\\metrics\\_classification.py:1344: UndefinedMetricWarning: Precision and F-score are ill-defined and being set to 0.0 in labels with no predicted samples. Use `zero_division` parameter to control this behavior.\n",
      "  _warn_prf(average, modifier, msg_start, len(result))\n",
      "c:\\Users\\Grego\\AppData\\Local\\Programs\\Python\\Python310\\lib\\site-packages\\sklearn\\metrics\\_classification.py:1344: UndefinedMetricWarning: Precision and F-score are ill-defined and being set to 0.0 in labels with no predicted samples. Use `zero_division` parameter to control this behavior.\n",
      "  _warn_prf(average, modifier, msg_start, len(result))\n",
      "c:\\Users\\Grego\\AppData\\Local\\Programs\\Python\\Python310\\lib\\site-packages\\sklearn\\metrics\\_classification.py:1344: UndefinedMetricWarning: Precision is ill-defined and being set to 0.0 due to no predicted samples. Use `zero_division` parameter to control this behavior.\n",
      "  _warn_prf(average, modifier, msg_start, len(result))\n"
     ]
    },
    {
     "name": "stdout",
     "output_type": "stream",
     "text": [
      "Found new best hyperparameters: (0.001, 0.2, 64, 3)\n",
      "Training with learning rate: 0.001, dropout: 0.2, channels: 64, kernel size: 5\n"
     ]
    },
    {
     "name": "stderr",
     "output_type": "stream",
     "text": [
      "c:\\Users\\Grego\\AppData\\Local\\Programs\\Python\\Python310\\lib\\site-packages\\sklearn\\metrics\\_classification.py:1344: UndefinedMetricWarning: Precision is ill-defined and being set to 0.0 due to no predicted samples. Use `zero_division` parameter to control this behavior.\n",
      "  _warn_prf(average, modifier, msg_start, len(result))\n"
     ]
    },
    {
     "name": "stdout",
     "output_type": "stream",
     "text": [
      "Training with learning rate: 0.001, dropout: 0.2, channels: 128, kernel size: 3\n"
     ]
    },
    {
     "name": "stderr",
     "output_type": "stream",
     "text": [
      "c:\\Users\\Grego\\AppData\\Local\\Programs\\Python\\Python310\\lib\\site-packages\\sklearn\\metrics\\_classification.py:1344: UndefinedMetricWarning: Precision is ill-defined and being set to 0.0 due to no predicted samples. Use `zero_division` parameter to control this behavior.\n",
      "  _warn_prf(average, modifier, msg_start, len(result))\n"
     ]
    },
    {
     "name": "stdout",
     "output_type": "stream",
     "text": [
      "Training with learning rate: 0.001, dropout: 0.2, channels: 128, kernel size: 5\n"
     ]
    },
    {
     "name": "stderr",
     "output_type": "stream",
     "text": [
      "c:\\Users\\Grego\\AppData\\Local\\Programs\\Python\\Python310\\lib\\site-packages\\sklearn\\metrics\\_classification.py:1344: UndefinedMetricWarning: Precision is ill-defined and being set to 0.0 due to no predicted samples. Use `zero_division` parameter to control this behavior.\n",
      "  _warn_prf(average, modifier, msg_start, len(result))\n"
     ]
    },
    {
     "name": "stdout",
     "output_type": "stream",
     "text": [
      "Training with learning rate: 0.001, dropout: 0.5, channels: 64, kernel size: 3\n"
     ]
    },
    {
     "name": "stderr",
     "output_type": "stream",
     "text": [
      "c:\\Users\\Grego\\AppData\\Local\\Programs\\Python\\Python310\\lib\\site-packages\\sklearn\\metrics\\_classification.py:1344: UndefinedMetricWarning: Precision is ill-defined and being set to 0.0 due to no predicted samples. Use `zero_division` parameter to control this behavior.\n",
      "  _warn_prf(average, modifier, msg_start, len(result))\n"
     ]
    },
    {
     "name": "stdout",
     "output_type": "stream",
     "text": [
      "Training with learning rate: 0.001, dropout: 0.5, channels: 64, kernel size: 5\n"
     ]
    },
    {
     "name": "stderr",
     "output_type": "stream",
     "text": [
      "c:\\Users\\Grego\\AppData\\Local\\Programs\\Python\\Python310\\lib\\site-packages\\sklearn\\metrics\\_classification.py:1344: UndefinedMetricWarning: Precision is ill-defined and being set to 0.0 due to no predicted samples. Use `zero_division` parameter to control this behavior.\n",
      "  _warn_prf(average, modifier, msg_start, len(result))\n"
     ]
    },
    {
     "name": "stdout",
     "output_type": "stream",
     "text": [
      "Training with learning rate: 0.001, dropout: 0.5, channels: 128, kernel size: 3\n"
     ]
    },
    {
     "name": "stderr",
     "output_type": "stream",
     "text": [
      "c:\\Users\\Grego\\AppData\\Local\\Programs\\Python\\Python310\\lib\\site-packages\\sklearn\\metrics\\_classification.py:1344: UndefinedMetricWarning: Precision is ill-defined and being set to 0.0 due to no predicted samples. Use `zero_division` parameter to control this behavior.\n",
      "  _warn_prf(average, modifier, msg_start, len(result))\n"
     ]
    },
    {
     "name": "stdout",
     "output_type": "stream",
     "text": [
      "Training with learning rate: 0.001, dropout: 0.5, channels: 128, kernel size: 5\n"
     ]
    },
    {
     "name": "stderr",
     "output_type": "stream",
     "text": [
      "c:\\Users\\Grego\\AppData\\Local\\Programs\\Python\\Python310\\lib\\site-packages\\sklearn\\metrics\\_classification.py:1344: UndefinedMetricWarning: Precision is ill-defined and being set to 0.0 due to no predicted samples. Use `zero_division` parameter to control this behavior.\n",
      "  _warn_prf(average, modifier, msg_start, len(result))\n"
     ]
    },
    {
     "name": "stdout",
     "output_type": "stream",
     "text": [
      "Training with learning rate: 0.01, dropout: 0.2, channels: 64, kernel size: 3\n"
     ]
    },
    {
     "name": "stderr",
     "output_type": "stream",
     "text": [
      "c:\\Users\\Grego\\AppData\\Local\\Programs\\Python\\Python310\\lib\\site-packages\\sklearn\\metrics\\_classification.py:1344: UndefinedMetricWarning: Precision is ill-defined and being set to 0.0 due to no predicted samples. Use `zero_division` parameter to control this behavior.\n",
      "  _warn_prf(average, modifier, msg_start, len(result))\n"
     ]
    },
    {
     "name": "stdout",
     "output_type": "stream",
     "text": [
      "Training with learning rate: 0.01, dropout: 0.2, channels: 64, kernel size: 5\n"
     ]
    },
    {
     "name": "stderr",
     "output_type": "stream",
     "text": [
      "c:\\Users\\Grego\\AppData\\Local\\Programs\\Python\\Python310\\lib\\site-packages\\sklearn\\metrics\\_classification.py:1344: UndefinedMetricWarning: Precision is ill-defined and being set to 0.0 due to no predicted samples. Use `zero_division` parameter to control this behavior.\n",
      "  _warn_prf(average, modifier, msg_start, len(result))\n"
     ]
    },
    {
     "name": "stdout",
     "output_type": "stream",
     "text": [
      "Training with learning rate: 0.01, dropout: 0.2, channels: 128, kernel size: 3\n"
     ]
    },
    {
     "name": "stderr",
     "output_type": "stream",
     "text": [
      "c:\\Users\\Grego\\AppData\\Local\\Programs\\Python\\Python310\\lib\\site-packages\\sklearn\\metrics\\_classification.py:1344: UndefinedMetricWarning: Precision is ill-defined and being set to 0.0 due to no predicted samples. Use `zero_division` parameter to control this behavior.\n",
      "  _warn_prf(average, modifier, msg_start, len(result))\n"
     ]
    },
    {
     "name": "stdout",
     "output_type": "stream",
     "text": [
      "Training with learning rate: 0.01, dropout: 0.2, channels: 128, kernel size: 5\n"
     ]
    },
    {
     "name": "stderr",
     "output_type": "stream",
     "text": [
      "c:\\Users\\Grego\\AppData\\Local\\Programs\\Python\\Python310\\lib\\site-packages\\sklearn\\metrics\\_classification.py:1344: UndefinedMetricWarning: Precision is ill-defined and being set to 0.0 due to no predicted samples. Use `zero_division` parameter to control this behavior.\n",
      "  _warn_prf(average, modifier, msg_start, len(result))\n"
     ]
    },
    {
     "name": "stdout",
     "output_type": "stream",
     "text": [
      "Training with learning rate: 0.01, dropout: 0.5, channels: 64, kernel size: 3\n"
     ]
    },
    {
     "name": "stderr",
     "output_type": "stream",
     "text": [
      "c:\\Users\\Grego\\AppData\\Local\\Programs\\Python\\Python310\\lib\\site-packages\\sklearn\\metrics\\_classification.py:1344: UndefinedMetricWarning: Precision is ill-defined and being set to 0.0 due to no predicted samples. Use `zero_division` parameter to control this behavior.\n",
      "  _warn_prf(average, modifier, msg_start, len(result))\n"
     ]
    },
    {
     "name": "stdout",
     "output_type": "stream",
     "text": [
      "Training with learning rate: 0.01, dropout: 0.5, channels: 64, kernel size: 5\n"
     ]
    },
    {
     "name": "stderr",
     "output_type": "stream",
     "text": [
      "c:\\Users\\Grego\\AppData\\Local\\Programs\\Python\\Python310\\lib\\site-packages\\sklearn\\metrics\\_classification.py:1344: UndefinedMetricWarning: Precision is ill-defined and being set to 0.0 due to no predicted samples. Use `zero_division` parameter to control this behavior.\n",
      "  _warn_prf(average, modifier, msg_start, len(result))\n"
     ]
    },
    {
     "name": "stdout",
     "output_type": "stream",
     "text": [
      "Training with learning rate: 0.01, dropout: 0.5, channels: 128, kernel size: 3\n"
     ]
    },
    {
     "name": "stderr",
     "output_type": "stream",
     "text": [
      "c:\\Users\\Grego\\AppData\\Local\\Programs\\Python\\Python310\\lib\\site-packages\\sklearn\\metrics\\_classification.py:1344: UndefinedMetricWarning: Precision is ill-defined and being set to 0.0 due to no predicted samples. Use `zero_division` parameter to control this behavior.\n",
      "  _warn_prf(average, modifier, msg_start, len(result))\n"
     ]
    },
    {
     "name": "stdout",
     "output_type": "stream",
     "text": [
      "Training with learning rate: 0.01, dropout: 0.5, channels: 128, kernel size: 5\n"
     ]
    },
    {
     "name": "stderr",
     "output_type": "stream",
     "text": [
      "c:\\Users\\Grego\\AppData\\Local\\Programs\\Python\\Python310\\lib\\site-packages\\sklearn\\metrics\\_classification.py:1344: UndefinedMetricWarning: Precision is ill-defined and being set to 0.0 due to no predicted samples. Use `zero_division` parameter to control this behavior.\n",
      "  _warn_prf(average, modifier, msg_start, len(result))\n"
     ]
    },
    {
     "name": "stdout",
     "output_type": "stream",
     "text": [
      "Best Hyperparameters for Fold 8: (0.001, 0.2, 64, 3)\n",
      "Training on full training set with best hyperparameters: (0.001, 0.2, 64, 3)\n",
      "Epoch 1/100, Loss: 0.7231\n",
      "Epoch 2/100, Loss: 0.6940\n",
      "Epoch 3/100, Loss: 0.6935\n",
      "Epoch 4/100, Loss: 0.6933\n",
      "Epoch 5/100, Loss: 0.6933\n",
      "Epoch 6/100, Loss: 0.6932\n",
      "Epoch 7/100, Loss: 0.6932\n",
      "Epoch 8/100, Loss: 0.6932\n",
      "Epoch 9/100, Loss: 0.6932\n",
      "Epoch 10/100, Loss: 0.6932\n",
      "Epoch 11/100, Loss: 0.6932\n",
      "Epoch 12/100, Loss: 0.6932\n",
      "Epoch 13/100, Loss: 0.6932\n",
      "Epoch 14/100, Loss: 0.6932\n",
      "Epoch 15/100, Loss: 0.6932\n",
      "Epoch 16/100, Loss: 0.6932\n",
      "Epoch 17/100, Loss: 0.6932\n",
      "Epoch 18/100, Loss: 0.6932\n",
      "Epoch 19/100, Loss: 0.6932\n",
      "Epoch 20/100, Loss: 0.6932\n",
      "Epoch 21/100, Loss: 0.6932\n",
      "Epoch 22/100, Loss: 0.6932\n",
      "Epoch 23/100, Loss: 0.6932\n",
      "Epoch 24/100, Loss: 0.6931\n",
      "Epoch 25/100, Loss: 0.6931\n",
      "Epoch 26/100, Loss: 0.6931\n",
      "Epoch 27/100, Loss: 0.6931\n",
      "Epoch 28/100, Loss: 0.6931\n",
      "Epoch 29/100, Loss: 0.6931\n",
      "Epoch 30/100, Loss: 0.6931\n",
      "Epoch 31/100, Loss: 0.6931\n",
      "Epoch 32/100, Loss: 0.6931\n",
      "Epoch 33/100, Loss: 0.6931\n",
      "Epoch 34/100, Loss: 0.6931\n",
      "Epoch 35/100, Loss: 0.6931\n",
      "Epoch 36/100, Loss: 0.6931\n",
      "Epoch 37/100, Loss: 0.6931\n",
      "Epoch 38/100, Loss: 0.6931\n",
      "Epoch 39/100, Loss: 0.6931\n",
      "Epoch 40/100, Loss: 0.6931\n",
      "Epoch 41/100, Loss: 0.6931\n",
      "Epoch 42/100, Loss: 0.6931\n",
      "Epoch 43/100, Loss: 0.6931\n",
      "Epoch 44/100, Loss: 0.6931\n",
      "Epoch 45/100, Loss: 0.6931\n",
      "Epoch 46/100, Loss: 0.6931\n",
      "Epoch 47/100, Loss: 0.6931\n",
      "Epoch 48/100, Loss: 0.6931\n",
      "Epoch 49/100, Loss: 0.6931\n",
      "Epoch 50/100, Loss: 0.6931\n",
      "Epoch 51/100, Loss: 0.6931\n",
      "Epoch 52/100, Loss: 0.6931\n",
      "Epoch 53/100, Loss: 0.6931\n",
      "Epoch 54/100, Loss: 0.6931\n",
      "Epoch 55/100, Loss: 0.6931\n",
      "Epoch 56/100, Loss: 0.6931\n",
      "Epoch 57/100, Loss: 0.6931\n",
      "Epoch 58/100, Loss: 0.6931\n",
      "Epoch 59/100, Loss: 0.6931\n",
      "Epoch 60/100, Loss: 0.6931\n",
      "Epoch 61/100, Loss: 0.6931\n",
      "Epoch 62/100, Loss: 0.6931\n",
      "Epoch 63/100, Loss: 0.6931\n",
      "Epoch 64/100, Loss: 0.6931\n",
      "Epoch 65/100, Loss: 0.6931\n",
      "Epoch 66/100, Loss: 0.6931\n",
      "Epoch 67/100, Loss: 0.6931\n",
      "Epoch 68/100, Loss: 0.6931\n",
      "Epoch 69/100, Loss: 0.6931\n",
      "Epoch 70/100, Loss: 0.6930\n",
      "Epoch 71/100, Loss: 0.6930\n",
      "Epoch 72/100, Loss: 0.6930\n",
      "Epoch 73/100, Loss: 0.6930\n",
      "Epoch 74/100, Loss: 0.6930\n",
      "Epoch 75/100, Loss: 0.6930\n",
      "Epoch 76/100, Loss: 0.6930\n",
      "Epoch 77/100, Loss: 0.6930\n",
      "Epoch 78/100, Loss: 0.6930\n",
      "Epoch 79/100, Loss: 0.6930\n",
      "Epoch 80/100, Loss: 0.6930\n",
      "Epoch 81/100, Loss: 0.6930\n",
      "Epoch 82/100, Loss: 0.6930\n",
      "Epoch 83/100, Loss: 0.6930\n",
      "Epoch 84/100, Loss: 0.6930\n",
      "Epoch 85/100, Loss: 0.6930\n",
      "Epoch 86/100, Loss: 0.6930\n",
      "Epoch 87/100, Loss: 0.6930\n",
      "Epoch 88/100, Loss: 0.6930\n",
      "Epoch 89/100, Loss: 0.6930\n",
      "Epoch 90/100, Loss: 0.6930\n",
      "Epoch 91/100, Loss: 0.6930\n",
      "Epoch 92/100, Loss: 0.6930\n",
      "Epoch 93/100, Loss: 0.6930\n",
      "Epoch 94/100, Loss: 0.6930\n",
      "Epoch 95/100, Loss: 0.6930\n",
      "Epoch 96/100, Loss: 0.6930\n",
      "Epoch 97/100, Loss: 0.6930\n",
      "Epoch 98/100, Loss: 0.6930\n",
      "Epoch 99/100, Loss: 0.6930\n",
      "Epoch 100/100, Loss: 0.6930\n",
      "Test Precision: 0.0000\n",
      "Test Recall: 0.0000\n",
      "Test F1 Score: 0.0000\n",
      "Test ROC-AUC Score: 0.4813\n",
      "Test AUPRC Score: 0.0375\n",
      "Confusion Matrix:\n",
      "[[680   0]\n",
      " [ 29   0]]\n",
      "Classification Report:\n",
      "              precision    recall  f1-score   support\n",
      "\n",
      "         0.0       0.96      1.00      0.98       680\n",
      "         1.0       0.00      0.00      0.00        29\n",
      "\n",
      "    accuracy                           0.96       709\n",
      "   macro avg       0.48      0.50      0.49       709\n",
      "weighted avg       0.92      0.96      0.94       709\n",
      "\n",
      "Fold 9\n",
      "Training with learning rate: 0.001, dropout: 0.2, channels: 64, kernel size: 3\n"
     ]
    },
    {
     "name": "stderr",
     "output_type": "stream",
     "text": [
      "c:\\Users\\Grego\\AppData\\Local\\Programs\\Python\\Python310\\lib\\site-packages\\sklearn\\metrics\\_classification.py:1344: UndefinedMetricWarning: Precision is ill-defined and being set to 0.0 due to no predicted samples. Use `zero_division` parameter to control this behavior.\n",
      "  _warn_prf(average, modifier, msg_start, len(result))\n",
      "c:\\Users\\Grego\\AppData\\Local\\Programs\\Python\\Python310\\lib\\site-packages\\sklearn\\metrics\\_classification.py:1344: UndefinedMetricWarning: Precision and F-score are ill-defined and being set to 0.0 in labels with no predicted samples. Use `zero_division` parameter to control this behavior.\n",
      "  _warn_prf(average, modifier, msg_start, len(result))\n",
      "c:\\Users\\Grego\\AppData\\Local\\Programs\\Python\\Python310\\lib\\site-packages\\sklearn\\metrics\\_classification.py:1344: UndefinedMetricWarning: Precision and F-score are ill-defined and being set to 0.0 in labels with no predicted samples. Use `zero_division` parameter to control this behavior.\n",
      "  _warn_prf(average, modifier, msg_start, len(result))\n",
      "c:\\Users\\Grego\\AppData\\Local\\Programs\\Python\\Python310\\lib\\site-packages\\sklearn\\metrics\\_classification.py:1344: UndefinedMetricWarning: Precision and F-score are ill-defined and being set to 0.0 in labels with no predicted samples. Use `zero_division` parameter to control this behavior.\n",
      "  _warn_prf(average, modifier, msg_start, len(result))\n",
      "c:\\Users\\Grego\\AppData\\Local\\Programs\\Python\\Python310\\lib\\site-packages\\sklearn\\metrics\\_classification.py:1344: UndefinedMetricWarning: Precision is ill-defined and being set to 0.0 due to no predicted samples. Use `zero_division` parameter to control this behavior.\n",
      "  _warn_prf(average, modifier, msg_start, len(result))\n"
     ]
    },
    {
     "name": "stdout",
     "output_type": "stream",
     "text": [
      "Found new best hyperparameters: (0.001, 0.2, 64, 3)\n",
      "Training with learning rate: 0.001, dropout: 0.2, channels: 64, kernel size: 5\n",
      "Training with learning rate: 0.001, dropout: 0.2, channels: 128, kernel size: 3\n"
     ]
    },
    {
     "name": "stderr",
     "output_type": "stream",
     "text": [
      "c:\\Users\\Grego\\AppData\\Local\\Programs\\Python\\Python310\\lib\\site-packages\\sklearn\\metrics\\_classification.py:1344: UndefinedMetricWarning: Precision is ill-defined and being set to 0.0 due to no predicted samples. Use `zero_division` parameter to control this behavior.\n",
      "  _warn_prf(average, modifier, msg_start, len(result))\n"
     ]
    },
    {
     "name": "stdout",
     "output_type": "stream",
     "text": [
      "Training with learning rate: 0.001, dropout: 0.2, channels: 128, kernel size: 5\n"
     ]
    },
    {
     "name": "stderr",
     "output_type": "stream",
     "text": [
      "c:\\Users\\Grego\\AppData\\Local\\Programs\\Python\\Python310\\lib\\site-packages\\sklearn\\metrics\\_classification.py:1344: UndefinedMetricWarning: Precision is ill-defined and being set to 0.0 due to no predicted samples. Use `zero_division` parameter to control this behavior.\n",
      "  _warn_prf(average, modifier, msg_start, len(result))\n"
     ]
    },
    {
     "name": "stdout",
     "output_type": "stream",
     "text": [
      "Training with learning rate: 0.001, dropout: 0.5, channels: 64, kernel size: 3\n"
     ]
    },
    {
     "name": "stderr",
     "output_type": "stream",
     "text": [
      "c:\\Users\\Grego\\AppData\\Local\\Programs\\Python\\Python310\\lib\\site-packages\\sklearn\\metrics\\_classification.py:1344: UndefinedMetricWarning: Precision is ill-defined and being set to 0.0 due to no predicted samples. Use `zero_division` parameter to control this behavior.\n",
      "  _warn_prf(average, modifier, msg_start, len(result))\n"
     ]
    },
    {
     "name": "stdout",
     "output_type": "stream",
     "text": [
      "Training with learning rate: 0.001, dropout: 0.5, channels: 64, kernel size: 5\n"
     ]
    },
    {
     "name": "stderr",
     "output_type": "stream",
     "text": [
      "c:\\Users\\Grego\\AppData\\Local\\Programs\\Python\\Python310\\lib\\site-packages\\sklearn\\metrics\\_classification.py:1344: UndefinedMetricWarning: Precision is ill-defined and being set to 0.0 due to no predicted samples. Use `zero_division` parameter to control this behavior.\n",
      "  _warn_prf(average, modifier, msg_start, len(result))\n"
     ]
    },
    {
     "name": "stdout",
     "output_type": "stream",
     "text": [
      "Training with learning rate: 0.001, dropout: 0.5, channels: 128, kernel size: 3\n"
     ]
    },
    {
     "name": "stderr",
     "output_type": "stream",
     "text": [
      "c:\\Users\\Grego\\AppData\\Local\\Programs\\Python\\Python310\\lib\\site-packages\\sklearn\\metrics\\_classification.py:1344: UndefinedMetricWarning: Precision is ill-defined and being set to 0.0 due to no predicted samples. Use `zero_division` parameter to control this behavior.\n",
      "  _warn_prf(average, modifier, msg_start, len(result))\n"
     ]
    },
    {
     "name": "stdout",
     "output_type": "stream",
     "text": [
      "Training with learning rate: 0.001, dropout: 0.5, channels: 128, kernel size: 5\n"
     ]
    },
    {
     "name": "stderr",
     "output_type": "stream",
     "text": [
      "c:\\Users\\Grego\\AppData\\Local\\Programs\\Python\\Python310\\lib\\site-packages\\sklearn\\metrics\\_classification.py:1344: UndefinedMetricWarning: Precision is ill-defined and being set to 0.0 due to no predicted samples. Use `zero_division` parameter to control this behavior.\n",
      "  _warn_prf(average, modifier, msg_start, len(result))\n"
     ]
    },
    {
     "name": "stdout",
     "output_type": "stream",
     "text": [
      "Training with learning rate: 0.01, dropout: 0.2, channels: 64, kernel size: 3\n"
     ]
    },
    {
     "name": "stderr",
     "output_type": "stream",
     "text": [
      "c:\\Users\\Grego\\AppData\\Local\\Programs\\Python\\Python310\\lib\\site-packages\\sklearn\\metrics\\_classification.py:1344: UndefinedMetricWarning: Precision is ill-defined and being set to 0.0 due to no predicted samples. Use `zero_division` parameter to control this behavior.\n",
      "  _warn_prf(average, modifier, msg_start, len(result))\n"
     ]
    },
    {
     "name": "stdout",
     "output_type": "stream",
     "text": [
      "Training with learning rate: 0.01, dropout: 0.2, channels: 64, kernel size: 5\n"
     ]
    },
    {
     "name": "stderr",
     "output_type": "stream",
     "text": [
      "c:\\Users\\Grego\\AppData\\Local\\Programs\\Python\\Python310\\lib\\site-packages\\sklearn\\metrics\\_classification.py:1344: UndefinedMetricWarning: Precision is ill-defined and being set to 0.0 due to no predicted samples. Use `zero_division` parameter to control this behavior.\n",
      "  _warn_prf(average, modifier, msg_start, len(result))\n"
     ]
    },
    {
     "name": "stdout",
     "output_type": "stream",
     "text": [
      "Training with learning rate: 0.01, dropout: 0.2, channels: 128, kernel size: 3\n"
     ]
    },
    {
     "name": "stderr",
     "output_type": "stream",
     "text": [
      "c:\\Users\\Grego\\AppData\\Local\\Programs\\Python\\Python310\\lib\\site-packages\\sklearn\\metrics\\_classification.py:1344: UndefinedMetricWarning: Precision is ill-defined and being set to 0.0 due to no predicted samples. Use `zero_division` parameter to control this behavior.\n",
      "  _warn_prf(average, modifier, msg_start, len(result))\n"
     ]
    },
    {
     "name": "stdout",
     "output_type": "stream",
     "text": [
      "Training with learning rate: 0.01, dropout: 0.2, channels: 128, kernel size: 5\n"
     ]
    },
    {
     "name": "stderr",
     "output_type": "stream",
     "text": [
      "c:\\Users\\Grego\\AppData\\Local\\Programs\\Python\\Python310\\lib\\site-packages\\sklearn\\metrics\\_classification.py:1344: UndefinedMetricWarning: Precision is ill-defined and being set to 0.0 due to no predicted samples. Use `zero_division` parameter to control this behavior.\n",
      "  _warn_prf(average, modifier, msg_start, len(result))\n"
     ]
    },
    {
     "name": "stdout",
     "output_type": "stream",
     "text": [
      "Training with learning rate: 0.01, dropout: 0.5, channels: 64, kernel size: 3\n"
     ]
    },
    {
     "name": "stderr",
     "output_type": "stream",
     "text": [
      "c:\\Users\\Grego\\AppData\\Local\\Programs\\Python\\Python310\\lib\\site-packages\\sklearn\\metrics\\_classification.py:1344: UndefinedMetricWarning: Precision is ill-defined and being set to 0.0 due to no predicted samples. Use `zero_division` parameter to control this behavior.\n",
      "  _warn_prf(average, modifier, msg_start, len(result))\n"
     ]
    },
    {
     "name": "stdout",
     "output_type": "stream",
     "text": [
      "Training with learning rate: 0.01, dropout: 0.5, channels: 64, kernel size: 5\n"
     ]
    },
    {
     "name": "stderr",
     "output_type": "stream",
     "text": [
      "c:\\Users\\Grego\\AppData\\Local\\Programs\\Python\\Python310\\lib\\site-packages\\sklearn\\metrics\\_classification.py:1344: UndefinedMetricWarning: Precision is ill-defined and being set to 0.0 due to no predicted samples. Use `zero_division` parameter to control this behavior.\n",
      "  _warn_prf(average, modifier, msg_start, len(result))\n"
     ]
    },
    {
     "name": "stdout",
     "output_type": "stream",
     "text": [
      "Training with learning rate: 0.01, dropout: 0.5, channels: 128, kernel size: 3\n"
     ]
    },
    {
     "name": "stderr",
     "output_type": "stream",
     "text": [
      "c:\\Users\\Grego\\AppData\\Local\\Programs\\Python\\Python310\\lib\\site-packages\\sklearn\\metrics\\_classification.py:1344: UndefinedMetricWarning: Precision is ill-defined and being set to 0.0 due to no predicted samples. Use `zero_division` parameter to control this behavior.\n",
      "  _warn_prf(average, modifier, msg_start, len(result))\n"
     ]
    },
    {
     "name": "stdout",
     "output_type": "stream",
     "text": [
      "Training with learning rate: 0.01, dropout: 0.5, channels: 128, kernel size: 5\n"
     ]
    },
    {
     "name": "stderr",
     "output_type": "stream",
     "text": [
      "c:\\Users\\Grego\\AppData\\Local\\Programs\\Python\\Python310\\lib\\site-packages\\sklearn\\metrics\\_classification.py:1344: UndefinedMetricWarning: Precision is ill-defined and being set to 0.0 due to no predicted samples. Use `zero_division` parameter to control this behavior.\n",
      "  _warn_prf(average, modifier, msg_start, len(result))\n"
     ]
    },
    {
     "name": "stdout",
     "output_type": "stream",
     "text": [
      "Best Hyperparameters for Fold 9: (0.001, 0.2, 64, 3)\n",
      "Training on full training set with best hyperparameters: (0.001, 0.2, 64, 3)\n",
      "Epoch 1/100, Loss: 0.7257\n",
      "Epoch 2/100, Loss: 0.6940\n",
      "Epoch 3/100, Loss: 0.6935\n",
      "Epoch 4/100, Loss: 0.6933\n",
      "Epoch 5/100, Loss: 0.6932\n",
      "Epoch 6/100, Loss: 0.6932\n",
      "Epoch 7/100, Loss: 0.6932\n",
      "Epoch 8/100, Loss: 0.6932\n",
      "Epoch 9/100, Loss: 0.6932\n",
      "Epoch 10/100, Loss: 0.6932\n",
      "Epoch 11/100, Loss: 0.6932\n",
      "Epoch 12/100, Loss: 0.6932\n",
      "Epoch 13/100, Loss: 0.6932\n",
      "Epoch 14/100, Loss: 0.6932\n",
      "Epoch 15/100, Loss: 0.6932\n",
      "Epoch 16/100, Loss: 0.6932\n",
      "Epoch 17/100, Loss: 0.6932\n",
      "Epoch 18/100, Loss: 0.6932\n",
      "Epoch 19/100, Loss: 0.6932\n",
      "Epoch 20/100, Loss: 0.6932\n",
      "Epoch 21/100, Loss: 0.6932\n",
      "Epoch 22/100, Loss: 0.6932\n",
      "Epoch 23/100, Loss: 0.6931\n",
      "Epoch 24/100, Loss: 0.6931\n",
      "Epoch 25/100, Loss: 0.6931\n",
      "Epoch 26/100, Loss: 0.6931\n",
      "Epoch 27/100, Loss: 0.6931\n",
      "Epoch 28/100, Loss: 0.6931\n",
      "Epoch 29/100, Loss: 0.6931\n",
      "Epoch 30/100, Loss: 0.6931\n",
      "Epoch 31/100, Loss: 0.6931\n",
      "Epoch 32/100, Loss: 0.6931\n",
      "Epoch 33/100, Loss: 0.6931\n",
      "Epoch 34/100, Loss: 0.6931\n",
      "Epoch 35/100, Loss: 0.6931\n",
      "Epoch 36/100, Loss: 0.6931\n",
      "Epoch 37/100, Loss: 0.6931\n",
      "Epoch 38/100, Loss: 0.6931\n",
      "Epoch 39/100, Loss: 0.6931\n",
      "Epoch 40/100, Loss: 0.6931\n",
      "Epoch 41/100, Loss: 0.6931\n",
      "Epoch 42/100, Loss: 0.6931\n",
      "Epoch 43/100, Loss: 0.6931\n",
      "Epoch 44/100, Loss: 0.6931\n",
      "Epoch 45/100, Loss: 0.6931\n",
      "Epoch 46/100, Loss: 0.6931\n",
      "Epoch 47/100, Loss: 0.6931\n",
      "Epoch 48/100, Loss: 0.6931\n",
      "Epoch 49/100, Loss: 0.6931\n",
      "Epoch 50/100, Loss: 0.6931\n",
      "Epoch 51/100, Loss: 0.6931\n",
      "Epoch 52/100, Loss: 0.6931\n",
      "Epoch 53/100, Loss: 0.6931\n",
      "Epoch 54/100, Loss: 0.6931\n",
      "Epoch 55/100, Loss: 0.6931\n",
      "Epoch 56/100, Loss: 0.6931\n",
      "Epoch 57/100, Loss: 0.6931\n",
      "Epoch 58/100, Loss: 0.6931\n",
      "Epoch 59/100, Loss: 0.6931\n",
      "Epoch 60/100, Loss: 0.6931\n",
      "Epoch 61/100, Loss: 0.6931\n",
      "Epoch 62/100, Loss: 0.6931\n",
      "Epoch 63/100, Loss: 0.6931\n",
      "Epoch 64/100, Loss: 0.6931\n",
      "Epoch 65/100, Loss: 0.6931\n",
      "Epoch 66/100, Loss: 0.6931\n",
      "Epoch 67/100, Loss: 0.6931\n",
      "Epoch 68/100, Loss: 0.6931\n",
      "Epoch 69/100, Loss: 0.6931\n",
      "Epoch 70/100, Loss: 0.6931\n",
      "Epoch 71/100, Loss: 0.6931\n",
      "Epoch 72/100, Loss: 0.6931\n",
      "Epoch 73/100, Loss: 0.6931\n",
      "Epoch 74/100, Loss: 0.6931\n",
      "Epoch 75/100, Loss: 0.6931\n",
      "Epoch 76/100, Loss: 0.6931\n",
      "Epoch 77/100, Loss: 0.6931\n",
      "Epoch 78/100, Loss: 0.6931\n",
      "Epoch 79/100, Loss: 0.6931\n",
      "Epoch 80/100, Loss: 0.6931\n",
      "Epoch 81/100, Loss: 0.6931\n",
      "Epoch 82/100, Loss: 0.6931\n",
      "Epoch 83/100, Loss: 0.6931\n",
      "Epoch 84/100, Loss: 0.6931\n",
      "Epoch 85/100, Loss: 0.6931\n",
      "Epoch 86/100, Loss: 0.6931\n",
      "Epoch 87/100, Loss: 0.6931\n",
      "Epoch 88/100, Loss: 0.6931\n",
      "Epoch 89/100, Loss: 0.6931\n",
      "Epoch 90/100, Loss: 0.6931\n",
      "Epoch 91/100, Loss: 0.6931\n",
      "Epoch 92/100, Loss: 0.6931\n",
      "Epoch 93/100, Loss: 0.6931\n",
      "Epoch 94/100, Loss: 0.6931\n",
      "Epoch 95/100, Loss: 0.6931\n",
      "Epoch 96/100, Loss: 0.6931\n",
      "Epoch 97/100, Loss: 0.6931\n",
      "Epoch 98/100, Loss: 0.6931\n",
      "Epoch 99/100, Loss: 0.6931\n",
      "Epoch 100/100, Loss: 0.6931\n",
      "Test Precision: 0.0000\n",
      "Test Recall: 0.0000\n",
      "Test F1 Score: 0.0000\n",
      "Test ROC-AUC Score: 0.4628\n",
      "Test AUPRC Score: 0.0371\n",
      "Confusion Matrix:\n",
      "[[683   0]\n",
      " [ 26   0]]\n",
      "Classification Report:\n",
      "              precision    recall  f1-score   support\n",
      "\n",
      "         0.0       0.96      1.00      0.98       683\n",
      "         1.0       0.00      0.00      0.00        26\n",
      "\n",
      "    accuracy                           0.96       709\n",
      "   macro avg       0.48      0.50      0.49       709\n",
      "weighted avg       0.93      0.96      0.95       709\n",
      "\n",
      "Fold 10\n",
      "Training with learning rate: 0.001, dropout: 0.2, channels: 64, kernel size: 3\n"
     ]
    },
    {
     "name": "stderr",
     "output_type": "stream",
     "text": [
      "c:\\Users\\Grego\\AppData\\Local\\Programs\\Python\\Python310\\lib\\site-packages\\sklearn\\metrics\\_classification.py:1344: UndefinedMetricWarning: Precision is ill-defined and being set to 0.0 due to no predicted samples. Use `zero_division` parameter to control this behavior.\n",
      "  _warn_prf(average, modifier, msg_start, len(result))\n",
      "c:\\Users\\Grego\\AppData\\Local\\Programs\\Python\\Python310\\lib\\site-packages\\sklearn\\metrics\\_classification.py:1344: UndefinedMetricWarning: Precision and F-score are ill-defined and being set to 0.0 in labels with no predicted samples. Use `zero_division` parameter to control this behavior.\n",
      "  _warn_prf(average, modifier, msg_start, len(result))\n",
      "c:\\Users\\Grego\\AppData\\Local\\Programs\\Python\\Python310\\lib\\site-packages\\sklearn\\metrics\\_classification.py:1344: UndefinedMetricWarning: Precision and F-score are ill-defined and being set to 0.0 in labels with no predicted samples. Use `zero_division` parameter to control this behavior.\n",
      "  _warn_prf(average, modifier, msg_start, len(result))\n",
      "c:\\Users\\Grego\\AppData\\Local\\Programs\\Python\\Python310\\lib\\site-packages\\sklearn\\metrics\\_classification.py:1344: UndefinedMetricWarning: Precision and F-score are ill-defined and being set to 0.0 in labels with no predicted samples. Use `zero_division` parameter to control this behavior.\n",
      "  _warn_prf(average, modifier, msg_start, len(result))\n",
      "c:\\Users\\Grego\\AppData\\Local\\Programs\\Python\\Python310\\lib\\site-packages\\sklearn\\metrics\\_classification.py:1344: UndefinedMetricWarning: Precision is ill-defined and being set to 0.0 due to no predicted samples. Use `zero_division` parameter to control this behavior.\n",
      "  _warn_prf(average, modifier, msg_start, len(result))\n"
     ]
    },
    {
     "name": "stdout",
     "output_type": "stream",
     "text": [
      "Found new best hyperparameters: (0.001, 0.2, 64, 3)\n",
      "Training with learning rate: 0.001, dropout: 0.2, channels: 64, kernel size: 5\n"
     ]
    },
    {
     "name": "stderr",
     "output_type": "stream",
     "text": [
      "c:\\Users\\Grego\\AppData\\Local\\Programs\\Python\\Python310\\lib\\site-packages\\sklearn\\metrics\\_classification.py:1344: UndefinedMetricWarning: Precision is ill-defined and being set to 0.0 due to no predicted samples. Use `zero_division` parameter to control this behavior.\n",
      "  _warn_prf(average, modifier, msg_start, len(result))\n"
     ]
    },
    {
     "name": "stdout",
     "output_type": "stream",
     "text": [
      "Training with learning rate: 0.001, dropout: 0.2, channels: 128, kernel size: 3\n"
     ]
    },
    {
     "name": "stderr",
     "output_type": "stream",
     "text": [
      "c:\\Users\\Grego\\AppData\\Local\\Programs\\Python\\Python310\\lib\\site-packages\\sklearn\\metrics\\_classification.py:1344: UndefinedMetricWarning: Precision is ill-defined and being set to 0.0 due to no predicted samples. Use `zero_division` parameter to control this behavior.\n",
      "  _warn_prf(average, modifier, msg_start, len(result))\n"
     ]
    },
    {
     "name": "stdout",
     "output_type": "stream",
     "text": [
      "Training with learning rate: 0.001, dropout: 0.2, channels: 128, kernel size: 5\n"
     ]
    },
    {
     "name": "stderr",
     "output_type": "stream",
     "text": [
      "c:\\Users\\Grego\\AppData\\Local\\Programs\\Python\\Python310\\lib\\site-packages\\sklearn\\metrics\\_classification.py:1344: UndefinedMetricWarning: Precision is ill-defined and being set to 0.0 due to no predicted samples. Use `zero_division` parameter to control this behavior.\n",
      "  _warn_prf(average, modifier, msg_start, len(result))\n"
     ]
    },
    {
     "name": "stdout",
     "output_type": "stream",
     "text": [
      "Training with learning rate: 0.001, dropout: 0.5, channels: 64, kernel size: 3\n"
     ]
    },
    {
     "name": "stderr",
     "output_type": "stream",
     "text": [
      "c:\\Users\\Grego\\AppData\\Local\\Programs\\Python\\Python310\\lib\\site-packages\\sklearn\\metrics\\_classification.py:1344: UndefinedMetricWarning: Precision is ill-defined and being set to 0.0 due to no predicted samples. Use `zero_division` parameter to control this behavior.\n",
      "  _warn_prf(average, modifier, msg_start, len(result))\n"
     ]
    },
    {
     "name": "stdout",
     "output_type": "stream",
     "text": [
      "Training with learning rate: 0.001, dropout: 0.5, channels: 64, kernel size: 5\n"
     ]
    },
    {
     "name": "stderr",
     "output_type": "stream",
     "text": [
      "c:\\Users\\Grego\\AppData\\Local\\Programs\\Python\\Python310\\lib\\site-packages\\sklearn\\metrics\\_classification.py:1344: UndefinedMetricWarning: Precision is ill-defined and being set to 0.0 due to no predicted samples. Use `zero_division` parameter to control this behavior.\n",
      "  _warn_prf(average, modifier, msg_start, len(result))\n"
     ]
    },
    {
     "name": "stdout",
     "output_type": "stream",
     "text": [
      "Training with learning rate: 0.001, dropout: 0.5, channels: 128, kernel size: 3\n"
     ]
    },
    {
     "name": "stderr",
     "output_type": "stream",
     "text": [
      "c:\\Users\\Grego\\AppData\\Local\\Programs\\Python\\Python310\\lib\\site-packages\\sklearn\\metrics\\_classification.py:1344: UndefinedMetricWarning: Precision is ill-defined and being set to 0.0 due to no predicted samples. Use `zero_division` parameter to control this behavior.\n",
      "  _warn_prf(average, modifier, msg_start, len(result))\n"
     ]
    },
    {
     "name": "stdout",
     "output_type": "stream",
     "text": [
      "Training with learning rate: 0.001, dropout: 0.5, channels: 128, kernel size: 5\n"
     ]
    },
    {
     "name": "stderr",
     "output_type": "stream",
     "text": [
      "c:\\Users\\Grego\\AppData\\Local\\Programs\\Python\\Python310\\lib\\site-packages\\sklearn\\metrics\\_classification.py:1344: UndefinedMetricWarning: Precision is ill-defined and being set to 0.0 due to no predicted samples. Use `zero_division` parameter to control this behavior.\n",
      "  _warn_prf(average, modifier, msg_start, len(result))\n"
     ]
    },
    {
     "name": "stdout",
     "output_type": "stream",
     "text": [
      "Training with learning rate: 0.01, dropout: 0.2, channels: 64, kernel size: 3\n"
     ]
    },
    {
     "name": "stderr",
     "output_type": "stream",
     "text": [
      "c:\\Users\\Grego\\AppData\\Local\\Programs\\Python\\Python310\\lib\\site-packages\\sklearn\\metrics\\_classification.py:1344: UndefinedMetricWarning: Precision is ill-defined and being set to 0.0 due to no predicted samples. Use `zero_division` parameter to control this behavior.\n",
      "  _warn_prf(average, modifier, msg_start, len(result))\n"
     ]
    },
    {
     "name": "stdout",
     "output_type": "stream",
     "text": [
      "Training with learning rate: 0.01, dropout: 0.2, channels: 64, kernel size: 5\n"
     ]
    },
    {
     "name": "stderr",
     "output_type": "stream",
     "text": [
      "c:\\Users\\Grego\\AppData\\Local\\Programs\\Python\\Python310\\lib\\site-packages\\sklearn\\metrics\\_classification.py:1344: UndefinedMetricWarning: Precision is ill-defined and being set to 0.0 due to no predicted samples. Use `zero_division` parameter to control this behavior.\n",
      "  _warn_prf(average, modifier, msg_start, len(result))\n"
     ]
    },
    {
     "name": "stdout",
     "output_type": "stream",
     "text": [
      "Training with learning rate: 0.01, dropout: 0.2, channels: 128, kernel size: 3\n"
     ]
    },
    {
     "name": "stderr",
     "output_type": "stream",
     "text": [
      "c:\\Users\\Grego\\AppData\\Local\\Programs\\Python\\Python310\\lib\\site-packages\\sklearn\\metrics\\_classification.py:1344: UndefinedMetricWarning: Precision is ill-defined and being set to 0.0 due to no predicted samples. Use `zero_division` parameter to control this behavior.\n",
      "  _warn_prf(average, modifier, msg_start, len(result))\n"
     ]
    },
    {
     "name": "stdout",
     "output_type": "stream",
     "text": [
      "Training with learning rate: 0.01, dropout: 0.2, channels: 128, kernel size: 5\n"
     ]
    },
    {
     "name": "stderr",
     "output_type": "stream",
     "text": [
      "c:\\Users\\Grego\\AppData\\Local\\Programs\\Python\\Python310\\lib\\site-packages\\sklearn\\metrics\\_classification.py:1344: UndefinedMetricWarning: Precision is ill-defined and being set to 0.0 due to no predicted samples. Use `zero_division` parameter to control this behavior.\n",
      "  _warn_prf(average, modifier, msg_start, len(result))\n"
     ]
    },
    {
     "name": "stdout",
     "output_type": "stream",
     "text": [
      "Training with learning rate: 0.01, dropout: 0.5, channels: 64, kernel size: 3\n"
     ]
    },
    {
     "name": "stderr",
     "output_type": "stream",
     "text": [
      "c:\\Users\\Grego\\AppData\\Local\\Programs\\Python\\Python310\\lib\\site-packages\\sklearn\\metrics\\_classification.py:1344: UndefinedMetricWarning: Precision is ill-defined and being set to 0.0 due to no predicted samples. Use `zero_division` parameter to control this behavior.\n",
      "  _warn_prf(average, modifier, msg_start, len(result))\n"
     ]
    },
    {
     "name": "stdout",
     "output_type": "stream",
     "text": [
      "Training with learning rate: 0.01, dropout: 0.5, channels: 64, kernel size: 5\n"
     ]
    },
    {
     "name": "stderr",
     "output_type": "stream",
     "text": [
      "c:\\Users\\Grego\\AppData\\Local\\Programs\\Python\\Python310\\lib\\site-packages\\sklearn\\metrics\\_classification.py:1344: UndefinedMetricWarning: Precision is ill-defined and being set to 0.0 due to no predicted samples. Use `zero_division` parameter to control this behavior.\n",
      "  _warn_prf(average, modifier, msg_start, len(result))\n"
     ]
    },
    {
     "name": "stdout",
     "output_type": "stream",
     "text": [
      "Training with learning rate: 0.01, dropout: 0.5, channels: 128, kernel size: 3\n"
     ]
    },
    {
     "name": "stderr",
     "output_type": "stream",
     "text": [
      "c:\\Users\\Grego\\AppData\\Local\\Programs\\Python\\Python310\\lib\\site-packages\\sklearn\\metrics\\_classification.py:1344: UndefinedMetricWarning: Precision is ill-defined and being set to 0.0 due to no predicted samples. Use `zero_division` parameter to control this behavior.\n",
      "  _warn_prf(average, modifier, msg_start, len(result))\n"
     ]
    },
    {
     "name": "stdout",
     "output_type": "stream",
     "text": [
      "Training with learning rate: 0.01, dropout: 0.5, channels: 128, kernel size: 5\n"
     ]
    },
    {
     "name": "stderr",
     "output_type": "stream",
     "text": [
      "c:\\Users\\Grego\\AppData\\Local\\Programs\\Python\\Python310\\lib\\site-packages\\sklearn\\metrics\\_classification.py:1344: UndefinedMetricWarning: Precision is ill-defined and being set to 0.0 due to no predicted samples. Use `zero_division` parameter to control this behavior.\n",
      "  _warn_prf(average, modifier, msg_start, len(result))\n"
     ]
    },
    {
     "name": "stdout",
     "output_type": "stream",
     "text": [
      "Best Hyperparameters for Fold 10: (0.001, 0.2, 64, 3)\n",
      "Training on full training set with best hyperparameters: (0.001, 0.2, 64, 3)\n",
      "Epoch 1/100, Loss: 0.7230\n",
      "Epoch 2/100, Loss: 0.6939\n",
      "Epoch 3/100, Loss: 0.6934\n",
      "Epoch 4/100, Loss: 0.6933\n",
      "Epoch 5/100, Loss: 0.6932\n",
      "Epoch 6/100, Loss: 0.6932\n",
      "Epoch 7/100, Loss: 0.6932\n",
      "Epoch 8/100, Loss: 0.6932\n",
      "Epoch 9/100, Loss: 0.6932\n",
      "Epoch 10/100, Loss: 0.6932\n",
      "Epoch 11/100, Loss: 0.6932\n",
      "Epoch 12/100, Loss: 0.6932\n",
      "Epoch 13/100, Loss: 0.6932\n",
      "Epoch 14/100, Loss: 0.6932\n",
      "Epoch 15/100, Loss: 0.6932\n",
      "Epoch 16/100, Loss: 0.6932\n",
      "Epoch 17/100, Loss: 0.6932\n",
      "Epoch 18/100, Loss: 0.6932\n",
      "Epoch 19/100, Loss: 0.6932\n",
      "Epoch 20/100, Loss: 0.6932\n",
      "Epoch 21/100, Loss: 0.6932\n",
      "Epoch 22/100, Loss: 0.6932\n",
      "Epoch 23/100, Loss: 0.6932\n",
      "Epoch 24/100, Loss: 0.6931\n",
      "Epoch 25/100, Loss: 0.6931\n",
      "Epoch 26/100, Loss: 0.6931\n",
      "Epoch 27/100, Loss: 0.6931\n",
      "Epoch 28/100, Loss: 0.6931\n",
      "Epoch 29/100, Loss: 0.6931\n",
      "Epoch 30/100, Loss: 0.6931\n",
      "Epoch 31/100, Loss: 0.6931\n",
      "Epoch 32/100, Loss: 0.6931\n",
      "Epoch 33/100, Loss: 0.6931\n",
      "Epoch 34/100, Loss: 0.6931\n",
      "Epoch 35/100, Loss: 0.6931\n",
      "Epoch 36/100, Loss: 0.6931\n",
      "Epoch 37/100, Loss: 0.6931\n",
      "Epoch 38/100, Loss: 0.6931\n",
      "Epoch 39/100, Loss: 0.6931\n",
      "Epoch 40/100, Loss: 0.6931\n",
      "Epoch 41/100, Loss: 0.6931\n",
      "Epoch 42/100, Loss: 0.6931\n",
      "Epoch 43/100, Loss: 0.6931\n",
      "Epoch 44/100, Loss: 0.6931\n",
      "Epoch 45/100, Loss: 0.6931\n",
      "Epoch 46/100, Loss: 0.6931\n",
      "Epoch 47/100, Loss: 0.6931\n",
      "Epoch 48/100, Loss: 0.6931\n",
      "Epoch 49/100, Loss: 0.6931\n",
      "Epoch 50/100, Loss: 0.6931\n",
      "Epoch 51/100, Loss: 0.6931\n",
      "Epoch 52/100, Loss: 0.6931\n",
      "Epoch 53/100, Loss: 0.6931\n",
      "Epoch 54/100, Loss: 0.6931\n",
      "Epoch 55/100, Loss: 0.6931\n",
      "Epoch 56/100, Loss: 0.6931\n",
      "Epoch 57/100, Loss: 0.6931\n",
      "Epoch 58/100, Loss: 0.6931\n",
      "Epoch 59/100, Loss: 0.6931\n",
      "Epoch 60/100, Loss: 0.6931\n",
      "Epoch 61/100, Loss: 0.6931\n",
      "Epoch 62/100, Loss: 0.6931\n",
      "Epoch 63/100, Loss: 0.6931\n",
      "Epoch 64/100, Loss: 0.6931\n",
      "Epoch 65/100, Loss: 0.6931\n",
      "Epoch 66/100, Loss: 0.6931\n",
      "Epoch 67/100, Loss: 0.6931\n",
      "Epoch 68/100, Loss: 0.6931\n",
      "Epoch 69/100, Loss: 0.6931\n",
      "Epoch 70/100, Loss: 0.6931\n",
      "Epoch 71/100, Loss: 0.6931\n",
      "Epoch 72/100, Loss: 0.6931\n",
      "Epoch 73/100, Loss: 0.6931\n",
      "Epoch 74/100, Loss: 0.6931\n",
      "Epoch 75/100, Loss: 0.6931\n",
      "Epoch 76/100, Loss: 0.6931\n",
      "Epoch 77/100, Loss: 0.6931\n",
      "Epoch 78/100, Loss: 0.6931\n",
      "Epoch 79/100, Loss: 0.6931\n",
      "Epoch 80/100, Loss: 0.6931\n",
      "Epoch 81/100, Loss: 0.6931\n",
      "Epoch 82/100, Loss: 0.6931\n",
      "Epoch 83/100, Loss: 0.6931\n",
      "Epoch 84/100, Loss: 0.6931\n",
      "Epoch 85/100, Loss: 0.6931\n",
      "Epoch 86/100, Loss: 0.6931\n",
      "Epoch 87/100, Loss: 0.6931\n",
      "Epoch 88/100, Loss: 0.6931\n",
      "Epoch 89/100, Loss: 0.6931\n",
      "Epoch 90/100, Loss: 0.6931\n",
      "Epoch 91/100, Loss: 0.6931\n",
      "Epoch 92/100, Loss: 0.6931\n",
      "Epoch 93/100, Loss: 0.6931\n",
      "Epoch 94/100, Loss: 0.6931\n",
      "Epoch 95/100, Loss: 0.6931\n",
      "Epoch 96/100, Loss: 0.6931\n",
      "Epoch 97/100, Loss: 0.6931\n",
      "Epoch 98/100, Loss: 0.6931\n",
      "Epoch 99/100, Loss: 0.6931\n",
      "Epoch 100/100, Loss: 0.6931\n",
      "Test Precision: 0.0000\n",
      "Test Recall: 0.0000\n",
      "Test F1 Score: 0.0000\n",
      "Test ROC-AUC Score: 0.5039\n",
      "Test AUPRC Score: 0.0411\n",
      "Confusion Matrix:\n",
      "[[684   0]\n",
      " [ 25   0]]\n",
      "Classification Report:\n",
      "              precision    recall  f1-score   support\n",
      "\n",
      "         0.0       0.96      1.00      0.98       684\n",
      "         1.0       0.00      0.00      0.00        25\n",
      "\n",
      "    accuracy                           0.96       709\n",
      "   macro avg       0.48      0.50      0.49       709\n",
      "weighted avg       0.93      0.96      0.95       709\n",
      "\n"
     ]
    },
    {
     "name": "stderr",
     "output_type": "stream",
     "text": [
      "c:\\Users\\Grego\\AppData\\Local\\Programs\\Python\\Python310\\lib\\site-packages\\sklearn\\metrics\\_classification.py:1344: UndefinedMetricWarning: Precision is ill-defined and being set to 0.0 due to no predicted samples. Use `zero_division` parameter to control this behavior.\n",
      "  _warn_prf(average, modifier, msg_start, len(result))\n",
      "c:\\Users\\Grego\\AppData\\Local\\Programs\\Python\\Python310\\lib\\site-packages\\sklearn\\metrics\\_classification.py:1344: UndefinedMetricWarning: Precision and F-score are ill-defined and being set to 0.0 in labels with no predicted samples. Use `zero_division` parameter to control this behavior.\n",
      "  _warn_prf(average, modifier, msg_start, len(result))\n",
      "c:\\Users\\Grego\\AppData\\Local\\Programs\\Python\\Python310\\lib\\site-packages\\sklearn\\metrics\\_classification.py:1344: UndefinedMetricWarning: Precision and F-score are ill-defined and being set to 0.0 in labels with no predicted samples. Use `zero_division` parameter to control this behavior.\n",
      "  _warn_prf(average, modifier, msg_start, len(result))\n",
      "c:\\Users\\Grego\\AppData\\Local\\Programs\\Python\\Python310\\lib\\site-packages\\sklearn\\metrics\\_classification.py:1344: UndefinedMetricWarning: Precision and F-score are ill-defined and being set to 0.0 in labels with no predicted samples. Use `zero_division` parameter to control this behavior.\n",
      "  _warn_prf(average, modifier, msg_start, len(result))\n"
     ]
    }
   ],
   "source": [
    "from sklearn.model_selection import KFold\n",
    "\n",
    "def train_validate_model(model, train_loader, val_loader, criterion, optimizer, n_epochs, device):\n",
    "    \"\"\"Train the model and evaluate on validation set.\"\"\"\n",
    "    model.train()\n",
    "    for epoch in range(n_epochs):\n",
    "        running_loss = 0.0\n",
    "        for X_batch, y_batch in train_loader:\n",
    "            X_batch, y_batch = X_batch.to(device), y_batch.to(device)\n",
    "            optimizer.zero_grad()\n",
    "            y_pred = model(X_batch)\n",
    "            loss = criterion(y_pred.squeeze(), y_batch)\n",
    "            loss.backward()\n",
    "            optimizer.step()\n",
    "            running_loss += loss.item() * X_batch.size(0)\n",
    "    \n",
    "    # Evaluate on validation set\n",
    "    model.eval()\n",
    "    y_true, y_pred = [], []\n",
    "    with torch.no_grad():\n",
    "        for X_batch, y_batch in val_loader:\n",
    "            X_batch, y_batch = X_batch.to(device), y_batch.to(device)\n",
    "            y_true.extend(y_batch.cpu().numpy())\n",
    "            y_pred_batch = model(X_batch)\n",
    "            y_pred.extend(y_pred_batch.cpu().numpy())\n",
    "    \n",
    "    y_pred = np.array(y_pred).squeeze()\n",
    "    y_pred_binary = (y_pred > 0.5).astype(int)\n",
    "    \n",
    "    precision = precision_score(y_true, y_pred_binary)\n",
    "    recall = recall_score(y_true, y_pred_binary)\n",
    "    f1 = f1_score(y_true, y_pred_binary)\n",
    "    \n",
    "    conf_matrix = confusion_matrix(y_true, y_pred_binary)\n",
    "    \n",
    "    return f1, conf_matrix, recall, precision\n",
    "\n",
    "def grid_search(train_data, val_data, hyperparameter_grid, device, n_epochs=10):\n",
    "    best_hyperparameters = None\n",
    "    best_f1 = float('-inf')\n",
    "    best_conf_matrix = None\n",
    "    best_precision = None\n",
    "    best_recall = None\n",
    "\n",
    "    for lr, dropout, num_channels, kernel_size in hyperparameter_grid:\n",
    "        print(f\"Training with learning rate: {lr}, dropout: {dropout}, channels: {num_channels}, kernel size: {kernel_size}\")\n",
    "        model = CNNModel(input_dim, num_channels, kernel_size, POOL_SIZE, dropout).to(device)\n",
    "        optimizer = Adam(model.parameters(), lr=lr)\n",
    "        criterion = BCEWithLogitsLoss()\n",
    "        \n",
    "        # Prepare data loaders\n",
    "        train_loader = DataLoader(train_data, batch_size=BATCH_SIZE, shuffle=True)\n",
    "        val_loader = DataLoader(val_data, batch_size=BATCH_SIZE, shuffle=False)\n",
    "        \n",
    "        # Train and evaluate\n",
    "        f1, conf_matrix, recall, precision = train_validate_model(model, train_loader, val_loader, criterion, optimizer, n_epochs, device)\n",
    "        \n",
    "        # Save the best hyperparameters based on F1 score\n",
    "        if f1 > best_f1:\n",
    "            best_f1 = f1\n",
    "            best_conf_matrix = conf_matrix\n",
    "            best_hyperparameters = (lr, dropout, num_channels, kernel_size)\n",
    "            best_precision = precision\n",
    "            best_recall = recall\n",
    "            print(f\"Found new best hyperparameters: {best_hyperparameters}\")\n",
    "\n",
    "    return best_hyperparameters, best_f1, best_conf_matrix, best_precision, best_recall\n",
    "\n",
    "\n",
    "# K-Fold Cross Validation\n",
    "kf = KFold(n_splits=10, shuffle=True, random_state=42)\n",
    "all_fold_results = []\n",
    "\n",
    "best_results_per_fold = []\n",
    "\n",
    "for fold, (train_index, test_index) in enumerate(kf.split(X_reshaped)):\n",
    "    print(f'Fold {fold + 1}')\n",
    "    \n",
    "    # Split data into train and test sets for this fold\n",
    "    X_train_fold, X_test_fold = X_reshaped[train_index], X_reshaped[test_index]\n",
    "    y_train_fold, y_test_fold = y[train_index], y[test_index]\n",
    "    \n",
    "    # Further split train into learning and validation sets\n",
    "    X_train_sub, X_val_sub, y_train_sub, y_val_sub = train_test_split(X_train_fold, y_train_fold, test_size=VALIDATION_SPLIT, random_state=42)\n",
    "    \n",
    "    # Convert to TensorDatasets\n",
    "    train_data_sub = TensorDataset(torch.tensor(X_train_sub, dtype=torch.float32), torch.tensor(y_train_sub.values, dtype=torch.float32))\n",
    "    val_data_sub = TensorDataset(torch.tensor(X_val_sub, dtype=torch.float32), torch.tensor(y_val_sub.values, dtype=torch.float32))\n",
    "    \n",
    "    # Perform grid search on the learning and validation set\n",
    "    best_hyperparameters, best_f1, best_conf_matrix, best_preicison, best_recall = grid_search(train_data_sub, val_data_sub, hyperparameter_grid, device, n_epochs=MAX_EPOCHS)\n",
    "    \n",
    "    print(f\"Best Hyperparameters for Fold {fold + 1}: {best_hyperparameters}\")\n",
    "    \n",
    "    best_results_per_fold.append([best_hyperparameters, best_f1, best_conf_matrix, best_preicison, best_recall])\n",
    "    \n",
    "    # Unpacking the correct hyperparameters for CNNModel\n",
    "    lr, dropout, num_channels, kernel_size = best_hyperparameters\n",
    "    print(f\"Training on full training set with best hyperparameters: {best_hyperparameters}\")\n",
    "    model = CNNModel(input_dim, num_channels, kernel_size, POOL_SIZE, dropout).to(device)\n",
    "    optimizer = Adam(model.parameters(), lr=lr)\n",
    "    \n",
    "    # Prepare final train and test loaders\n",
    "    train_data_final = TensorDataset(torch.tensor(X_train_fold, dtype=torch.float32), torch.tensor(y_train_fold.values, dtype=torch.float32))\n",
    "    test_data_final = TensorDataset(torch.tensor(X_test_fold, dtype=torch.float32), torch.tensor(y_test_fold.values, dtype=torch.float32))\n",
    "    \n",
    "    train_loader_final = DataLoader(train_data_final, batch_size=BATCH_SIZE, shuffle=True)\n",
    "    test_loader_final = DataLoader(test_data_final, batch_size=BATCH_SIZE, shuffle=False)\n",
    "    \n",
    "    # Train on the full training set\n",
    "    train_model(model, train_loader_final, criterion, optimizer, MAX_EPOCHS, device)\n",
    "    \n",
    "    # Evaluate on the test set\n",
    "    results = evaluate_model(model, test_loader_final, device)\n",
    "    \n"
   ]
  },
  {
   "cell_type": "code",
   "execution_count": 20,
   "metadata": {},
   "outputs": [
    {
     "name": "stdout",
     "output_type": "stream",
     "text": [
      "(0.001, 0.2, 64, 3)\n",
      "(0.001, 0.2, 64, 3)\n",
      "(0.001, 0.2, 64, 3)\n",
      "(0.001, 0.2, 64, 3)\n",
      "(0.001, 0.2, 64, 3)\n",
      "(0.001, 0.2, 64, 3)\n",
      "(0.001, 0.2, 64, 3)\n",
      "(0.001, 0.2, 64, 3)\n",
      "(0.001, 0.2, 64, 3)\n",
      "(0.001, 0.2, 64, 3)\n",
      "    Hyperparameters\n",
      "[[616, 0], [23, 0]]\n",
      "[[618, 0], [21, 0]]\n",
      "[[614, 0], [25, 0]]\n",
      "[[621, 0], [18, 0]]\n",
      "[[616, 0], [23, 0]]\n",
      "[[614, 0], [25, 0]]\n",
      "[[618, 0], [21, 0]]\n",
      "[[625, 0], [14, 0]]\n",
      "[[620, 0], [19, 0]]\n",
      "[[613, 0], [26, 0]]\n",
      "Dataset name is: ../../data/angina_dataset.csv\n"
     ]
    }
   ],
   "source": [
    "list_of_dicts = []\n",
    "def format_confusion_matrix(conf_matrix):\n",
    "    return f\"[[{conf_matrix[0][0]}, {conf_matrix[0][1]}]\\n [{conf_matrix[1][0]}, {conf_matrix[1][1]}]]\"\n",
    "\n",
    "for fold, i in enumerate(best_results_per_fold):\n",
    "    cleaned_hyperparameters = i[0]\n",
    "    cleaned_conf_matrix = i[2]\n",
    "    # i[1] round to 4 decimal places\n",
    "    converted_f1 = round(i[1], 4)\n",
    "    convert_precision = round(i[3], 4)\n",
    "    convert_recall = round(i[4], 4)\n",
    "    print(cleaned_hyperparameters)\n",
    "    #print(format_confusion_matrix(cleaned_conf_matrix))\n",
    "    list_of_dicts.append({'Hyperparameters': cleaned_conf_matrix})\n",
    "\n",
    "# Print the DataFrame without the index\n",
    "print(pd.DataFrame(list_of_dicts).to_string(index=False))\n",
    "\n",
    "print(f\"Dataset name is: {DATASET_PATH}\")"
   ]
  }
 ],
 "metadata": {
  "kernelspec": {
   "display_name": "Python 3",
   "language": "python",
   "name": "python3"
  },
  "language_info": {
   "codemirror_mode": {
    "name": "ipython",
    "version": 3
   },
   "file_extension": ".py",
   "mimetype": "text/x-python",
   "name": "python",
   "nbconvert_exporter": "python",
   "pygments_lexer": "ipython3",
   "version": "3.10.0"
  }
 },
 "nbformat": 4,
 "nbformat_minor": 2
}
